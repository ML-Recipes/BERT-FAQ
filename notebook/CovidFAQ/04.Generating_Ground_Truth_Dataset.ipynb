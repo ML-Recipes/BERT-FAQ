{
 "cells": [
  {
   "cell_type": "markdown",
   "metadata": {
    "id": "JoWilTNGKcrO"
   },
   "source": [
    "**Generating Ground-truth CovidFAQ dataset for model training**"
   ]
  },
  {
   "cell_type": "code",
   "execution_count": 1,
   "metadata": {
    "id": "jop-QMVBD5a1"
   },
   "outputs": [],
   "source": [
    "import sys\n",
    "sys.path.insert(0, '../../../BERT-FAQ/')\n",
    "\n",
    "# import class to generate training data\n",
    "from training_data_generator import Training_Data_Generator\n",
    "\n",
    "# import utility functions\n",
    "from shared.utils import load_from_json\n",
    "from shared.utils import dump_to_json\n",
    "from shared.utils import make_dirs"
   ]
  },
  {
   "cell_type": "code",
   "execution_count": 2,
   "metadata": {
    "id": "V3my3-bmcPF6"
   },
   "outputs": [],
   "source": [
    "# read query_answer_pairs\n",
    "filepath = '../../../BERT-FAQ/data/CovidFAQ/query_answer_pairs.json'\n",
    "\n",
    "query_answer_pairs = load_from_json(filepath)"
   ]
  },
  {
   "cell_type": "code",
   "execution_count": 3,
   "metadata": {},
   "outputs": [
    {
     "data": {
      "text/plain": [
       "[{'label': 1,\n",
       "  'query_type': 'faq',\n",
       "  'question': 'What is COVID-19? ',\n",
       "  'answer': 'COVID-19 is a new coronavirus that we have not seen previously; it is not the same as the flu or common cold. Coronaviruses are types of viruses that cause illnesses. These include the common cold, flu, to more severe diseases like Middle East Respiratory Syndrom (MERs-CoV) and Severe Acute Respiratory Syndrome (SARS-CoV).   [[Would you like to know more about COVID-19 symptoms?]]',\n",
       "  'id': '1'},\n",
       " {'label': 1,\n",
       "  'query_type': 'faq',\n",
       "  'question': 'What is a coronavirus?',\n",
       "  'answer': 'Coronavirus are a type of virus - there are many kinds, and some of them can cause disease. Examples of coronaviruses include the common cold, flu, to more severe diseases like Middle East Respiratory Syndrome (MERS-CoV) and Severe Acute Respiratory Syndrome (SARS-CoV).   COVID19 is a novel coronavirus that has been recently identified.   [[Would you like more information on COVID19?]] [[Would you like to know the symptoms of COVID19?]]    ',\n",
       "  'id': '2'},\n",
       " {'label': 1,\n",
       "  'query_type': 'faq',\n",
       "  'question': 'Any advice about how to minimize risk during grocery shopping trips or getting takeout.',\n",
       "  'answer': 'Currently, there is no evidence of food or food packaging being associated with transmission of COVID-19. Like other viruses, it is possible that the virus that causes COVID-19 can survive on surfaces or objects. For that reason, it is critical to wash your hands often, including utensils. Currently, there is no evidence of food or food packaging being associated with transmission of COVID-19. However, the virus that causes COVID-19 is spreading from person-to-person in some communities in the U.S. The CDC recommends that if you are sick, stay home until you are better and no longer pose a risk of infecting others. Anyone handling, preparing and serving food should always follow safe food handling procedures, such as washing hands and surfaces often.',\n",
       "  'id': '3'},\n",
       " {'label': 1,\n",
       "  'query_type': 'faq',\n",
       "  'question': 'Why do I have to stay at home?',\n",
       "  'answer': 'Socially distancing is a practice that aims to prevent those who are sick from coming into contact with those who are healthy. This is to reduce the opportunity for disease transmission. As COVID-19 spreads person-to-person in close contact, we want to reduce the chance of infection amongst populations that are vulnerable. This includes older adults (over the age of 65) and those with suppressed immune systems. It is also to help reduce the burden on healthcar esystems and workers, as there are not enough workers and beds to care for patients if everyone were to have COVID-19 at the same time.',\n",
       "  'id': '4'},\n",
       " {'label': 1,\n",
       "  'query_type': 'faq',\n",
       "  'question': 'What is social distancing and how does it help to minimize COVID-19?',\n",
       "  'answer': 'Social distancing is one of the most effective ways to reduce the spread of illness during an outbreak, but it is sometimes hard to understand what this means given the vague language. What it means is to stay at home as much as possible, and limit your outside exposure. This does mean meaking changes to your everyday routine to minimize contacts with others, including:   avoiding non-essential gatherings avoiding common greetings, such as handshakes avoiding crowded places such as concerts, arenas, conferences and festivals limiting contact with people at higher risk like older adults and those in poor health keeping a distance of at least 2 arms-length (approximately 6 feet) from others  For example - if you need to go grocery shopping, limit to once a week. If you go on walks, make sure you maintain a 6 foot distance between yourself and others.',\n",
       "  'id': '5'}]"
      ]
     },
     "execution_count": 3,
     "metadata": {},
     "output_type": "execute_result"
    }
   ],
   "source": [
    "# check first 5 entries\n",
    "query_answer_pairs[:5]"
   ]
  },
  {
   "cell_type": "code",
   "execution_count": 4,
   "metadata": {},
   "outputs": [],
   "source": [
    "####################### Triplet Loss ########################\n",
    "# simple Type\n",
    "tdg = Training_Data_Generator(\n",
    "    random_seed=5, num_samples=24, hard_filepath='../../../BERT-FAQ/data/CovidFAQ/', \n",
    "    neg_type='simple', query_type='faq', loss_type='triplet'\n",
    ")\n",
    "tdg.generate_triplet_dataset(\n",
    "    query_answer_pairs=query_answer_pairs, \n",
    "    output_path='../../../BERT-FAQ/data/CovidFAQ/'\n",
    ")\n",
    "\n",
    "\n",
    "# hard Type\n",
    "tdg = Training_Data_Generator(\n",
    "    random_seed=5, num_samples=24, hard_filepath='../../../BERT-FAQ/data/CovidFAQ/', \n",
    "    neg_type='hard', query_type='faq', loss_type='triplet'\n",
    ")\n",
    "tdg.generate_triplet_dataset(\n",
    "    query_answer_pairs=query_answer_pairs, \n",
    "    output_path='../../../BERT-FAQ/data/CovidFAQ/'\n",
    ")\n",
    "\n",
    "\n",
    "tdg = Training_Data_Generator(\n",
    "    random_seed=5, num_samples=24, hard_filepath='../../../BERT-FAQ/data/CovidFAQ/', \n",
    "    neg_type='simple', query_type='user_query', loss_type='triplet'\n",
    ")\n",
    "tdg.generate_triplet_dataset(\n",
    "    query_answer_pairs=query_answer_pairs, \n",
    "    output_path='../../../BERT-FAQ/data/CovidFAQ/'\n",
    ")\n",
    "\n",
    "\n",
    "# hard Type\n",
    "tdg = Training_Data_Generator(\n",
    "    random_seed=5, num_samples=24, hard_filepath='../../../BERT-FAQ/data/CovidFAQ/', \n",
    "    neg_type='hard', query_type='user_query', loss_type='triplet'\n",
    ")\n",
    "tdg.generate_triplet_dataset(\n",
    "    query_answer_pairs=query_answer_pairs, \n",
    "    output_path='../../../BERT-FAQ/data/CovidFAQ/'\n",
    ")\n",
    "\n",
    "\n",
    "####################### Softmax Loss ########################\n",
    "# simple Type\n",
    "tdg = Training_Data_Generator(\n",
    "    random_seed=5, num_samples=24, hard_filepath='../../../BERT-FAQ/data/CovidFAQ/', \n",
    "    neg_type='simple', query_type='faq', loss_type='softmax'\n",
    ")\n",
    "tdg.generate_triplet_dataset(\n",
    "    query_answer_pairs=query_answer_pairs, \n",
    "    output_path='../../../BERT-FAQ/data/CovidFAQ/'\n",
    ")\n",
    "\n",
    "# hard Type\n",
    "tdg = Training_Data_Generator(\n",
    "    random_seed=5, num_samples=24, hard_filepath='../../../BERT-FAQ/data/CovidFAQ/', \n",
    "    neg_type='hard', query_type='faq', loss_type='softmax'\n",
    ")\n",
    "tdg.generate_triplet_dataset(\n",
    "    query_answer_pairs=query_answer_pairs, \n",
    "    output_path='../../../BERT-FAQ/data/CovidFAQ/'\n",
    ")\n",
    "\n",
    "# simple Type\n",
    "tdg = Training_Data_Generator(\n",
    "    random_seed=5, num_samples=24, hard_filepath='../../../BERT-FAQ/data/CovidFAQ/', \n",
    "    neg_type='simple', query_type='user_query', loss_type='softmax'\n",
    ")\n",
    "tdg.generate_triplet_dataset(\n",
    "    query_answer_pairs=query_answer_pairs, \n",
    "    output_path='../../../BERT-FAQ/data/CovidFAQ/'\n",
    ")\n",
    "\n",
    "# hard Type\n",
    "tdg = Training_Data_Generator(\n",
    "    random_seed=5, num_samples=24, hard_filepath='../../../BERT-FAQ/data/CovidFAQ/', \n",
    "    neg_type='hard', query_type='user_query', loss_type='softmax'\n",
    ")\n",
    "tdg.generate_triplet_dataset(\n",
    "    query_answer_pairs=query_answer_pairs, \n",
    "    output_path='../../../BERT-FAQ/data/CovidFAQ/'\n",
    ")\n"
   ]
  }
 ],
 "metadata": {
  "accelerator": "GPU",
  "colab": {
   "collapsed_sections": [],
   "name": "01_Generating_Ground_Truth_Dataset_for_FAQIR.ipynb",
   "provenance": []
  },
  "kernelspec": {
   "display_name": "Python 3",
   "language": "python",
   "name": "python3"
  },
  "language_info": {
   "codemirror_mode": {
    "name": "ipython",
    "version": 3
   },
   "file_extension": ".py",
   "mimetype": "text/x-python",
   "name": "python",
   "nbconvert_exporter": "python",
   "pygments_lexer": "ipython3",
   "version": "3.8.5"
  }
 },
 "nbformat": 4,
 "nbformat_minor": 1
}
