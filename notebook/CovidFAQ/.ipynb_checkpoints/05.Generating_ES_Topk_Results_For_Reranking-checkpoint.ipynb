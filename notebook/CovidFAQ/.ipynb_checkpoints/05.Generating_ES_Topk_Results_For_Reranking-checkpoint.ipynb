{
 "cells": [
  {
   "cell_type": "markdown",
   "metadata": {},
   "source": [
    "**Generating Elasticsearch Top-k Results for Re-ranking**"
   ]
  },
  {
   "cell_type": "code",
   "execution_count": 1,
   "metadata": {},
   "outputs": [
    {
     "name": "stdout",
     "output_type": "stream",
     "text": [
      "Requirement already satisfied: elasticsearch in /Users/nattiya/miniconda3/envs/dl/lib/python3.8/site-packages (7.9.1)\r\n",
      "Requirement already satisfied: certifi in /Users/nattiya/miniconda3/envs/dl/lib/python3.8/site-packages (from elasticsearch) (2020.12.5)\r\n",
      "Requirement already satisfied: urllib3>=1.21.1 in /Users/nattiya/miniconda3/envs/dl/lib/python3.8/site-packages (from elasticsearch) (1.25.10)\r\n"
     ]
    }
   ],
   "source": [
    "!pip3 install elasticsearch"
   ]
  },
  {
   "cell_type": "code",
   "execution_count": 2,
   "metadata": {
    "scrolled": true
   },
   "outputs": [
    {
     "name": "stdout",
     "output_type": "stream",
     "text": [
      "Requirement already satisfied: elasticsearch-dsl in /Users/nattiya/miniconda3/envs/dl/lib/python3.8/site-packages (7.3.0)\n",
      "Requirement already satisfied: elasticsearch<8.0.0,>=7.0.0 in /Users/nattiya/miniconda3/envs/dl/lib/python3.8/site-packages (from elasticsearch-dsl) (7.9.1)\n",
      "Requirement already satisfied: six in /Users/nattiya/miniconda3/envs/dl/lib/python3.8/site-packages (from elasticsearch-dsl) (1.15.0)\n",
      "Requirement already satisfied: python-dateutil in /Users/nattiya/miniconda3/envs/dl/lib/python3.8/site-packages (from elasticsearch-dsl) (2.8.1)\n",
      "Requirement already satisfied: urllib3>=1.21.1 in /Users/nattiya/miniconda3/envs/dl/lib/python3.8/site-packages (from elasticsearch<8.0.0,>=7.0.0->elasticsearch-dsl) (1.25.10)\n",
      "Requirement already satisfied: certifi in /Users/nattiya/miniconda3/envs/dl/lib/python3.8/site-packages (from elasticsearch<8.0.0,>=7.0.0->elasticsearch-dsl) (2020.12.5)\n"
     ]
    }
   ],
   "source": [
    "!pip3 install elasticsearch-dsl"
   ]
  },
  {
   "cell_type": "code",
   "execution_count": 3,
   "metadata": {},
   "outputs": [],
   "source": [
    "from elasticsearch import Elasticsearch\n",
    "\n",
    "import sys\n",
    "sys.path.insert(0, '../../../BERT-FAQ/')\n",
    "\n",
    "# import required classes and functions\n",
    "from reranker import ReRanker\n",
    "from evaluation import get_relevance_label_df\n",
    "\n",
    "# import utility functions\n",
    "from shared.utils import load_from_json\n",
    "from shared.utils import dump_to_json\n",
    "from shared.utils import make_dirs"
   ]
  },
  {
   "cell_type": "code",
   "execution_count": 4,
   "metadata": {},
   "outputs": [],
   "source": [
    "# Generate list of test queries, relevance labels for ReRanker class\n",
    "query_answer_pair_filepath = '../../../BERT-FAQ/data/CovidFAQ/query_answer_pairs.json'\n",
    "relevance_label_df = get_relevance_label_df(query_answer_pair_filepath)\n",
    "test_queries = relevance_label_df[relevance_label_df['query_type'] == 'user_query'].question.unique()"
   ]
  },
  {
   "cell_type": "code",
   "execution_count": 5,
   "metadata": {},
   "outputs": [
    {
     "data": {
      "text/plain": [
       "array(['What does Corona and Covid mean?',\n",
       "       'when will the social distancing end? and what is the economic consequent of the pandemic?',\n",
       "       'How do I go grocery shopping? ', 'what is covid 19',\n",
       "       \"What is COVID-19's definition?\"], dtype=object)"
      ]
     },
     "execution_count": 5,
     "metadata": {},
     "output_type": "execute_result"
    }
   ],
   "source": [
    "# check first 5 occurences for test_queries\n",
    "test_queries[:5]"
   ]
  },
  {
   "cell_type": "code",
   "execution_count": 6,
   "metadata": {},
   "outputs": [
    {
     "data": {
      "text/html": [
       "<div>\n",
       "<style scoped>\n",
       "    .dataframe tbody tr th:only-of-type {\n",
       "        vertical-align: middle;\n",
       "    }\n",
       "\n",
       "    .dataframe tbody tr th {\n",
       "        vertical-align: top;\n",
       "    }\n",
       "\n",
       "    .dataframe thead th {\n",
       "        text-align: right;\n",
       "    }\n",
       "</style>\n",
       "<table border=\"1\" class=\"dataframe\">\n",
       "  <thead>\n",
       "    <tr style=\"text-align: right;\">\n",
       "      <th></th>\n",
       "      <th>label</th>\n",
       "      <th>query_type</th>\n",
       "      <th>question</th>\n",
       "      <th>answer</th>\n",
       "      <th>id</th>\n",
       "    </tr>\n",
       "  </thead>\n",
       "  <tbody>\n",
       "    <tr>\n",
       "      <th>0</th>\n",
       "      <td>1</td>\n",
       "      <td>faq</td>\n",
       "      <td>What is COVID-19?</td>\n",
       "      <td>COVID-19 is a new coronavirus that we have not...</td>\n",
       "      <td>1</td>\n",
       "    </tr>\n",
       "    <tr>\n",
       "      <th>1</th>\n",
       "      <td>1</td>\n",
       "      <td>faq</td>\n",
       "      <td>What is a coronavirus?</td>\n",
       "      <td>Coronavirus are a type of virus - there are ma...</td>\n",
       "      <td>2</td>\n",
       "    </tr>\n",
       "    <tr>\n",
       "      <th>2</th>\n",
       "      <td>1</td>\n",
       "      <td>faq</td>\n",
       "      <td>Any advice about how to minimize risk during g...</td>\n",
       "      <td>Currently, there is no evidence of food or foo...</td>\n",
       "      <td>3</td>\n",
       "    </tr>\n",
       "    <tr>\n",
       "      <th>3</th>\n",
       "      <td>1</td>\n",
       "      <td>faq</td>\n",
       "      <td>Why do I have to stay at home?</td>\n",
       "      <td>Socially distancing is a practice that aims to...</td>\n",
       "      <td>4</td>\n",
       "    </tr>\n",
       "    <tr>\n",
       "      <th>4</th>\n",
       "      <td>1</td>\n",
       "      <td>faq</td>\n",
       "      <td>What is social distancing and how does it help...</td>\n",
       "      <td>Social distancing is one of the most effective...</td>\n",
       "      <td>5</td>\n",
       "    </tr>\n",
       "    <tr>\n",
       "      <th>...</th>\n",
       "      <td>...</td>\n",
       "      <td>...</td>\n",
       "      <td>...</td>\n",
       "      <td>...</td>\n",
       "      <td>...</td>\n",
       "    </tr>\n",
       "    <tr>\n",
       "      <th>1450</th>\n",
       "      <td>1</td>\n",
       "      <td>user_query</td>\n",
       "      <td>will coronavirus stop in summer</td>\n",
       "      <td>We do not know. Some viruses, like the common ...</td>\n",
       "      <td>1451</td>\n",
       "    </tr>\n",
       "    <tr>\n",
       "      <th>1451</th>\n",
       "      <td>1</td>\n",
       "      <td>user_query</td>\n",
       "      <td>will coronavirus stop in the summer</td>\n",
       "      <td>We do not know. Some viruses, like the common ...</td>\n",
       "      <td>1452</td>\n",
       "    </tr>\n",
       "    <tr>\n",
       "      <th>1452</th>\n",
       "      <td>1</td>\n",
       "      <td>user_query</td>\n",
       "      <td>will coronavirus survive in the summer</td>\n",
       "      <td>We do not know. Some viruses, like the common ...</td>\n",
       "      <td>1453</td>\n",
       "    </tr>\n",
       "    <tr>\n",
       "      <th>1453</th>\n",
       "      <td>1</td>\n",
       "      <td>user_query</td>\n",
       "      <td>will coronavirus survive on surfaces</td>\n",
       "      <td>A recent study shows that the virus can live i...</td>\n",
       "      <td>1454</td>\n",
       "    </tr>\n",
       "    <tr>\n",
       "      <th>1454</th>\n",
       "      <td>1</td>\n",
       "      <td>user_query</td>\n",
       "      <td>world coronavirus die in summer</td>\n",
       "      <td>We do not know. Some viruses, like the common ...</td>\n",
       "      <td>1455</td>\n",
       "    </tr>\n",
       "  </tbody>\n",
       "</table>\n",
       "<p>1455 rows × 5 columns</p>\n",
       "</div>"
      ],
      "text/plain": [
       "      label  query_type                                           question  \\\n",
       "0         1         faq                                 What is COVID-19?    \n",
       "1         1         faq                             What is a coronavirus?   \n",
       "2         1         faq  Any advice about how to minimize risk during g...   \n",
       "3         1         faq                     Why do I have to stay at home?   \n",
       "4         1         faq  What is social distancing and how does it help...   \n",
       "...     ...         ...                                                ...   \n",
       "1450      1  user_query                    will coronavirus stop in summer   \n",
       "1451      1  user_query                will coronavirus stop in the summer   \n",
       "1452      1  user_query             will coronavirus survive in the summer   \n",
       "1453      1  user_query               will coronavirus survive on surfaces   \n",
       "1454      1  user_query                    world coronavirus die in summer   \n",
       "\n",
       "                                                 answer    id  \n",
       "0     COVID-19 is a new coronavirus that we have not...     1  \n",
       "1     Coronavirus are a type of virus - there are ma...     2  \n",
       "2     Currently, there is no evidence of food or foo...     3  \n",
       "3     Socially distancing is a practice that aims to...     4  \n",
       "4     Social distancing is one of the most effective...     5  \n",
       "...                                                 ...   ...  \n",
       "1450  We do not know. Some viruses, like the common ...  1451  \n",
       "1451  We do not know. Some viruses, like the common ...  1452  \n",
       "1452  We do not know. Some viruses, like the common ...  1453  \n",
       "1453  A recent study shows that the virus can live i...  1454  \n",
       "1454  We do not know. Some viruses, like the common ...  1455  \n",
       "\n",
       "[1455 rows x 5 columns]"
      ]
     },
     "execution_count": 6,
     "metadata": {},
     "output_type": "execute_result"
    }
   ],
   "source": [
    "# check relevance_label_df\n",
    "relevance_label_df"
   ]
  },
  {
   "cell_type": "code",
   "execution_count": 7,
   "metadata": {},
   "outputs": [],
   "source": [
    "# Define instance of ReRanker class\n",
    "r = ReRanker(\n",
    "    bert_model_path='', \n",
    "    test_queries=test_queries, relevance_label_df=relevance_label_df\n",
    ")"
   ]
  },
  {
   "cell_type": "code",
   "execution_count": 8,
   "metadata": {},
   "outputs": [],
   "source": [
    "# create output path to save Elasticsearch top-k results\n",
    "output_path = \"../../../BERT-FAQ/data/CovidFAQ/rank_results/unsupervised\"\n",
    "make_dirs(output_path)"
   ]
  },
  {
   "cell_type": "code",
   "execution_count": 9,
   "metadata": {},
   "outputs": [],
   "source": [
    "# Select top-k value\n",
    "top_k = 100"
   ]
  },
  {
   "cell_type": "code",
   "execution_count": 10,
   "metadata": {
    "scrolled": false
   },
   "outputs": [
    {
     "name": "stderr",
     "output_type": "stream",
     "text": [
      "2021-06-07 14:05:52 - Generating ES top-k results ...\n"
     ]
    },
    {
     "ename": "ValueError",
     "evalue": "The truth value of an array with more than one element is ambiguous. Use a.any() or a.all()",
     "output_type": "error",
     "traceback": [
      "\u001b[0;31m---------------------------------------------------------------------------\u001b[0m",
      "\u001b[0;31mValueError\u001b[0m                                Traceback (most recent call last)",
      "\u001b[0;32m<ipython-input-10-e3c7dc582c0d>\u001b[0m in \u001b[0;36m<module>\u001b[0;34m\u001b[0m\n\u001b[1;32m      3\u001b[0m \u001b[0mes\u001b[0m \u001b[0;34m=\u001b[0m \u001b[0mElasticsearch\u001b[0m\u001b[0;34m(\u001b[0m\u001b[0;34m[\u001b[0m\u001b[0;34m{\u001b[0m\u001b[0;34m'host'\u001b[0m\u001b[0;34m:\u001b[0m\u001b[0;34m'localhost'\u001b[0m\u001b[0;34m,\u001b[0m\u001b[0;34m'port'\u001b[0m\u001b[0;34m:\u001b[0m\u001b[0;36m9200\u001b[0m\u001b[0;34m}\u001b[0m\u001b[0;34m]\u001b[0m\u001b[0;34m,\u001b[0m \u001b[0mhttp_auth\u001b[0m\u001b[0;34m=\u001b[0m\u001b[0;34m(\u001b[0m\u001b[0;34m'elastic'\u001b[0m\u001b[0;34m,\u001b[0m \u001b[0;34m'ACQLGl2SMwH2hqwbHnZA'\u001b[0m\u001b[0;34m)\u001b[0m\u001b[0;34m)\u001b[0m\u001b[0;34m\u001b[0m\u001b[0;34m\u001b[0m\u001b[0m\n\u001b[1;32m      4\u001b[0m \u001b[0;34m\u001b[0m\u001b[0m\n\u001b[0;32m----> 5\u001b[0;31m \u001b[0mes_query_by_question\u001b[0m \u001b[0;34m=\u001b[0m \u001b[0mr\u001b[0m\u001b[0;34m.\u001b[0m\u001b[0mget_es_topk_results\u001b[0m\u001b[0;34m(\u001b[0m\u001b[0mes\u001b[0m\u001b[0;34m=\u001b[0m\u001b[0mes\u001b[0m\u001b[0;34m,\u001b[0m \u001b[0mindex\u001b[0m\u001b[0;34m=\u001b[0m\u001b[0;34m'covidfaq'\u001b[0m\u001b[0;34m,\u001b[0m \u001b[0mquery_by\u001b[0m\u001b[0;34m=\u001b[0m\u001b[0;34m[\u001b[0m\u001b[0;34m'question'\u001b[0m\u001b[0;34m]\u001b[0m\u001b[0;34m,\u001b[0m \u001b[0mtop_k\u001b[0m\u001b[0;34m=\u001b[0m\u001b[0mtop_k\u001b[0m\u001b[0;34m)\u001b[0m\u001b[0;34m\u001b[0m\u001b[0;34m\u001b[0m\u001b[0m\n\u001b[0m\u001b[1;32m      6\u001b[0m \u001b[0mes_query_by_answer\u001b[0m \u001b[0;34m=\u001b[0m \u001b[0mr\u001b[0m\u001b[0;34m.\u001b[0m\u001b[0mget_es_topk_results\u001b[0m\u001b[0;34m(\u001b[0m\u001b[0mes\u001b[0m\u001b[0;34m=\u001b[0m\u001b[0mes\u001b[0m\u001b[0;34m,\u001b[0m \u001b[0mindex\u001b[0m\u001b[0;34m=\u001b[0m\u001b[0;34m'covidfaq'\u001b[0m\u001b[0;34m,\u001b[0m \u001b[0mquery_by\u001b[0m\u001b[0;34m=\u001b[0m\u001b[0;34m[\u001b[0m\u001b[0;34m'answer'\u001b[0m\u001b[0;34m]\u001b[0m\u001b[0;34m,\u001b[0m \u001b[0mtop_k\u001b[0m\u001b[0;34m=\u001b[0m\u001b[0mtop_k\u001b[0m\u001b[0;34m)\u001b[0m\u001b[0;34m\u001b[0m\u001b[0;34m\u001b[0m\u001b[0m\n\u001b[1;32m      7\u001b[0m \u001b[0mes_query_by_question_answer\u001b[0m \u001b[0;34m=\u001b[0m \u001b[0mr\u001b[0m\u001b[0;34m.\u001b[0m\u001b[0mget_es_topk_results\u001b[0m\u001b[0;34m(\u001b[0m\u001b[0mes\u001b[0m\u001b[0;34m=\u001b[0m\u001b[0mes\u001b[0m\u001b[0;34m,\u001b[0m \u001b[0mindex\u001b[0m\u001b[0;34m=\u001b[0m\u001b[0;34m'covidfaq'\u001b[0m\u001b[0;34m,\u001b[0m \u001b[0mquery_by\u001b[0m\u001b[0;34m=\u001b[0m\u001b[0;34m[\u001b[0m\u001b[0;34m'question'\u001b[0m\u001b[0;34m,\u001b[0m \u001b[0;34m'answer'\u001b[0m\u001b[0;34m]\u001b[0m\u001b[0;34m,\u001b[0m \u001b[0mtop_k\u001b[0m\u001b[0;34m=\u001b[0m\u001b[0mtop_k\u001b[0m\u001b[0;34m)\u001b[0m\u001b[0;34m\u001b[0m\u001b[0;34m\u001b[0m\u001b[0m\n",
      "\u001b[0;32m~/Development/4_Data_Science/Projects/ML-Recipes/BERT-FAQ/reranker.py\u001b[0m in \u001b[0;36mget_es_topk_results\u001b[0;34m(self, es, index, query_by, top_k)\u001b[0m\n\u001b[1;32m     62\u001b[0m         \u001b[0mes_topk_results\u001b[0m \u001b[0;34m=\u001b[0m \u001b[0;34m[\u001b[0m\u001b[0;34m]\u001b[0m\u001b[0;34m\u001b[0m\u001b[0;34m\u001b[0m\u001b[0m\n\u001b[1;32m     63\u001b[0m \u001b[0;34m\u001b[0m\u001b[0m\n\u001b[0;32m---> 64\u001b[0;31m         \u001b[0;32mif\u001b[0m \u001b[0mself\u001b[0m\u001b[0;34m.\u001b[0m\u001b[0mtest_queries\u001b[0m\u001b[0;34m:\u001b[0m\u001b[0;34m\u001b[0m\u001b[0;34m\u001b[0m\u001b[0m\n\u001b[0m\u001b[1;32m     65\u001b[0m             \u001b[0;32mfor\u001b[0m \u001b[0mquery_string\u001b[0m \u001b[0;32min\u001b[0m \u001b[0mtqdm\u001b[0m\u001b[0;34m(\u001b[0m\u001b[0mself\u001b[0m\u001b[0;34m.\u001b[0m\u001b[0mtest_queries\u001b[0m\u001b[0;34m)\u001b[0m\u001b[0;34m:\u001b[0m\u001b[0;34m\u001b[0m\u001b[0;34m\u001b[0m\u001b[0m\n\u001b[1;32m     66\u001b[0m \u001b[0;34m\u001b[0m\u001b[0m\n",
      "\u001b[0;31mValueError\u001b[0m: The truth value of an array with more than one element is ambiguous. Use a.any() or a.all()"
     ]
    }
   ],
   "source": [
    "# Get top-k Elasticsearch results \n",
    "\n",
    "es = Elasticsearch([{'host':'localhost','port':9200}], http_auth=('elastic', 'ACQLGl2SMwH2hqwbHnZA')) \n",
    "\n",
    "es_query_by_question = r.get_es_topk_results(es=es, index='covidfaq', query_by=['question'], top_k=top_k)\n",
    "es_query_by_answer = r.get_es_topk_results(es=es, index='covidfaq', query_by=['answer'], top_k=top_k)\n",
    "es_query_by_question_answer = r.get_es_topk_results(es=es, index='covidfaq', query_by=['question', 'answer'], top_k=top_k)\n",
    "es_query_by_question_answer_concat = r.get_es_topk_results(es=es, index='covidfaq', query_by=['question_answer'], top_k=top_k)"
   ]
  },
  {
   "cell_type": "code",
   "execution_count": null,
   "metadata": {},
   "outputs": [],
   "source": [
    "# Save Elasticsearch results to json files\n",
    "dump_to_json(es_query_by_question, output_path + '/es_query_by_question.json')\n",
    "dump_to_json(es_query_by_answer, output_path + '/es_query_by_answer.json')\n",
    "dump_to_json(es_query_by_question_answer, output_path + '/es_query_by_question_answer.json')\n",
    "dump_to_json(es_query_by_question_answer_concat, output_path + '/es_query_by_question_answer_concat.json')"
   ]
  }
 ],
 "metadata": {
  "kernelspec": {
   "display_name": "Python 3",
   "language": "python",
   "name": "python3"
  },
  "language_info": {
   "codemirror_mode": {
    "name": "ipython",
    "version": 3
   },
   "file_extension": ".py",
   "mimetype": "text/x-python",
   "name": "python",
   "nbconvert_exporter": "python",
   "pygments_lexer": "ipython3",
   "version": "3.8.5"
  }
 },
 "nbformat": 4,
 "nbformat_minor": 4
}
