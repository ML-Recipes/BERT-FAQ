{
 "cells": [
  {
   "cell_type": "markdown",
   "metadata": {
    "id": "JoWilTNGKcrO"
   },
   "source": [
    "**Generating Hard Negatives for CovidFAQ**"
   ]
  },
  {
   "cell_type": "code",
   "execution_count": 1,
   "metadata": {},
   "outputs": [
    {
     "name": "stdout",
     "output_type": "stream",
     "text": [
      "Requirement already satisfied: elasticsearch in /usr/local/lib/python3.8/site-packages (7.8.1)\r\n",
      "Requirement already satisfied: certifi in /usr/local/lib/python3.8/site-packages (from elasticsearch) (2020.6.20)\r\n",
      "Requirement already satisfied: urllib3>=1.21.1 in /usr/local/lib/python3.8/site-packages (from elasticsearch) (1.23)\r\n"
     ]
    }
   ],
   "source": [
    "!pip3 install elasticsearch"
   ]
  },
  {
   "cell_type": "code",
   "execution_count": 2,
   "metadata": {},
   "outputs": [
    {
     "name": "stdout",
     "output_type": "stream",
     "text": [
      "Requirement already satisfied: elasticsearch-dsl in /usr/local/lib/python3.8/site-packages (7.3.0)\n",
      "Requirement already satisfied: elasticsearch<8.0.0,>=7.0.0 in /usr/local/lib/python3.8/site-packages (from elasticsearch-dsl) (7.8.1)\n",
      "Requirement already satisfied: python-dateutil in /usr/local/lib/python3.8/site-packages (from elasticsearch-dsl) (2.8.1)\n",
      "Requirement already satisfied: six in /usr/local/lib/python3.8/site-packages (from elasticsearch-dsl) (1.15.0)\n",
      "Requirement already satisfied: urllib3>=1.21.1 in /usr/local/lib/python3.8/site-packages (from elasticsearch<8.0.0,>=7.0.0->elasticsearch-dsl) (1.23)\n",
      "Requirement already satisfied: certifi in /usr/local/lib/python3.8/site-packages (from elasticsearch<8.0.0,>=7.0.0->elasticsearch-dsl) (2020.6.20)\n"
     ]
    }
   ],
   "source": [
    "!pip3 install elasticsearch-dsl"
   ]
  },
  {
   "cell_type": "code",
   "execution_count": 3,
   "metadata": {
    "id": "jop-QMVBD5a1"
   },
   "outputs": [],
   "source": [
    "from elasticsearch import Elasticsearch\n",
    "\n",
    "import sys\n",
    "sys.path.insert(0, '../../../BERT-FAQ/')\n",
    "\n",
    "from evaluation import get_relevance_label_df\n",
    "from evaluation import get_relevance_label\n",
    "from hard_negatives_generator import Hard_Negatives_Generator\n",
    "\n",
    "# import utility functions\n",
    "from shared.utils import load_from_json\n",
    "from shared.utils import dump_to_json\n",
    "from shared.utils import make_dirs"
   ]
  },
  {
   "cell_type": "code",
   "execution_count": 4,
   "metadata": {},
   "outputs": [
    {
     "data": {
      "text/html": [
       "<div>\n",
       "<style scoped>\n",
       "    .dataframe tbody tr th:only-of-type {\n",
       "        vertical-align: middle;\n",
       "    }\n",
       "\n",
       "    .dataframe tbody tr th {\n",
       "        vertical-align: top;\n",
       "    }\n",
       "\n",
       "    .dataframe thead th {\n",
       "        text-align: right;\n",
       "    }\n",
       "</style>\n",
       "<table border=\"1\" class=\"dataframe\">\n",
       "  <thead>\n",
       "    <tr style=\"text-align: right;\">\n",
       "      <th></th>\n",
       "      <th>label</th>\n",
       "      <th>query_type</th>\n",
       "      <th>question</th>\n",
       "      <th>answer</th>\n",
       "      <th>id</th>\n",
       "    </tr>\n",
       "  </thead>\n",
       "  <tbody>\n",
       "    <tr>\n",
       "      <th>0</th>\n",
       "      <td>1</td>\n",
       "      <td>faq</td>\n",
       "      <td>What is COVID-19?</td>\n",
       "      <td>COVID-19 is a new coronavirus that we have not...</td>\n",
       "      <td>1</td>\n",
       "    </tr>\n",
       "    <tr>\n",
       "      <th>1</th>\n",
       "      <td>1</td>\n",
       "      <td>faq</td>\n",
       "      <td>What is a coronavirus?</td>\n",
       "      <td>Coronavirus are a type of virus - there are ma...</td>\n",
       "      <td>2</td>\n",
       "    </tr>\n",
       "    <tr>\n",
       "      <th>2</th>\n",
       "      <td>1</td>\n",
       "      <td>faq</td>\n",
       "      <td>Any advice about how to minimize risk during g...</td>\n",
       "      <td>Currently, there is no evidence of food or foo...</td>\n",
       "      <td>3</td>\n",
       "    </tr>\n",
       "    <tr>\n",
       "      <th>3</th>\n",
       "      <td>1</td>\n",
       "      <td>faq</td>\n",
       "      <td>Why do I have to stay at home?</td>\n",
       "      <td>Socially distancing is a practice that aims to...</td>\n",
       "      <td>4</td>\n",
       "    </tr>\n",
       "    <tr>\n",
       "      <th>4</th>\n",
       "      <td>1</td>\n",
       "      <td>faq</td>\n",
       "      <td>What is social distancing and how does it help...</td>\n",
       "      <td>Social distancing is one of the most effective...</td>\n",
       "      <td>5</td>\n",
       "    </tr>\n",
       "    <tr>\n",
       "      <th>...</th>\n",
       "      <td>...</td>\n",
       "      <td>...</td>\n",
       "      <td>...</td>\n",
       "      <td>...</td>\n",
       "      <td>...</td>\n",
       "    </tr>\n",
       "    <tr>\n",
       "      <th>1450</th>\n",
       "      <td>1</td>\n",
       "      <td>user_query</td>\n",
       "      <td>will coronavirus stop in summer</td>\n",
       "      <td>We do not know. Some viruses, like the common ...</td>\n",
       "      <td>1451</td>\n",
       "    </tr>\n",
       "    <tr>\n",
       "      <th>1451</th>\n",
       "      <td>1</td>\n",
       "      <td>user_query</td>\n",
       "      <td>will coronavirus stop in the summer</td>\n",
       "      <td>We do not know. Some viruses, like the common ...</td>\n",
       "      <td>1452</td>\n",
       "    </tr>\n",
       "    <tr>\n",
       "      <th>1452</th>\n",
       "      <td>1</td>\n",
       "      <td>user_query</td>\n",
       "      <td>will coronavirus survive in the summer</td>\n",
       "      <td>We do not know. Some viruses, like the common ...</td>\n",
       "      <td>1453</td>\n",
       "    </tr>\n",
       "    <tr>\n",
       "      <th>1453</th>\n",
       "      <td>1</td>\n",
       "      <td>user_query</td>\n",
       "      <td>will coronavirus survive on surfaces</td>\n",
       "      <td>A recent study shows that the virus can live i...</td>\n",
       "      <td>1454</td>\n",
       "    </tr>\n",
       "    <tr>\n",
       "      <th>1454</th>\n",
       "      <td>1</td>\n",
       "      <td>user_query</td>\n",
       "      <td>world coronavirus die in summer</td>\n",
       "      <td>We do not know. Some viruses, like the common ...</td>\n",
       "      <td>1455</td>\n",
       "    </tr>\n",
       "  </tbody>\n",
       "</table>\n",
       "<p>1455 rows × 5 columns</p>\n",
       "</div>"
      ],
      "text/plain": [
       "      label  query_type                                           question  \\\n",
       "0         1         faq                                 What is COVID-19?    \n",
       "1         1         faq                             What is a coronavirus?   \n",
       "2         1         faq  Any advice about how to minimize risk during g...   \n",
       "3         1         faq                     Why do I have to stay at home?   \n",
       "4         1         faq  What is social distancing and how does it help...   \n",
       "...     ...         ...                                                ...   \n",
       "1450      1  user_query                    will coronavirus stop in summer   \n",
       "1451      1  user_query                will coronavirus stop in the summer   \n",
       "1452      1  user_query             will coronavirus survive in the summer   \n",
       "1453      1  user_query               will coronavirus survive on surfaces   \n",
       "1454      1  user_query                    world coronavirus die in summer   \n",
       "\n",
       "                                                 answer    id  \n",
       "0     COVID-19 is a new coronavirus that we have not...     1  \n",
       "1     Coronavirus are a type of virus - there are ma...     2  \n",
       "2     Currently, there is no evidence of food or foo...     3  \n",
       "3     Socially distancing is a practice that aims to...     4  \n",
       "4     Social distancing is one of the most effective...     5  \n",
       "...                                                 ...   ...  \n",
       "1450  We do not know. Some viruses, like the common ...  1451  \n",
       "1451  We do not know. Some viruses, like the common ...  1452  \n",
       "1452  We do not know. Some viruses, like the common ...  1453  \n",
       "1453  A recent study shows that the virus can live i...  1454  \n",
       "1454  We do not know. Some viruses, like the common ...  1455  \n",
       "\n",
       "[1455 rows x 5 columns]"
      ]
     },
     "execution_count": 4,
     "metadata": {},
     "output_type": "execute_result"
    }
   ],
   "source": [
    "query_answer_pair_filepath = '../../../BERT-FAQ/data/CovidFAQ/query_answer_pairs.json'\n",
    "relevance_label_df = get_relevance_label_df(query_answer_pair_filepath)\n",
    "relevance_label_df"
   ]
  },
  {
   "cell_type": "code",
   "execution_count": 5,
   "metadata": {},
   "outputs": [
    {
     "name": "stderr",
     "output_type": "stream",
     "text": [
      "100%|██████████| 68/68 [00:00<00:00, 358.20it/s]\n",
      "100%|██████████| 1144/1144 [00:03<00:00, 365.85it/s]\n"
     ]
    }
   ],
   "source": [
    "es = Elasticsearch([{'host':'localhost','port':9200}], http_auth=('username', 'password')) \n",
    "\n",
    "hng = Hard_Negatives_Generator(\n",
    "    es=es, index='covidfaq', query_by=['question_answer'], top_k=100, query_type='faq')\n",
    "hard_negatives_faq = hng.get_hard_negatives(relevance_label_df)\n",
    "dump_to_json(hard_negatives_faq, '../../../BERT-FAQ/data/CovidFAQ/hard_negatives_faq.json')\n",
    "\n",
    "hng = Hard_Negatives_Generator(\n",
    "    es=es, index='covidfaq', query_by=['question_answer'], top_k=100, query_type='user_query')\n",
    "hard_negatives_user_query = hng.get_hard_negatives(relevance_label_df)\n",
    "dump_to_json(hard_negatives_user_query, '../../../BERT-FAQ/data/CovidFAQ/hard_negatives_user_query.json')"
   ]
  },
  {
   "cell_type": "code",
   "execution_count": null,
   "metadata": {},
   "outputs": [],
   "source": []
  }
 ],
 "metadata": {
  "accelerator": "GPU",
  "colab": {
   "collapsed_sections": [],
   "name": "01_Generating_Ground_Truth_Dataset_for_FAQIR.ipynb",
   "provenance": []
  },
  "kernelspec": {
   "display_name": "Python 3",
   "language": "python",
   "name": "python3"
  },
  "language_info": {
   "codemirror_mode": {
    "name": "ipython",
    "version": 3
   },
   "file_extension": ".py",
   "mimetype": "text/x-python",
   "name": "python",
   "nbconvert_exporter": "python",
   "pygments_lexer": "ipython3",
   "version": "3.8.5"
  }
 },
 "nbformat": 4,
 "nbformat_minor": 1
}
