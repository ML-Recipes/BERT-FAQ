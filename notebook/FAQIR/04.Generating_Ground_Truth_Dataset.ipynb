{
 "cells": [
  {
   "cell_type": "markdown",
   "metadata": {
    "id": "JoWilTNGKcrO"
   },
   "source": [
    "**Generating Ground-truth FAQIR dataset for model training**"
   ]
  },
  {
   "cell_type": "code",
   "execution_count": 1,
   "metadata": {
    "id": "jop-QMVBD5a1"
   },
   "outputs": [],
   "source": [
    "import sys\n",
    "sys.path.insert(0, '../../../BERT-FAQ/')\n",
    "\n",
    "# import class to generate training data\n",
    "from training_data_generator import Training_Data_Generator\n",
    "\n",
    "# import utility functions\n",
    "from shared.utils import load_from_json\n",
    "from shared.utils import dump_to_json\n",
    "from shared.utils import make_dirs"
   ]
  },
  {
   "cell_type": "code",
   "execution_count": 2,
   "metadata": {
    "id": "V3my3-bmcPF6"
   },
   "outputs": [],
   "source": [
    "# read and parse FAQIRv1.0.xml\n",
    "filepath = '../../../BERT-FAQ/data/FAQIR/query_answer_pairs.json'\n",
    "\n",
    "query_answer_pairs = load_from_json(filepath)"
   ]
  },
  {
   "cell_type": "code",
   "execution_count": 3,
   "metadata": {},
   "outputs": [
    {
     "data": {
      "text/plain": [
       "[{'answer': 'I have had good luck with commercial products available at auto supply stores for just a few dollars. Below are some additional suggestions if you want to try DIY:',\n",
       "  'id': 1,\n",
       "  'label': 1,\n",
       "  'query_type': 'faq',\n",
       "  'question': 'How to remove tree sap from car? Hi,I have some tree sap on my car, both older (pretty dry) and some newer from a redwood tree.Any tips on how to remove it?'},\n",
       " {'answer': \"Goo Gone is a fantastic product (available at Target and most any hardware store or drug store) and works amazingly well on even pesky sticker residue.  Soak the area, and wipe it away.  It might take repeated applications, but you can remove the sticker without scratching, and without leaving a gooey residue.Note that Goo Gone can affect some surfaces, including some plastics, so you should be careful, especially if it is clear plastic.  I've used Goo Gone many times on plastic glassic and CD cases, so it will certainly work on many plastics, but you should be careful. In the event that Goo Gone seems too risky, you can frequently remove just the adhesive residue using plain old Scotch tape.  Remove as much of the sticker as possible (the paper/plastic backing) and then apply tape to the sticker residue firmly.  Pull the tape off sharply, and some of the residue will come with it.  This is a slow process so only do it if the area is relatively small, however, I frequently use this tactic for price tags and the like and it is surprisingly effective.\",\n",
       "  'id': 2,\n",
       "  'label': 1,\n",
       "  'query_type': 'faq',\n",
       "  'question': 'How do I get a sticker off of a car window  (plastic part)?  Nail polish remover seems risky?'},\n",
       " {'answer': '1. Inspect the black rubber cover that fits in the disposal. Sometimes bits of garbage collect under the flaps and create a smell.    2. Clean the rubber cover, if necessary. If yours lifts out, remove it and clean away debris with a scrub brush and warm, soapy water. If your rubber cover is installed permanently, lift up each flap and clean it with soapy water and an old toothbrush.    3. Deodorize the disposal. Cut a lemon in half and drop the fruit and a handful of baking soda into the disposal. Turn on the cold water faucet and then the disposal. The unit will clean itself as it grinds up the mixture.',\n",
       "  'id': 3,\n",
       "  'label': 1,\n",
       "  'query_type': 'faq',\n",
       "  'question': 'How to get rid of garbage disposal odor?'},\n",
       " {'answer': \"To properly maintain your lawnmover, you'll need to do the things below. If you use use your lawnmover year round, you might need to do maintaince twice a year.1) Changing the oil (for non-electric)2) Removing dirt, grass, and grime from the underside3) Cleaning the air filter4) Cleaning the spark plugsYou'll need the following tools to do the job:1) Putty knife2) Socket wrench3) File or sharpening tool4) Wire brush5) 30-weight oilIt actually didn't sound so hard to maintain. The most important safety concern is to remember to remove the spark plug before working on the blade.You'll find the instructions on the home depot site.\",\n",
       "  'id': 4,\n",
       "  'label': 1,\n",
       "  'query_type': 'faq',\n",
       "  'question': 'How to maintain a lawn mower?'},\n",
       " {'answer': 'Click on the link and follow the steps.',\n",
       "  'id': 5,\n",
       "  'label': 1,\n",
       "  'query_type': 'faq',\n",
       "  'question': 'How to fix vertical blinds? I can no longer re-hang them because they are broken.'}]"
      ]
     },
     "execution_count": 3,
     "metadata": {},
     "output_type": "execute_result"
    }
   ],
   "source": [
    "# check first 5 entries\n",
    "query_answer_pairs[:5]"
   ]
  },
  {
   "cell_type": "code",
   "execution_count": 4,
   "metadata": {},
   "outputs": [],
   "source": [
    "####################### Triplet Loss ########################\n",
    "# simple Type\n",
    "tdg = Training_Data_Generator(\n",
    "    random_seed=5, num_samples=24, hard_filepath='../../../BERT-FAQ/data/FAQIR/', \n",
    "    neg_type='simple', query_type='faq', loss_type='triplet'\n",
    ")\n",
    "tdg.generate_triplet_dataset(\n",
    "    query_answer_pairs=query_answer_pairs, \n",
    "    output_path='../../../BERT-FAQ/data/FAQIR/'\n",
    ")\n",
    "\n",
    "\n",
    "# hard Type\n",
    "tdg = Training_Data_Generator(\n",
    "    random_seed=5, num_samples=24, hard_filepath='../../../BERT-FAQ/data/FAQIR/', \n",
    "    neg_type='hard', query_type='faq', loss_type='triplet'\n",
    ")\n",
    "tdg.generate_triplet_dataset(\n",
    "    query_answer_pairs=query_answer_pairs, \n",
    "    output_path='../../../BERT-FAQ/data/FAQIR/'\n",
    ")\n",
    "\n",
    "\n",
    "tdg = Training_Data_Generator(\n",
    "    random_seed=5, num_samples=24, hard_filepath='../../../BERT-FAQ/data/FAQIR/', \n",
    "    neg_type='simple', query_type='user_query', loss_type='triplet'\n",
    ")\n",
    "tdg.generate_triplet_dataset(\n",
    "    query_answer_pairs=query_answer_pairs, \n",
    "    output_path='../../../BERT-FAQ/data/FAQIR/'\n",
    ")\n",
    "\n",
    "\n",
    "# hard Type\n",
    "tdg = Training_Data_Generator(\n",
    "    random_seed=5, num_samples=24, hard_filepath='../../../BERT-FAQ/data/FAQIR/', \n",
    "    neg_type='hard', query_type='user_query', loss_type='triplet'\n",
    ")\n",
    "tdg.generate_triplet_dataset(\n",
    "    query_answer_pairs=query_answer_pairs, \n",
    "    output_path='../../../BERT-FAQ/data/FAQIR/'\n",
    ")\n",
    "\n",
    "\n",
    "####################### Softmax Loss ########################\n",
    "# simple Type\n",
    "tdg = Training_Data_Generator(\n",
    "    random_seed=5, num_samples=24, hard_filepath='../../../BERT-FAQ/data/FAQIR/', \n",
    "    neg_type='simple', query_type='faq', loss_type='softmax'\n",
    ")\n",
    "tdg.generate_triplet_dataset(\n",
    "    query_answer_pairs=query_answer_pairs, \n",
    "    output_path='../../../BERT-FAQ/data/FAQIR/'\n",
    ")\n",
    "\n",
    "# hard Type\n",
    "tdg = Training_Data_Generator(\n",
    "    random_seed=5, num_samples=24, hard_filepath='../../../BERT-FAQ/data/FAQIR/', \n",
    "    neg_type='hard', query_type='faq', loss_type='softmax'\n",
    ")\n",
    "tdg.generate_triplet_dataset(\n",
    "    query_answer_pairs=query_answer_pairs, \n",
    "    output_path='../../../BERT-FAQ/data/FAQIR/'\n",
    ")\n",
    "\n",
    "# simple Type\n",
    "tdg = Training_Data_Generator(\n",
    "    random_seed=5, num_samples=24, hard_filepath='../../../BERT-FAQ/data/FAQIR/', \n",
    "    neg_type='simple', query_type='user_query', loss_type='softmax'\n",
    ")\n",
    "tdg.generate_triplet_dataset(\n",
    "    query_answer_pairs=query_answer_pairs, \n",
    "    output_path='../../../BERT-FAQ/data/FAQIR/'\n",
    ")\n",
    "\n",
    "# hard Type\n",
    "tdg = Training_Data_Generator(\n",
    "    random_seed=5, num_samples=24, hard_filepath='../../../BERT-FAQ/data/FAQIR/', \n",
    "    neg_type='hard', query_type='user_query', loss_type='softmax'\n",
    ")\n",
    "tdg.generate_triplet_dataset(\n",
    "    query_answer_pairs=query_answer_pairs, \n",
    "    output_path='../../../BERT-FAQ/data/FAQIR/'\n",
    ")\n"
   ]
  }
 ],
 "metadata": {
  "accelerator": "GPU",
  "colab": {
   "collapsed_sections": [],
   "name": "01_Generating_Ground_Truth_Dataset_for_FAQIR.ipynb",
   "provenance": []
  },
  "kernelspec": {
   "display_name": "Python 3",
   "language": "python",
   "name": "python3"
  },
  "language_info": {
   "codemirror_mode": {
    "name": "ipython",
    "version": 3
   },
   "file_extension": ".py",
   "mimetype": "text/x-python",
   "name": "python",
   "nbconvert_exporter": "python",
   "pygments_lexer": "ipython3",
   "version": "3.8.5"
  }
 },
 "nbformat": 4,
 "nbformat_minor": 1
}
