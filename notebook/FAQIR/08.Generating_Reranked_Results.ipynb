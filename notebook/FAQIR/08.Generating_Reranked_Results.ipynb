{
 "cells": [
  {
   "cell_type": "code",
   "execution_count": 1,
   "metadata": {
    "id": "Fu6mIC_NKTRR"
   },
   "outputs": [],
   "source": [
    "# import required dependencies\n",
    "import sys\n",
    "sys.path.insert(0, '../../../BERT-FAQ/')\n",
    "\n",
    "from shared.utils import load_from_json\n",
    "from shared.utils import dump_to_json\n",
    "from shared.utils import make_dirs\n",
    "from reranker import ReRanker"
   ]
  },
  {
   "cell_type": "markdown",
   "metadata": {
    "id": "CDsNe63Nix7W"
   },
   "source": [
    "**1. Generating reranked results from Answer (BERT-Q-a)\"**"
   ]
  },
  {
   "cell_type": "code",
   "execution_count": 2,
   "metadata": {},
   "outputs": [],
   "source": [
    "# define output path\n",
    "output_path=\"../../../BERT-FAQ/data/FAQIR/rank_results\""
   ]
  },
  {
   "cell_type": "code",
   "execution_count": 3,
   "metadata": {
    "id": "dvplanC2jY-y"
   },
   "outputs": [],
   "source": [
    "# define rank_field, w_t parameters\n",
    "rank_field=\"BERT-Q-a\"; w_t=10;"
   ]
  },
  {
   "cell_type": "markdown",
   "metadata": {
    "id": "SxcqS2Dj2liG"
   },
   "source": [
    "**query_type=\"user_query\"; neg_type=\"hard\"; loss_type='triplet'**"
   ]
  },
  {
   "cell_type": "code",
   "execution_count": 4,
   "metadata": {
    "id": "__jcFHSRBZSY"
   },
   "outputs": [],
   "source": [
    "# define variables\n",
    "query_type=\"user_query\"; neg_type=\"hard\"; loss_type='triplet'"
   ]
  },
  {
   "cell_type": "code",
   "execution_count": 5,
   "metadata": {
    "id": "n9ycYBipNnP9"
   },
   "outputs": [],
   "source": [
    "# create instance of ReRanker class\n",
    "r = ReRanker(rank_field=rank_field, w_t=w_t)"
   ]
  },
  {
   "cell_type": "code",
   "execution_count": 6,
   "metadata": {
    "colab": {
     "base_uri": "https://localhost:8080/"
    },
    "id": "xJMgG4aZKTN5",
    "outputId": "b6c8a5c7-ae5e-4cce-c1ea-01f9c8479879"
   },
   "outputs": [
    {
     "name": "stderr",
     "output_type": "stream",
     "text": [
      "2021-04-07 17:31:17 - Re-ranking the top-k results ...\n",
      "2021-04-07 17:31:20 - Re-ranking the top-k results ...\n",
      "2021-04-07 17:31:22 - Re-ranking the top-k results ...\n",
      "2021-04-07 17:31:25 - Re-ranking the top-k results ...\n"
     ]
    }
   ],
   "source": [
    "reranked_output_path = output_path + \"/supervised/\" + rank_field + \"/\" + loss_type + \"/\" + query_type + \"/\" + neg_type\n",
    "pred_output_path     = output_path + \"/supervised/\" + rank_field + \"/\" + loss_type + \"/\" + query_type + \"/\" + neg_type\n",
    "\n",
    "# generate reranked results \n",
    "bert_query_by_question = load_from_json(pred_output_path + '/bert_query_by_question.json')\n",
    "reranked_query_by_question = r.get_reranked_results(bert_query_by_question)\n",
    "dump_to_json(reranked_query_by_question, reranked_output_path + '/reranked_query_by_question.json')\n",
    "\n",
    "bert_query_by_answer = load_from_json(pred_output_path + '/bert_query_by_answer.json')\n",
    "reranked_query_by_answer = r.get_reranked_results(bert_query_by_answer)\n",
    "dump_to_json(reranked_query_by_answer, reranked_output_path + '/reranked_query_by_answer.json')\n",
    "\n",
    "bert_query_by_question_answer = load_from_json(pred_output_path + '/bert_query_by_question_answer.json')\n",
    "reranked_query_by_question_answer = r.get_reranked_results(bert_query_by_question_answer)\n",
    "dump_to_json(reranked_query_by_question_answer, reranked_output_path + '/reranked_query_by_question_answer.json')\n",
    "\n",
    "bert_query_by_question_answer_concat = load_from_json(pred_output_path + '/bert_query_by_question_answer_concat.json')\n",
    "reranked_query_by_question_answer_concat = r.get_reranked_results(bert_query_by_question_answer_concat)\n",
    "dump_to_json(reranked_query_by_question_answer_concat, reranked_output_path + '/reranked_query_by_question_answer_concat.json')"
   ]
  },
  {
   "cell_type": "markdown",
   "metadata": {
    "id": "ni5fBXXCM8oo"
   },
   "source": [
    "**query_type=\"user_query\"; neg_type=\"simple\"; loss_type='triplet'**"
   ]
  },
  {
   "cell_type": "code",
   "execution_count": 7,
   "metadata": {
    "id": "YahPWqlrM4eU"
   },
   "outputs": [],
   "source": [
    "# define variables\n",
    "query_type=\"user_query\"; neg_type=\"simple\"; loss_type='triplet'"
   ]
  },
  {
   "cell_type": "code",
   "execution_count": 8,
   "metadata": {
    "id": "vfz-PNgZM4FL"
   },
   "outputs": [],
   "source": [
    "# create instance of ReRanker class\n",
    "r = ReRanker(rank_field=rank_field, w_t=w_t)"
   ]
  },
  {
   "cell_type": "code",
   "execution_count": 9,
   "metadata": {
    "colab": {
     "base_uri": "https://localhost:8080/"
    },
    "id": "90jQn9shzcsj",
    "outputId": "dd3546ef-4a0f-4a6d-bb97-387234222069"
   },
   "outputs": [
    {
     "name": "stderr",
     "output_type": "stream",
     "text": [
      "2021-04-07 17:31:27 - Re-ranking the top-k results ...\n",
      "2021-04-07 17:31:29 - Re-ranking the top-k results ...\n",
      "2021-04-07 17:31:32 - Re-ranking the top-k results ...\n",
      "2021-04-07 17:31:34 - Re-ranking the top-k results ...\n"
     ]
    }
   ],
   "source": [
    "reranked_output_path = output_path + \"/supervised/\" + rank_field + \"/\" + loss_type + \"/\" + query_type + \"/\" + neg_type\n",
    "pred_output_path     = output_path + \"/supervised/\" + rank_field + \"/\" + loss_type + \"/\" + query_type + \"/\" + neg_type\n",
    "\n",
    "# generate reranked results \n",
    "bert_query_by_question = load_from_json(pred_output_path + '/bert_query_by_question.json')\n",
    "reranked_query_by_question = r.get_reranked_results(bert_query_by_question)\n",
    "dump_to_json(reranked_query_by_question, reranked_output_path + '/reranked_query_by_question.json')\n",
    "\n",
    "bert_query_by_answer = load_from_json(pred_output_path + '/bert_query_by_answer.json')\n",
    "reranked_query_by_answer = r.get_reranked_results(bert_query_by_answer)\n",
    "dump_to_json(reranked_query_by_answer, reranked_output_path + '/reranked_query_by_answer.json')\n",
    "\n",
    "bert_query_by_question_answer = load_from_json(pred_output_path + '/bert_query_by_question_answer.json')\n",
    "reranked_query_by_question_answer = r.get_reranked_results(bert_query_by_question_answer)\n",
    "dump_to_json(reranked_query_by_question_answer, reranked_output_path + '/reranked_query_by_question_answer.json')\n",
    "\n",
    "bert_query_by_question_answer_concat = load_from_json(pred_output_path + '/bert_query_by_question_answer_concat.json')\n",
    "reranked_query_by_question_answer_concat = r.get_reranked_results(bert_query_by_question_answer_concat)\n",
    "dump_to_json(reranked_query_by_question_answer_concat, reranked_output_path + '/reranked_query_by_question_answer_concat.json')"
   ]
  },
  {
   "cell_type": "markdown",
   "metadata": {
    "id": "h0-VLGZ-Np04"
   },
   "source": [
    "**query_type=\"faq\"; neg_type=\"hard\"; loss_type='triplet'**"
   ]
  },
  {
   "cell_type": "code",
   "execution_count": 10,
   "metadata": {
    "id": "sGUqO4kSNcGJ"
   },
   "outputs": [],
   "source": [
    "# define variables\n",
    "query_type=\"faq\"; neg_type=\"hard\"; loss_type='triplet'"
   ]
  },
  {
   "cell_type": "code",
   "execution_count": 11,
   "metadata": {
    "id": "Bkdb3DQON4A9"
   },
   "outputs": [],
   "source": [
    "# create instance of ReRanker class\n",
    "r = ReRanker(rank_field=rank_field, w_t=w_t)"
   ]
  },
  {
   "cell_type": "code",
   "execution_count": 12,
   "metadata": {
    "colab": {
     "base_uri": "https://localhost:8080/"
    },
    "id": "9whF6pZTzfHK",
    "outputId": "0df4ec12-a5e3-4ed0-8a80-61594e7507de"
   },
   "outputs": [
    {
     "name": "stderr",
     "output_type": "stream",
     "text": [
      "2021-04-07 17:31:36 - Re-ranking the top-k results ...\n",
      "2021-04-07 17:31:39 - Re-ranking the top-k results ...\n",
      "2021-04-07 17:31:41 - Re-ranking the top-k results ...\n",
      "2021-04-07 17:31:44 - Re-ranking the top-k results ...\n"
     ]
    }
   ],
   "source": [
    "reranked_output_path = output_path + \"/supervised/\" + rank_field + \"/\" + loss_type + \"/\" + query_type + \"/\" + neg_type\n",
    "pred_output_path     = output_path + \"/supervised/\" + rank_field + \"/\" + loss_type + \"/\" + query_type + \"/\" + neg_type\n",
    "\n",
    "# generate reranked results \n",
    "bert_query_by_question = load_from_json(pred_output_path + '/bert_query_by_question.json')\n",
    "reranked_query_by_question = r.get_reranked_results(bert_query_by_question)\n",
    "dump_to_json(reranked_query_by_question, reranked_output_path + '/reranked_query_by_question.json')\n",
    "\n",
    "bert_query_by_answer = load_from_json(pred_output_path + '/bert_query_by_answer.json')\n",
    "reranked_query_by_answer = r.get_reranked_results(bert_query_by_answer)\n",
    "dump_to_json(reranked_query_by_answer, reranked_output_path + '/reranked_query_by_answer.json')\n",
    "\n",
    "bert_query_by_question_answer = load_from_json(pred_output_path + '/bert_query_by_question_answer.json')\n",
    "reranked_query_by_question_answer = r.get_reranked_results(bert_query_by_question_answer)\n",
    "dump_to_json(reranked_query_by_question_answer, reranked_output_path + '/reranked_query_by_question_answer.json')\n",
    "\n",
    "bert_query_by_question_answer_concat = load_from_json(pred_output_path + '/bert_query_by_question_answer_concat.json')\n",
    "reranked_query_by_question_answer_concat = r.get_reranked_results(bert_query_by_question_answer_concat)\n",
    "dump_to_json(reranked_query_by_question_answer_concat, reranked_output_path + '/reranked_query_by_question_answer_concat.json')"
   ]
  },
  {
   "cell_type": "markdown",
   "metadata": {
    "id": "LW6WhP1POh4R"
   },
   "source": [
    "**query_type=\"faq\"; neg_type=\"simple\"; loss_type='triplet'**"
   ]
  },
  {
   "cell_type": "code",
   "execution_count": 13,
   "metadata": {
    "id": "td1x8prBOXIo"
   },
   "outputs": [],
   "source": [
    "# define variables\n",
    "query_type=\"faq\"; neg_type=\"simple\"; loss_type='triplet'"
   ]
  },
  {
   "cell_type": "code",
   "execution_count": 14,
   "metadata": {
    "id": "Z8ZPxcmWOny9"
   },
   "outputs": [],
   "source": [
    "# create instance of ReRanker class\n",
    "r = ReRanker(rank_field=rank_field, w_t=w_t)"
   ]
  },
  {
   "cell_type": "code",
   "execution_count": 15,
   "metadata": {
    "colab": {
     "base_uri": "https://localhost:8080/"
    },
    "id": "eWO9iOd4zjrX",
    "outputId": "3792967f-a181-4f76-a378-ec2a5ba36443",
    "scrolled": false
   },
   "outputs": [
    {
     "name": "stderr",
     "output_type": "stream",
     "text": [
      "2021-04-07 17:31:46 - Re-ranking the top-k results ...\n",
      "2021-04-07 17:31:48 - Re-ranking the top-k results ...\n",
      "2021-04-07 17:31:51 - Re-ranking the top-k results ...\n",
      "2021-04-07 17:31:53 - Re-ranking the top-k results ...\n"
     ]
    }
   ],
   "source": [
    "reranked_output_path = output_path + \"/supervised/\" + rank_field + \"/\" + loss_type + \"/\" + query_type + \"/\" + neg_type\n",
    "pred_output_path     = output_path + \"/supervised/\" + rank_field + \"/\" + loss_type + \"/\" + query_type + \"/\" + neg_type\n",
    "\n",
    "# generate reranked results \n",
    "bert_query_by_question = load_from_json(pred_output_path + '/bert_query_by_question.json')\n",
    "reranked_query_by_question = r.get_reranked_results(bert_query_by_question)\n",
    "dump_to_json(reranked_query_by_question, reranked_output_path + '/reranked_query_by_question.json')\n",
    "\n",
    "bert_query_by_answer = load_from_json(pred_output_path + '/bert_query_by_answer.json')\n",
    "reranked_query_by_answer = r.get_reranked_results(bert_query_by_answer)\n",
    "dump_to_json(reranked_query_by_answer, reranked_output_path + '/reranked_query_by_answer.json')\n",
    "\n",
    "bert_query_by_question_answer = load_from_json(pred_output_path + '/bert_query_by_question_answer.json')\n",
    "reranked_query_by_question_answer = r.get_reranked_results(bert_query_by_question_answer)\n",
    "dump_to_json(reranked_query_by_question_answer, reranked_output_path + '/reranked_query_by_question_answer.json')\n",
    "\n",
    "bert_query_by_question_answer_concat = load_from_json(pred_output_path + '/bert_query_by_question_answer_concat.json')\n",
    "reranked_query_by_question_answer_concat = r.get_reranked_results(bert_query_by_question_answer_concat)\n",
    "dump_to_json(reranked_query_by_question_answer_concat, reranked_output_path + '/reranked_query_by_question_answer_concat.json')"
   ]
  },
  {
   "cell_type": "markdown",
   "metadata": {
    "id": "TQWBMnXNuN1r"
   },
   "source": [
    "**query_type=\"user_query\"; neg_type=\"hard\"; loss_type='softmax'**"
   ]
  },
  {
   "cell_type": "code",
   "execution_count": 16,
   "metadata": {
    "id": "qWbql3bypSdF"
   },
   "outputs": [],
   "source": [
    "# define variables\n",
    "query_type=\"user_query\"; neg_type=\"hard\"; loss_type='softmax'"
   ]
  },
  {
   "cell_type": "code",
   "execution_count": 17,
   "metadata": {
    "id": "nXbORhXguIpu"
   },
   "outputs": [],
   "source": [
    "# create instance of ReRanker class\n",
    "r = ReRanker(rank_field=rank_field, w_t=w_t)"
   ]
  },
  {
   "cell_type": "code",
   "execution_count": 18,
   "metadata": {
    "colab": {
     "base_uri": "https://localhost:8080/"
    },
    "id": "JxveUtZbzlnb",
    "outputId": "b476f589-7331-41d6-fc86-940db5e6c83c"
   },
   "outputs": [
    {
     "name": "stderr",
     "output_type": "stream",
     "text": [
      "2021-04-07 17:31:56 - Re-ranking the top-k results ...\n",
      "2021-04-07 17:31:58 - Re-ranking the top-k results ...\n",
      "2021-04-07 17:32:00 - Re-ranking the top-k results ...\n",
      "2021-04-07 17:32:03 - Re-ranking the top-k results ...\n"
     ]
    }
   ],
   "source": [
    "reranked_output_path = output_path + \"/supervised/\" + rank_field + \"/\" + loss_type + \"/\" + query_type + \"/\" + neg_type\n",
    "pred_output_path     = output_path + \"/supervised/\" + rank_field + \"/\" + loss_type + \"/\" + query_type + \"/\" + neg_type\n",
    "\n",
    "# generate reranked results \n",
    "bert_query_by_question = load_from_json(pred_output_path + '/bert_query_by_question.json')\n",
    "reranked_query_by_question = r.get_reranked_results(bert_query_by_question)\n",
    "dump_to_json(reranked_query_by_question, reranked_output_path + '/reranked_query_by_question.json')\n",
    "\n",
    "bert_query_by_answer = load_from_json(pred_output_path + '/bert_query_by_answer.json')\n",
    "reranked_query_by_answer = r.get_reranked_results(bert_query_by_answer)\n",
    "dump_to_json(reranked_query_by_answer, reranked_output_path + '/reranked_query_by_answer.json')\n",
    "\n",
    "bert_query_by_question_answer = load_from_json(pred_output_path + '/bert_query_by_question_answer.json')\n",
    "reranked_query_by_question_answer = r.get_reranked_results(bert_query_by_question_answer)\n",
    "dump_to_json(reranked_query_by_question_answer, reranked_output_path + '/reranked_query_by_question_answer.json')\n",
    "\n",
    "bert_query_by_question_answer_concat = load_from_json(pred_output_path + '/bert_query_by_question_answer_concat.json')\n",
    "reranked_query_by_question_answer_concat = r.get_reranked_results(bert_query_by_question_answer_concat)\n",
    "dump_to_json(reranked_query_by_question_answer_concat, reranked_output_path + '/reranked_query_by_question_answer_concat.json')"
   ]
  },
  {
   "cell_type": "markdown",
   "metadata": {
    "id": "toLHtw4zugOk"
   },
   "source": [
    "**query_type=\"user_query\"; neg_type=\"simple\"; loss_type='softmax'**"
   ]
  },
  {
   "cell_type": "code",
   "execution_count": 19,
   "metadata": {
    "id": "SBPKGt7ktRLQ"
   },
   "outputs": [],
   "source": [
    "# define variables\n",
    "query_type=\"user_query\"; neg_type=\"simple\"; loss_type='softmax'"
   ]
  },
  {
   "cell_type": "code",
   "execution_count": 20,
   "metadata": {
    "id": "8zMO_kPHtRBO"
   },
   "outputs": [],
   "source": [
    "# create instance of ReRanker class\n",
    "r = ReRanker(rank_field=rank_field, w_t=w_t)"
   ]
  },
  {
   "cell_type": "code",
   "execution_count": 21,
   "metadata": {
    "colab": {
     "base_uri": "https://localhost:8080/"
    },
    "id": "8vUWF6aUzmvS",
    "outputId": "a0437cc2-35e5-4c35-b009-823e53eae670"
   },
   "outputs": [
    {
     "name": "stderr",
     "output_type": "stream",
     "text": [
      "2021-04-07 17:32:05 - Re-ranking the top-k results ...\n",
      "2021-04-07 17:32:08 - Re-ranking the top-k results ...\n",
      "2021-04-07 17:32:10 - Re-ranking the top-k results ...\n",
      "2021-04-07 17:32:13 - Re-ranking the top-k results ...\n"
     ]
    }
   ],
   "source": [
    "reranked_output_path = output_path + \"/supervised/\" + rank_field + \"/\" + loss_type + \"/\" + query_type + \"/\" + neg_type\n",
    "pred_output_path     = output_path + \"/supervised/\" + rank_field + \"/\" + loss_type + \"/\" + query_type + \"/\" + neg_type\n",
    "\n",
    "# generate reranked results \n",
    "bert_query_by_question = load_from_json(pred_output_path + '/bert_query_by_question.json')\n",
    "reranked_query_by_question = r.get_reranked_results(bert_query_by_question)\n",
    "dump_to_json(reranked_query_by_question, reranked_output_path + '/reranked_query_by_question.json')\n",
    "\n",
    "bert_query_by_answer = load_from_json(pred_output_path + '/bert_query_by_answer.json')\n",
    "reranked_query_by_answer = r.get_reranked_results(bert_query_by_answer)\n",
    "dump_to_json(reranked_query_by_answer, reranked_output_path + '/reranked_query_by_answer.json')\n",
    "\n",
    "bert_query_by_question_answer = load_from_json(pred_output_path + '/bert_query_by_question_answer.json')\n",
    "reranked_query_by_question_answer = r.get_reranked_results(bert_query_by_question_answer)\n",
    "dump_to_json(reranked_query_by_question_answer, reranked_output_path + '/reranked_query_by_question_answer.json')\n",
    "\n",
    "bert_query_by_question_answer_concat = load_from_json(pred_output_path + '/bert_query_by_question_answer_concat.json')\n",
    "reranked_query_by_question_answer_concat = r.get_reranked_results(bert_query_by_question_answer_concat)\n",
    "dump_to_json(reranked_query_by_question_answer_concat, reranked_output_path + '/reranked_query_by_question_answer_concat.json')"
   ]
  },
  {
   "cell_type": "markdown",
   "metadata": {
    "id": "lNDZBk_GvM1z"
   },
   "source": [
    "**query_type=\"faq\"; neg_type=\"hard\"; loss_type='softmax'**"
   ]
  },
  {
   "cell_type": "code",
   "execution_count": 22,
   "metadata": {
    "id": "VmtGmXzrtQda"
   },
   "outputs": [],
   "source": [
    "# define variables\n",
    "query_type=\"faq\"; neg_type=\"hard\"; loss_type='softmax'"
   ]
  },
  {
   "cell_type": "code",
   "execution_count": 23,
   "metadata": {
    "id": "pzg0l8rEtQZh"
   },
   "outputs": [],
   "source": [
    "# create instance of ReRanker class\n",
    "r = ReRanker(rank_field=rank_field, w_t=w_t)"
   ]
  },
  {
   "cell_type": "code",
   "execution_count": 24,
   "metadata": {
    "colab": {
     "base_uri": "https://localhost:8080/"
    },
    "id": "7Q_F0a8Qzon2",
    "outputId": "373c2e29-ed00-4353-b751-9b5979389a45"
   },
   "outputs": [
    {
     "name": "stderr",
     "output_type": "stream",
     "text": [
      "2021-04-07 17:32:15 - Re-ranking the top-k results ...\n",
      "2021-04-07 17:32:17 - Re-ranking the top-k results ...\n",
      "2021-04-07 17:32:20 - Re-ranking the top-k results ...\n",
      "2021-04-07 17:32:22 - Re-ranking the top-k results ...\n"
     ]
    }
   ],
   "source": [
    "reranked_output_path = output_path + \"/supervised/\" + rank_field + \"/\" + loss_type + \"/\" + query_type + \"/\" + neg_type\n",
    "pred_output_path     = output_path + \"/supervised/\" + rank_field + \"/\" + loss_type + \"/\" + query_type + \"/\" + neg_type\n",
    "\n",
    "# generate reranked results \n",
    "bert_query_by_question = load_from_json(pred_output_path + '/bert_query_by_question.json')\n",
    "reranked_query_by_question = r.get_reranked_results(bert_query_by_question)\n",
    "dump_to_json(reranked_query_by_question, reranked_output_path + '/reranked_query_by_question.json')\n",
    "\n",
    "bert_query_by_answer = load_from_json(pred_output_path + '/bert_query_by_answer.json')\n",
    "reranked_query_by_answer = r.get_reranked_results(bert_query_by_answer)\n",
    "dump_to_json(reranked_query_by_answer, reranked_output_path + '/reranked_query_by_answer.json')\n",
    "\n",
    "bert_query_by_question_answer = load_from_json(pred_output_path + '/bert_query_by_question_answer.json')\n",
    "reranked_query_by_question_answer = r.get_reranked_results(bert_query_by_question_answer)\n",
    "dump_to_json(reranked_query_by_question_answer, reranked_output_path + '/reranked_query_by_question_answer.json')\n",
    "\n",
    "bert_query_by_question_answer_concat = load_from_json(pred_output_path + '/bert_query_by_question_answer_concat.json')\n",
    "reranked_query_by_question_answer_concat = r.get_reranked_results(bert_query_by_question_answer_concat)\n",
    "dump_to_json(reranked_query_by_question_answer_concat, reranked_output_path + '/reranked_query_by_question_answer_concat.json')"
   ]
  },
  {
   "cell_type": "markdown",
   "metadata": {
    "id": "o2EgbhAkvgUc"
   },
   "source": [
    "**query_type=\"faq\"; neg_type=\"simple\"; loss_type='softmax'**"
   ]
  },
  {
   "cell_type": "code",
   "execution_count": 25,
   "metadata": {
    "id": "4tUfy5fOtP2M"
   },
   "outputs": [],
   "source": [
    "# define variables\n",
    "query_type=\"faq\"; neg_type=\"simple\"; loss_type='softmax'"
   ]
  },
  {
   "cell_type": "code",
   "execution_count": 26,
   "metadata": {
    "id": "x94VfKuitPva"
   },
   "outputs": [],
   "source": [
    "# create instance of ReRanker class\n",
    "r = ReRanker(rank_field=rank_field, w_t=w_t)"
   ]
  },
  {
   "cell_type": "code",
   "execution_count": 27,
   "metadata": {
    "colab": {
     "base_uri": "https://localhost:8080/"
    },
    "id": "PzcVcYUwzqLm",
    "outputId": "0f6b9d55-4d38-4bcb-e67a-54436dce3fec"
   },
   "outputs": [
    {
     "name": "stderr",
     "output_type": "stream",
     "text": [
      "2021-04-07 17:32:25 - Re-ranking the top-k results ...\n",
      "2021-04-07 17:32:27 - Re-ranking the top-k results ...\n",
      "2021-04-07 17:32:29 - Re-ranking the top-k results ...\n",
      "2021-04-07 17:32:32 - Re-ranking the top-k results ...\n"
     ]
    }
   ],
   "source": [
    "reranked_output_path = output_path + \"/supervised/\" + rank_field + \"/\" + loss_type + \"/\" + query_type + \"/\" + neg_type\n",
    "pred_output_path     = output_path + \"/supervised/\" + rank_field + \"/\" + loss_type + \"/\" + query_type + \"/\" + neg_type\n",
    "\n",
    "# generate reranked results \n",
    "bert_query_by_question = load_from_json(pred_output_path + '/bert_query_by_question.json')\n",
    "reranked_query_by_question = r.get_reranked_results(bert_query_by_question)\n",
    "dump_to_json(reranked_query_by_question, reranked_output_path + '/reranked_query_by_question.json')\n",
    "\n",
    "bert_query_by_answer = load_from_json(pred_output_path + '/bert_query_by_answer.json')\n",
    "reranked_query_by_answer = r.get_reranked_results(bert_query_by_answer)\n",
    "dump_to_json(reranked_query_by_answer, reranked_output_path + '/reranked_query_by_answer.json')\n",
    "\n",
    "bert_query_by_question_answer = load_from_json(pred_output_path + '/bert_query_by_question_answer.json')\n",
    "reranked_query_by_question_answer = r.get_reranked_results(bert_query_by_question_answer)\n",
    "dump_to_json(reranked_query_by_question_answer, reranked_output_path + '/reranked_query_by_question_answer.json')\n",
    "\n",
    "bert_query_by_question_answer_concat = load_from_json(pred_output_path + '/bert_query_by_question_answer_concat.json')\n",
    "reranked_query_by_question_answer_concat = r.get_reranked_results(bert_query_by_question_answer_concat)\n",
    "dump_to_json(reranked_query_by_question_answer_concat, reranked_output_path + '/reranked_query_by_question_answer_concat.json')"
   ]
  },
  {
   "cell_type": "markdown",
   "metadata": {
    "id": "IRyZyUa9kTKP"
   },
   "source": [
    "**2. Generating reranked results from Question (BERT-Q-q)\"**\n"
   ]
  },
  {
   "cell_type": "code",
   "execution_count": 28,
   "metadata": {
    "id": "JYQ_Ixk4kZp6"
   },
   "outputs": [],
   "source": [
    "# define rank_field, w_t parameters\n",
    "rank_field=\"BERT-Q-q\"; w_t=10;"
   ]
  },
  {
   "cell_type": "markdown",
   "metadata": {
    "id": "EZXbr22mlcPA"
   },
   "source": [
    "**query_type=\"user_query\"; neg_type=\"hard\"; loss_type='triplet'**"
   ]
  },
  {
   "cell_type": "code",
   "execution_count": 29,
   "metadata": {
    "id": "GkAAGDUrlWKr"
   },
   "outputs": [],
   "source": [
    "# define variables\n",
    "query_type=\"user_query\"; neg_type=\"hard\"; loss_type='triplet'"
   ]
  },
  {
   "cell_type": "code",
   "execution_count": 30,
   "metadata": {
    "id": "xXmZkX1mlWDG"
   },
   "outputs": [],
   "source": [
    "# create instance of ReRanker class\n",
    "r = ReRanker(rank_field=rank_field, w_t=w_t)"
   ]
  },
  {
   "cell_type": "code",
   "execution_count": 31,
   "metadata": {
    "colab": {
     "base_uri": "https://localhost:8080/"
    },
    "id": "47GyLe1BlV7l",
    "outputId": "b768f556-cfc4-4db1-b06c-ffb5e2488912"
   },
   "outputs": [
    {
     "name": "stderr",
     "output_type": "stream",
     "text": [
      "2021-04-07 17:32:34 - Re-ranking the top-k results ...\n",
      "2021-04-07 17:32:37 - Re-ranking the top-k results ...\n",
      "2021-04-07 17:32:39 - Re-ranking the top-k results ...\n",
      "2021-04-07 17:32:41 - Re-ranking the top-k results ...\n"
     ]
    }
   ],
   "source": [
    "reranked_output_path = output_path + \"/supervised/\" + rank_field + \"/\" + loss_type + \"/\" + query_type + \"/\" + neg_type\n",
    "pred_output_path     = output_path + \"/supervised/\" + rank_field + \"/\" + loss_type + \"/\" + query_type + \"/\" + neg_type\n",
    "\n",
    "# generate reranked results \n",
    "bert_query_by_question = load_from_json(pred_output_path + '/bert_query_by_question.json')\n",
    "reranked_query_by_question = r.get_reranked_results(bert_query_by_question)\n",
    "dump_to_json(reranked_query_by_question, reranked_output_path + '/reranked_query_by_question.json')\n",
    "\n",
    "bert_query_by_answer = load_from_json(pred_output_path + '/bert_query_by_answer.json')\n",
    "reranked_query_by_answer = r.get_reranked_results(bert_query_by_answer)\n",
    "dump_to_json(reranked_query_by_answer, reranked_output_path + '/reranked_query_by_answer.json')\n",
    "\n",
    "bert_query_by_question_answer = load_from_json(pred_output_path + '/bert_query_by_question_answer.json')\n",
    "reranked_query_by_question_answer = r.get_reranked_results(bert_query_by_question_answer)\n",
    "dump_to_json(reranked_query_by_question_answer, reranked_output_path + '/reranked_query_by_question_answer.json')\n",
    "\n",
    "bert_query_by_question_answer_concat = load_from_json(pred_output_path + '/bert_query_by_question_answer_concat.json')\n",
    "reranked_query_by_question_answer_concat = r.get_reranked_results(bert_query_by_question_answer_concat)\n",
    "dump_to_json(reranked_query_by_question_answer_concat, reranked_output_path + '/reranked_query_by_question_answer_concat.json')"
   ]
  },
  {
   "cell_type": "markdown",
   "metadata": {
    "id": "tM5qc6jrl1DE"
   },
   "source": [
    "**query_type=\"user_query\"; neg_type=\"simple\"; loss_type='triplet'**"
   ]
  },
  {
   "cell_type": "code",
   "execution_count": 32,
   "metadata": {
    "id": "uW6EmCdAlVzK"
   },
   "outputs": [],
   "source": [
    "# define variables\n",
    "query_type=\"user_query\"; neg_type=\"simple\"; loss_type='triplet'"
   ]
  },
  {
   "cell_type": "code",
   "execution_count": 33,
   "metadata": {
    "id": "z6poNdx0lVrh"
   },
   "outputs": [],
   "source": [
    "# create instance of ReRanker class\n",
    "r = ReRanker(rank_field=rank_field, w_t=w_t)"
   ]
  },
  {
   "cell_type": "code",
   "execution_count": 34,
   "metadata": {
    "colab": {
     "base_uri": "https://localhost:8080/"
    },
    "id": "kOJ8nTMslVkJ",
    "outputId": "606e80eb-dbb3-4a71-bf84-d3931dca1911"
   },
   "outputs": [
    {
     "name": "stderr",
     "output_type": "stream",
     "text": [
      "2021-04-07 17:32:44 - Re-ranking the top-k results ...\n",
      "2021-04-07 17:32:46 - Re-ranking the top-k results ...\n",
      "2021-04-07 17:32:48 - Re-ranking the top-k results ...\n",
      "2021-04-07 17:32:51 - Re-ranking the top-k results ...\n"
     ]
    }
   ],
   "source": [
    "reranked_output_path = output_path + \"/supervised/\" + rank_field + \"/\" + loss_type + \"/\" + query_type + \"/\" + neg_type\n",
    "pred_output_path     = output_path + \"/supervised/\" + rank_field + \"/\" + loss_type + \"/\" + query_type + \"/\" + neg_type\n",
    "\n",
    "# generate reranked results \n",
    "bert_query_by_question = load_from_json(pred_output_path + '/bert_query_by_question.json')\n",
    "reranked_query_by_question = r.get_reranked_results(bert_query_by_question)\n",
    "dump_to_json(reranked_query_by_question, reranked_output_path + '/reranked_query_by_question.json')\n",
    "\n",
    "bert_query_by_answer = load_from_json(pred_output_path + '/bert_query_by_answer.json')\n",
    "reranked_query_by_answer = r.get_reranked_results(bert_query_by_answer)\n",
    "dump_to_json(reranked_query_by_answer, reranked_output_path + '/reranked_query_by_answer.json')\n",
    "\n",
    "bert_query_by_question_answer = load_from_json(pred_output_path + '/bert_query_by_question_answer.json')\n",
    "reranked_query_by_question_answer = r.get_reranked_results(bert_query_by_question_answer)\n",
    "dump_to_json(reranked_query_by_question_answer, reranked_output_path + '/reranked_query_by_question_answer.json')\n",
    "\n",
    "bert_query_by_question_answer_concat = load_from_json(pred_output_path + '/bert_query_by_question_answer_concat.json')\n",
    "reranked_query_by_question_answer_concat = r.get_reranked_results(bert_query_by_question_answer_concat)\n",
    "dump_to_json(reranked_query_by_question_answer_concat, reranked_output_path + '/reranked_query_by_question_answer_concat.json')"
   ]
  },
  {
   "cell_type": "markdown",
   "metadata": {
    "id": "YycMuPkZoHSJ"
   },
   "source": [
    "**query_type=\"faq\"; neg_type=\"hard\"; loss_type='triplet'**"
   ]
  },
  {
   "cell_type": "code",
   "execution_count": 35,
   "metadata": {
    "id": "1V5_byZblVT0"
   },
   "outputs": [],
   "source": [
    "# define variables\n",
    "query_type=\"faq\"; neg_type=\"hard\"; loss_type='triplet'"
   ]
  },
  {
   "cell_type": "code",
   "execution_count": 36,
   "metadata": {
    "id": "leu15hKDlVMo"
   },
   "outputs": [],
   "source": [
    "# create instance of ReRanker class\n",
    "r = ReRanker(rank_field=rank_field, w_t=w_t)"
   ]
  },
  {
   "cell_type": "code",
   "execution_count": 37,
   "metadata": {
    "colab": {
     "base_uri": "https://localhost:8080/"
    },
    "id": "LDdzleOUlVFB",
    "outputId": "a4c7e506-fe18-4b0b-fc58-ba116a2a3319"
   },
   "outputs": [
    {
     "name": "stderr",
     "output_type": "stream",
     "text": [
      "2021-04-07 17:32:53 - Re-ranking the top-k results ...\n",
      "2021-04-07 17:32:56 - Re-ranking the top-k results ...\n",
      "2021-04-07 17:32:58 - Re-ranking the top-k results ...\n",
      "2021-04-07 17:33:00 - Re-ranking the top-k results ...\n"
     ]
    }
   ],
   "source": [
    "reranked_output_path = output_path + \"/supervised/\" + rank_field + \"/\" + loss_type + \"/\" + query_type + \"/\" + neg_type\n",
    "pred_output_path     = output_path + \"/supervised/\" + rank_field + \"/\" + loss_type + \"/\" + query_type + \"/\" + neg_type\n",
    "\n",
    "# generate reranked results \n",
    "bert_query_by_question = load_from_json(pred_output_path + '/bert_query_by_question.json')\n",
    "reranked_query_by_question = r.get_reranked_results(bert_query_by_question)\n",
    "dump_to_json(reranked_query_by_question, reranked_output_path + '/reranked_query_by_question.json')\n",
    "\n",
    "bert_query_by_answer = load_from_json(pred_output_path + '/bert_query_by_answer.json')\n",
    "reranked_query_by_answer = r.get_reranked_results(bert_query_by_answer)\n",
    "dump_to_json(reranked_query_by_answer, reranked_output_path + '/reranked_query_by_answer.json')\n",
    "\n",
    "bert_query_by_question_answer = load_from_json(pred_output_path + '/bert_query_by_question_answer.json')\n",
    "reranked_query_by_question_answer = r.get_reranked_results(bert_query_by_question_answer)\n",
    "dump_to_json(reranked_query_by_question_answer, reranked_output_path + '/reranked_query_by_question_answer.json')\n",
    "\n",
    "bert_query_by_question_answer_concat = load_from_json(pred_output_path + '/bert_query_by_question_answer_concat.json')\n",
    "reranked_query_by_question_answer_concat = r.get_reranked_results(bert_query_by_question_answer_concat)\n",
    "dump_to_json(reranked_query_by_question_answer_concat, reranked_output_path + '/reranked_query_by_question_answer_concat.json')"
   ]
  },
  {
   "cell_type": "markdown",
   "metadata": {
    "id": "ugHFLDp3oLKm"
   },
   "source": [
    "**query_type=\"faq\"; neg_type=\"simple\"; loss_type='triplet'**"
   ]
  },
  {
   "cell_type": "code",
   "execution_count": 38,
   "metadata": {
    "id": "0eEmYNyYlU5h"
   },
   "outputs": [],
   "source": [
    "# define variables\n",
    "query_type=\"faq\"; neg_type=\"simple\"; loss_type='triplet'"
   ]
  },
  {
   "cell_type": "code",
   "execution_count": 39,
   "metadata": {
    "id": "eZhB3zuSlUyb"
   },
   "outputs": [],
   "source": [
    "# create instance of ReRanker class\n",
    "r = ReRanker(rank_field=rank_field, w_t=w_t)"
   ]
  },
  {
   "cell_type": "code",
   "execution_count": 40,
   "metadata": {
    "colab": {
     "base_uri": "https://localhost:8080/"
    },
    "id": "Qee6WH2blUqi",
    "outputId": "e6c50662-c354-40de-b531-d77ba4da4c3d"
   },
   "outputs": [
    {
     "name": "stderr",
     "output_type": "stream",
     "text": [
      "2021-04-07 17:33:03 - Re-ranking the top-k results ...\n",
      "2021-04-07 17:33:05 - Re-ranking the top-k results ...\n",
      "2021-04-07 17:33:08 - Re-ranking the top-k results ...\n",
      "2021-04-07 17:33:10 - Re-ranking the top-k results ...\n"
     ]
    }
   ],
   "source": [
    "reranked_output_path = output_path + \"/supervised/\" + rank_field + \"/\" + loss_type + \"/\" + query_type + \"/\" + neg_type\n",
    "pred_output_path     = output_path + \"/supervised/\" + rank_field + \"/\" + loss_type + \"/\" + query_type + \"/\" + neg_type\n",
    "\n",
    "# generate reranked results \n",
    "bert_query_by_question = load_from_json(pred_output_path + '/bert_query_by_question.json')\n",
    "reranked_query_by_question = r.get_reranked_results(bert_query_by_question)\n",
    "dump_to_json(reranked_query_by_question, reranked_output_path + '/reranked_query_by_question.json')\n",
    "\n",
    "bert_query_by_answer = load_from_json(pred_output_path + '/bert_query_by_answer.json')\n",
    "reranked_query_by_answer = r.get_reranked_results(bert_query_by_answer)\n",
    "dump_to_json(reranked_query_by_answer, reranked_output_path + '/reranked_query_by_answer.json')\n",
    "\n",
    "bert_query_by_question_answer = load_from_json(pred_output_path + '/bert_query_by_question_answer.json')\n",
    "reranked_query_by_question_answer = r.get_reranked_results(bert_query_by_question_answer)\n",
    "dump_to_json(reranked_query_by_question_answer, reranked_output_path + '/reranked_query_by_question_answer.json')\n",
    "\n",
    "bert_query_by_question_answer_concat = load_from_json(pred_output_path + '/bert_query_by_question_answer_concat.json')\n",
    "reranked_query_by_question_answer_concat = r.get_reranked_results(bert_query_by_question_answer_concat)\n",
    "dump_to_json(reranked_query_by_question_answer_concat, reranked_output_path + '/reranked_query_by_question_answer_concat.json')"
   ]
  },
  {
   "cell_type": "markdown",
   "metadata": {
    "id": "DqE2Blb3oPw1"
   },
   "source": [
    "**query_type=\"user_query\"; neg_type=\"hard\"; loss_type='softmax'**"
   ]
  },
  {
   "cell_type": "code",
   "execution_count": 41,
   "metadata": {
    "id": "C8noZJecmltk"
   },
   "outputs": [],
   "source": [
    "# define variables\n",
    "query_type=\"user_query\"; neg_type=\"hard\"; loss_type='softmax'"
   ]
  },
  {
   "cell_type": "code",
   "execution_count": 42,
   "metadata": {
    "id": "U_iwsKK6mljZ"
   },
   "outputs": [],
   "source": [
    "# create instance of ReRanker class\n",
    "r = ReRanker(rank_field=rank_field, w_t=w_t)"
   ]
  },
  {
   "cell_type": "code",
   "execution_count": 43,
   "metadata": {
    "colab": {
     "base_uri": "https://localhost:8080/"
    },
    "id": "kkfY7SAAmlZy",
    "outputId": "cd203462-b8e5-42f8-a296-118404db58f0"
   },
   "outputs": [
    {
     "name": "stderr",
     "output_type": "stream",
     "text": [
      "2021-04-07 17:33:12 - Re-ranking the top-k results ...\n",
      "2021-04-07 17:33:15 - Re-ranking the top-k results ...\n",
      "2021-04-07 17:33:17 - Re-ranking the top-k results ...\n",
      "2021-04-07 17:33:20 - Re-ranking the top-k results ...\n"
     ]
    }
   ],
   "source": [
    "reranked_output_path = output_path + \"/supervised/\" + rank_field + \"/\" + loss_type + \"/\" + query_type + \"/\" + neg_type\n",
    "pred_output_path     = output_path + \"/supervised/\" + rank_field + \"/\" + loss_type + \"/\" + query_type + \"/\" + neg_type\n",
    "\n",
    "# generate reranked results \n",
    "bert_query_by_question = load_from_json(pred_output_path + '/bert_query_by_question.json')\n",
    "reranked_query_by_question = r.get_reranked_results(bert_query_by_question)\n",
    "dump_to_json(reranked_query_by_question, reranked_output_path + '/reranked_query_by_question.json')\n",
    "\n",
    "bert_query_by_answer = load_from_json(pred_output_path + '/bert_query_by_answer.json')\n",
    "reranked_query_by_answer = r.get_reranked_results(bert_query_by_answer)\n",
    "dump_to_json(reranked_query_by_answer, reranked_output_path + '/reranked_query_by_answer.json')\n",
    "\n",
    "bert_query_by_question_answer = load_from_json(pred_output_path + '/bert_query_by_question_answer.json')\n",
    "reranked_query_by_question_answer = r.get_reranked_results(bert_query_by_question_answer)\n",
    "dump_to_json(reranked_query_by_question_answer, reranked_output_path + '/reranked_query_by_question_answer.json')\n",
    "\n",
    "bert_query_by_question_answer_concat = load_from_json(pred_output_path + '/bert_query_by_question_answer_concat.json')\n",
    "reranked_query_by_question_answer_concat = r.get_reranked_results(bert_query_by_question_answer_concat)\n",
    "dump_to_json(reranked_query_by_question_answer_concat, reranked_output_path + '/reranked_query_by_question_answer_concat.json')"
   ]
  },
  {
   "cell_type": "markdown",
   "metadata": {
    "id": "0lO2b2wxoUWS"
   },
   "source": [
    "**query_type=\"user_query\"; neg_type=\"simple\"; loss_type='softmax'**"
   ]
  },
  {
   "cell_type": "code",
   "execution_count": 44,
   "metadata": {
    "id": "lctMrtS0mlHO"
   },
   "outputs": [],
   "source": [
    "# define variables\n",
    "query_type=\"user_query\"; neg_type=\"simple\"; loss_type='softmax'"
   ]
  },
  {
   "cell_type": "code",
   "execution_count": 45,
   "metadata": {
    "id": "H-NvD-Sgmk9l"
   },
   "outputs": [],
   "source": [
    "# create instance of ReRanker class\n",
    "r = ReRanker(rank_field=rank_field, w_t=w_t)"
   ]
  },
  {
   "cell_type": "code",
   "execution_count": 46,
   "metadata": {
    "colab": {
     "base_uri": "https://localhost:8080/"
    },
    "id": "8sIIkgKhmk4C",
    "outputId": "870992ad-dbb8-43b5-ce89-5c9e96d6d936"
   },
   "outputs": [
    {
     "name": "stderr",
     "output_type": "stream",
     "text": [
      "2021-04-07 17:33:22 - Re-ranking the top-k results ...\n",
      "2021-04-07 17:33:25 - Re-ranking the top-k results ...\n",
      "2021-04-07 17:33:27 - Re-ranking the top-k results ...\n",
      "2021-04-07 17:33:29 - Re-ranking the top-k results ...\n"
     ]
    }
   ],
   "source": [
    "reranked_output_path = output_path + \"/supervised/\" + rank_field + \"/\" + loss_type + \"/\" + query_type + \"/\" + neg_type\n",
    "pred_output_path     = output_path + \"/supervised/\" + rank_field + \"/\" + loss_type + \"/\" + query_type + \"/\" + neg_type\n",
    "\n",
    "# generate reranked results \n",
    "bert_query_by_question = load_from_json(pred_output_path + '/bert_query_by_question.json')\n",
    "reranked_query_by_question = r.get_reranked_results(bert_query_by_question)\n",
    "dump_to_json(reranked_query_by_question, reranked_output_path + '/reranked_query_by_question.json')\n",
    "\n",
    "bert_query_by_answer = load_from_json(pred_output_path + '/bert_query_by_answer.json')\n",
    "reranked_query_by_answer = r.get_reranked_results(bert_query_by_answer)\n",
    "dump_to_json(reranked_query_by_answer, reranked_output_path + '/reranked_query_by_answer.json')\n",
    "\n",
    "bert_query_by_question_answer = load_from_json(pred_output_path + '/bert_query_by_question_answer.json')\n",
    "reranked_query_by_question_answer = r.get_reranked_results(bert_query_by_question_answer)\n",
    "dump_to_json(reranked_query_by_question_answer, reranked_output_path + '/reranked_query_by_question_answer.json')\n",
    "\n",
    "bert_query_by_question_answer_concat = load_from_json(pred_output_path + '/bert_query_by_question_answer_concat.json')\n",
    "reranked_query_by_question_answer_concat = r.get_reranked_results(bert_query_by_question_answer_concat)\n",
    "dump_to_json(reranked_query_by_question_answer_concat, reranked_output_path + '/reranked_query_by_question_answer_concat.json')"
   ]
  },
  {
   "cell_type": "markdown",
   "metadata": {
    "id": "hcXgJnWboXMy"
   },
   "source": [
    "**query_type=\"faq\"; neg_type=\"hard\"; loss_type='softmax'**"
   ]
  },
  {
   "cell_type": "code",
   "execution_count": 47,
   "metadata": {
    "id": "uU_9X36LnNNi"
   },
   "outputs": [],
   "source": [
    "# define variables\n",
    "query_type=\"faq\"; neg_type=\"hard\"; loss_type='softmax'"
   ]
  },
  {
   "cell_type": "code",
   "execution_count": 48,
   "metadata": {
    "id": "KdUQo5RznNCE"
   },
   "outputs": [],
   "source": [
    "# create instance of ReRanker class\n",
    "r = ReRanker(rank_field=rank_field, w_t=w_t)"
   ]
  },
  {
   "cell_type": "code",
   "execution_count": 49,
   "metadata": {
    "colab": {
     "base_uri": "https://localhost:8080/"
    },
    "id": "vjDLglyJnM28",
    "outputId": "c23eea1e-8a5f-4ffa-efd2-f5aba8aa443d"
   },
   "outputs": [
    {
     "name": "stderr",
     "output_type": "stream",
     "text": [
      "2021-04-07 17:33:32 - Re-ranking the top-k results ...\n",
      "2021-04-07 17:33:34 - Re-ranking the top-k results ...\n",
      "2021-04-07 17:33:36 - Re-ranking the top-k results ...\n",
      "2021-04-07 17:33:39 - Re-ranking the top-k results ...\n"
     ]
    }
   ],
   "source": [
    "reranked_output_path = output_path + \"/supervised/\" + rank_field + \"/\" + loss_type + \"/\" + query_type + \"/\" + neg_type\n",
    "pred_output_path     = output_path + \"/supervised/\" + rank_field + \"/\" + loss_type + \"/\" + query_type + \"/\" + neg_type\n",
    "\n",
    "# generate reranked results \n",
    "bert_query_by_question = load_from_json(pred_output_path + '/bert_query_by_question.json')\n",
    "reranked_query_by_question = r.get_reranked_results(bert_query_by_question)\n",
    "dump_to_json(reranked_query_by_question, reranked_output_path + '/reranked_query_by_question.json')\n",
    "\n",
    "bert_query_by_answer = load_from_json(pred_output_path + '/bert_query_by_answer.json')\n",
    "reranked_query_by_answer = r.get_reranked_results(bert_query_by_answer)\n",
    "dump_to_json(reranked_query_by_answer, reranked_output_path + '/reranked_query_by_answer.json')\n",
    "\n",
    "bert_query_by_question_answer = load_from_json(pred_output_path + '/bert_query_by_question_answer.json')\n",
    "reranked_query_by_question_answer = r.get_reranked_results(bert_query_by_question_answer)\n",
    "dump_to_json(reranked_query_by_question_answer, reranked_output_path + '/reranked_query_by_question_answer.json')\n",
    "\n",
    "bert_query_by_question_answer_concat = load_from_json(pred_output_path + '/bert_query_by_question_answer_concat.json')\n",
    "reranked_query_by_question_answer_concat = r.get_reranked_results(bert_query_by_question_answer_concat)\n",
    "dump_to_json(reranked_query_by_question_answer_concat, reranked_output_path + '/reranked_query_by_question_answer_concat.json')"
   ]
  },
  {
   "cell_type": "markdown",
   "metadata": {
    "id": "ZubZiiwqobdT"
   },
   "source": [
    "**query_type=\"faq\"; neg_type=\"simple\"; loss_type='softmax'**"
   ]
  },
  {
   "cell_type": "code",
   "execution_count": 50,
   "metadata": {
    "id": "aEoVIgvQnMf-"
   },
   "outputs": [],
   "source": [
    "# define variables\n",
    "query_type=\"faq\"; neg_type=\"simple\"; loss_type='softmax'"
   ]
  },
  {
   "cell_type": "code",
   "execution_count": 51,
   "metadata": {
    "id": "ZaVyBLM9nMUn"
   },
   "outputs": [],
   "source": [
    "# create instance of ReRanker class\n",
    "r = ReRanker(rank_field=rank_field, w_t=w_t)"
   ]
  },
  {
   "cell_type": "code",
   "execution_count": 52,
   "metadata": {
    "colab": {
     "base_uri": "https://localhost:8080/"
    },
    "id": "ydEelLV-nMIn",
    "outputId": "680c18db-14fa-4fc9-fc53-e221a8df01a7"
   },
   "outputs": [
    {
     "name": "stderr",
     "output_type": "stream",
     "text": [
      "2021-04-07 17:33:41 - Re-ranking the top-k results ...\n",
      "2021-04-07 17:33:43 - Re-ranking the top-k results ...\n",
      "2021-04-07 17:33:46 - Re-ranking the top-k results ...\n",
      "2021-04-07 17:33:48 - Re-ranking the top-k results ...\n"
     ]
    }
   ],
   "source": [
    "reranked_output_path = output_path + \"/supervised/\" + rank_field + \"/\" + loss_type + \"/\" + query_type + \"/\" + neg_type\n",
    "pred_output_path     = output_path + \"/supervised/\" + rank_field + \"/\" + loss_type + \"/\" + query_type + \"/\" + neg_type\n",
    "\n",
    "# generate reranked results \n",
    "bert_query_by_question = load_from_json(pred_output_path + '/bert_query_by_question.json')\n",
    "reranked_query_by_question = r.get_reranked_results(bert_query_by_question)\n",
    "dump_to_json(reranked_query_by_question, reranked_output_path + '/reranked_query_by_question.json')\n",
    "\n",
    "bert_query_by_answer = load_from_json(pred_output_path + '/bert_query_by_answer.json')\n",
    "reranked_query_by_answer = r.get_reranked_results(bert_query_by_answer)\n",
    "dump_to_json(reranked_query_by_answer, reranked_output_path + '/reranked_query_by_answer.json')\n",
    "\n",
    "bert_query_by_question_answer = load_from_json(pred_output_path + '/bert_query_by_question_answer.json')\n",
    "reranked_query_by_question_answer = r.get_reranked_results(bert_query_by_question_answer)\n",
    "dump_to_json(reranked_query_by_question_answer, reranked_output_path + '/reranked_query_by_question_answer.json')\n",
    "\n",
    "bert_query_by_question_answer_concat = load_from_json(pred_output_path + '/bert_query_by_question_answer_concat.json')\n",
    "reranked_query_by_question_answer_concat = r.get_reranked_results(bert_query_by_question_answer_concat)\n",
    "dump_to_json(reranked_query_by_question_answer_concat, reranked_output_path + '/reranked_query_by_question_answer_concat.json')"
   ]
  }
 ],
 "metadata": {
  "accelerator": "GPU",
  "colab": {
   "collapsed_sections": [],
   "name": "07_Generating_Bert_Predictions.ipynb",
   "provenance": []
  },
  "kernelspec": {
   "display_name": "Python 3",
   "language": "python",
   "name": "python3"
  },
  "language_info": {
   "codemirror_mode": {
    "name": "ipython",
    "version": 3
   },
   "file_extension": ".py",
   "mimetype": "text/x-python",
   "name": "python",
   "nbconvert_exporter": "python",
   "pygments_lexer": "ipython3",
   "version": "3.8.5"
  }
 },
 "nbformat": 4,
 "nbformat_minor": 1
}
