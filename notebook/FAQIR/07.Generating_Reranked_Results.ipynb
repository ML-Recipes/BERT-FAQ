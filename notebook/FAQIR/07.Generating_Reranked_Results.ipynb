{
 "cells": [
  {
   "cell_type": "code",
   "execution_count": 1,
   "metadata": {
    "colab": {
     "base_uri": "https://localhost:8080/"
    },
    "id": "GWIhLk6uIODF",
    "outputId": "1c92dfd1-846d-47bf-9efa-4024245e2b9e"
   },
   "outputs": [
    {
     "name": "stdout",
     "output_type": "stream",
     "text": [
      "Collecting sentence-transformers\n",
      "\u001b[?25l  Downloading https://files.pythonhosted.org/packages/6a/e2/84d6acfcee2d83164149778a33b6bdd1a74e1bcb59b2b2cd1b861359b339/sentence-transformers-0.4.1.2.tar.gz (64kB)\n",
      "\u001b[K     |████████████████████████████████| 71kB 5.2MB/s \n",
      "\u001b[?25hCollecting transformers<5.0.0,>=3.1.0\n",
      "\u001b[?25l  Downloading https://files.pythonhosted.org/packages/f9/54/5ca07ec9569d2f232f3166de5457b63943882f7950ddfcc887732fc7fb23/transformers-4.3.3-py3-none-any.whl (1.9MB)\n",
      "\u001b[K     |████████████████████████████████| 1.9MB 7.3MB/s \n",
      "\u001b[?25hRequirement already satisfied: tqdm in /usr/local/lib/python3.7/dist-packages (from sentence-transformers) (4.41.1)\n",
      "Requirement already satisfied: torch>=1.6.0 in /usr/local/lib/python3.7/dist-packages (from sentence-transformers) (1.7.1+cu101)\n",
      "Requirement already satisfied: numpy in /usr/local/lib/python3.7/dist-packages (from sentence-transformers) (1.19.5)\n",
      "Requirement already satisfied: scikit-learn in /usr/local/lib/python3.7/dist-packages (from sentence-transformers) (0.22.2.post1)\n",
      "Requirement already satisfied: scipy in /usr/local/lib/python3.7/dist-packages (from sentence-transformers) (1.4.1)\n",
      "Requirement already satisfied: nltk in /usr/local/lib/python3.7/dist-packages (from sentence-transformers) (3.2.5)\n",
      "Collecting sentencepiece\n",
      "\u001b[?25l  Downloading https://files.pythonhosted.org/packages/f5/99/e0808cb947ba10f575839c43e8fafc9cc44e4a7a2c8f79c60db48220a577/sentencepiece-0.1.95-cp37-cp37m-manylinux2014_x86_64.whl (1.2MB)\n",
      "\u001b[K     |████████████████████████████████| 1.2MB 37.5MB/s \n",
      "\u001b[?25hRequirement already satisfied: filelock in /usr/local/lib/python3.7/dist-packages (from transformers<5.0.0,>=3.1.0->sentence-transformers) (3.0.12)\n",
      "Requirement already satisfied: importlib-metadata; python_version < \"3.8\" in /usr/local/lib/python3.7/dist-packages (from transformers<5.0.0,>=3.1.0->sentence-transformers) (3.7.0)\n",
      "Requirement already satisfied: regex!=2019.12.17 in /usr/local/lib/python3.7/dist-packages (from transformers<5.0.0,>=3.1.0->sentence-transformers) (2019.12.20)\n",
      "Collecting sacremoses\n",
      "\u001b[?25l  Downloading https://files.pythonhosted.org/packages/7d/34/09d19aff26edcc8eb2a01bed8e98f13a1537005d31e95233fd48216eed10/sacremoses-0.0.43.tar.gz (883kB)\n",
      "\u001b[K     |████████████████████████████████| 890kB 53.8MB/s \n",
      "\u001b[?25hRequirement already satisfied: requests in /usr/local/lib/python3.7/dist-packages (from transformers<5.0.0,>=3.1.0->sentence-transformers) (2.23.0)\n",
      "Collecting tokenizers<0.11,>=0.10.1\n",
      "\u001b[?25l  Downloading https://files.pythonhosted.org/packages/71/23/2ddc317b2121117bf34dd00f5b0de194158f2a44ee2bf5e47c7166878a97/tokenizers-0.10.1-cp37-cp37m-manylinux2010_x86_64.whl (3.2MB)\n",
      "\u001b[K     |████████████████████████████████| 3.2MB 47.1MB/s \n",
      "\u001b[?25hRequirement already satisfied: packaging in /usr/local/lib/python3.7/dist-packages (from transformers<5.0.0,>=3.1.0->sentence-transformers) (20.9)\n",
      "Requirement already satisfied: typing-extensions in /usr/local/lib/python3.7/dist-packages (from torch>=1.6.0->sentence-transformers) (3.7.4.3)\n",
      "Requirement already satisfied: joblib>=0.11 in /usr/local/lib/python3.7/dist-packages (from scikit-learn->sentence-transformers) (1.0.1)\n",
      "Requirement already satisfied: six in /usr/local/lib/python3.7/dist-packages (from nltk->sentence-transformers) (1.15.0)\n",
      "Requirement already satisfied: zipp>=0.5 in /usr/local/lib/python3.7/dist-packages (from importlib-metadata; python_version < \"3.8\"->transformers<5.0.0,>=3.1.0->sentence-transformers) (3.4.0)\n",
      "Requirement already satisfied: click in /usr/local/lib/python3.7/dist-packages (from sacremoses->transformers<5.0.0,>=3.1.0->sentence-transformers) (7.1.2)\n",
      "Requirement already satisfied: chardet<4,>=3.0.2 in /usr/local/lib/python3.7/dist-packages (from requests->transformers<5.0.0,>=3.1.0->sentence-transformers) (3.0.4)\n",
      "Requirement already satisfied: certifi>=2017.4.17 in /usr/local/lib/python3.7/dist-packages (from requests->transformers<5.0.0,>=3.1.0->sentence-transformers) (2020.12.5)\n",
      "Requirement already satisfied: urllib3!=1.25.0,!=1.25.1,<1.26,>=1.21.1 in /usr/local/lib/python3.7/dist-packages (from requests->transformers<5.0.0,>=3.1.0->sentence-transformers) (1.24.3)\n",
      "Requirement already satisfied: idna<3,>=2.5 in /usr/local/lib/python3.7/dist-packages (from requests->transformers<5.0.0,>=3.1.0->sentence-transformers) (2.10)\n",
      "Requirement already satisfied: pyparsing>=2.0.2 in /usr/local/lib/python3.7/dist-packages (from packaging->transformers<5.0.0,>=3.1.0->sentence-transformers) (2.4.7)\n",
      "Building wheels for collected packages: sentence-transformers, sacremoses\n",
      "  Building wheel for sentence-transformers (setup.py) ... \u001b[?25l\u001b[?25hdone\n",
      "  Created wheel for sentence-transformers: filename=sentence_transformers-0.4.1.2-cp37-none-any.whl size=103068 sha256=71903f02baf39aa33a537f896ba244211a98702d97c52b74e962276b3542950f\n",
      "  Stored in directory: /root/.cache/pip/wheels/3d/33/d1/5703dd56199c09d4a1b41e0c07fb4e7765a84d787cbdc48ac3\n",
      "  Building wheel for sacremoses (setup.py) ... \u001b[?25l\u001b[?25hdone\n",
      "  Created wheel for sacremoses: filename=sacremoses-0.0.43-cp37-none-any.whl size=893262 sha256=f8b95816b1fc76937e202a182ec8f1f8dc2ad4b443e63c094aad1167d9774cef\n",
      "  Stored in directory: /root/.cache/pip/wheels/29/3c/fd/7ce5c3f0666dab31a50123635e6fb5e19ceb42ce38d4e58f45\n",
      "Successfully built sentence-transformers sacremoses\n",
      "Installing collected packages: sacremoses, tokenizers, transformers, sentencepiece, sentence-transformers\n",
      "Successfully installed sacremoses-0.0.43 sentence-transformers-0.4.1.2 sentencepiece-0.1.95 tokenizers-0.10.1 transformers-4.3.3\n"
     ]
    }
   ],
   "source": [
    "# install required libraries\n",
    "!pip3 install sentence-transformers"
   ]
  },
  {
   "cell_type": "code",
   "execution_count": 2,
   "metadata": {
    "colab": {
     "base_uri": "https://localhost:8080/"
    },
    "id": "wHrXaJsSLhrJ",
    "outputId": "c2762ee8-dffc-44c3-f595-10e81d78508d"
   },
   "outputs": [
    {
     "name": "stdout",
     "output_type": "stream",
     "text": [
      "Collecting elasticsearch\n",
      "\u001b[?25l  Downloading https://files.pythonhosted.org/packages/72/68/76c5d46cc6a48fddb759f585bc8728caa11bfc9b812ce6705fc5f99beab2/elasticsearch-7.11.0-py2.py3-none-any.whl (325kB)\n",
      "\r",
      "\u001b[K     |█                               | 10kB 19.9MB/s eta 0:00:01\r",
      "\u001b[K     |██                              | 20kB 15.3MB/s eta 0:00:01\r",
      "\u001b[K     |███                             | 30kB 12.9MB/s eta 0:00:01\r",
      "\u001b[K     |████                            | 40kB 12.0MB/s eta 0:00:01\r",
      "\u001b[K     |█████                           | 51kB 8.2MB/s eta 0:00:01\r",
      "\u001b[K     |██████                          | 61kB 8.4MB/s eta 0:00:01\r",
      "\u001b[K     |███████                         | 71kB 8.7MB/s eta 0:00:01\r",
      "\u001b[K     |████████                        | 81kB 9.7MB/s eta 0:00:01\r",
      "\u001b[K     |█████████                       | 92kB 8.7MB/s eta 0:00:01\r",
      "\u001b[K     |██████████                      | 102kB 7.8MB/s eta 0:00:01\r",
      "\u001b[K     |███████████                     | 112kB 7.8MB/s eta 0:00:01\r",
      "\u001b[K     |████████████                    | 122kB 7.8MB/s eta 0:00:01\r",
      "\u001b[K     |█████████████                   | 133kB 7.8MB/s eta 0:00:01\r",
      "\u001b[K     |██████████████                  | 143kB 7.8MB/s eta 0:00:01\r",
      "\u001b[K     |███████████████                 | 153kB 7.8MB/s eta 0:00:01\r",
      "\u001b[K     |████████████████                | 163kB 7.8MB/s eta 0:00:01\r",
      "\u001b[K     |█████████████████               | 174kB 7.8MB/s eta 0:00:01\r",
      "\u001b[K     |██████████████████▏             | 184kB 7.8MB/s eta 0:00:01\r",
      "\u001b[K     |███████████████████▏            | 194kB 7.8MB/s eta 0:00:01\r",
      "\u001b[K     |████████████████████▏           | 204kB 7.8MB/s eta 0:00:01\r",
      "\u001b[K     |█████████████████████▏          | 215kB 7.8MB/s eta 0:00:01\r",
      "\u001b[K     |██████████████████████▏         | 225kB 7.8MB/s eta 0:00:01\r",
      "\u001b[K     |███████████████████████▏        | 235kB 7.8MB/s eta 0:00:01\r",
      "\u001b[K     |████████████████████████▏       | 245kB 7.8MB/s eta 0:00:01\r",
      "\u001b[K     |█████████████████████████▏      | 256kB 7.8MB/s eta 0:00:01\r",
      "\u001b[K     |██████████████████████████▏     | 266kB 7.8MB/s eta 0:00:01\r",
      "\u001b[K     |███████████████████████████▏    | 276kB 7.8MB/s eta 0:00:01\r",
      "\u001b[K     |████████████████████████████▏   | 286kB 7.8MB/s eta 0:00:01\r",
      "\u001b[K     |█████████████████████████████▏  | 296kB 7.8MB/s eta 0:00:01\r",
      "\u001b[K     |██████████████████████████████▏ | 307kB 7.8MB/s eta 0:00:01\r",
      "\u001b[K     |███████████████████████████████▏| 317kB 7.8MB/s eta 0:00:01\r",
      "\u001b[K     |████████████████████████████████| 327kB 7.8MB/s \n",
      "\u001b[?25hRequirement already satisfied: certifi in /usr/local/lib/python3.7/dist-packages (from elasticsearch) (2020.12.5)\n",
      "Requirement already satisfied: urllib3<2,>=1.21.1 in /usr/local/lib/python3.7/dist-packages (from elasticsearch) (1.24.3)\n",
      "Installing collected packages: elasticsearch\n",
      "Successfully installed elasticsearch-7.11.0\n"
     ]
    }
   ],
   "source": [
    "!pip3 install elasticsearch"
   ]
  },
  {
   "cell_type": "code",
   "execution_count": 3,
   "metadata": {
    "id": "Nx6PkXGeh5s3"
   },
   "outputs": [],
   "source": [
    "from google.colab import drive"
   ]
  },
  {
   "cell_type": "code",
   "execution_count": 4,
   "metadata": {
    "colab": {
     "base_uri": "https://localhost:8080/"
    },
    "id": "L-v9U9E5h5gb",
    "outputId": "46127769-3a91-440e-b888-c65abd53576f"
   },
   "outputs": [
    {
     "name": "stdout",
     "output_type": "stream",
     "text": [
      "Mounted at /content/drive\n"
     ]
    }
   ],
   "source": [
    "drive.mount('/content/drive')"
   ]
  },
  {
   "cell_type": "code",
   "execution_count": 5,
   "metadata": {
    "colab": {
     "base_uri": "https://localhost:8080/"
    },
    "id": "dMP1Wg7Bh5RT",
    "outputId": "4e490939-3a18-4f15-884b-a05bffdde8f8"
   },
   "outputs": [
    {
     "name": "stdout",
     "output_type": "stream",
     "text": [
      "/content/drive/MyDrive/BERT-FAQ\n"
     ]
    }
   ],
   "source": [
    "%cd /content/drive/MyDrive/BERT-FAQ"
   ]
  },
  {
   "cell_type": "code",
   "execution_count": 6,
   "metadata": {
    "colab": {
     "base_uri": "https://localhost:8080/"
    },
    "id": "-ESSxl0XiXAD",
    "outputId": "c02b2142-b436-4512-c5d3-5a17cb3e6eae"
   },
   "outputs": [
    {
     "name": "stdout",
     "output_type": "stream",
     "text": [
      "data\t\t\t     metric.py\t  reranker.py\n",
      "evaluation.py\t\t     notebook\t  searcher.py\n",
      "faq_bert_finetuning.py\t     output\t  shared\n",
      "faq_bert.py\t\t     parser\t  training_data_generator.py\n",
      "hard_negatives_generator.py  __pycache__\n",
      "indexer.py\t\t     README.md\n"
     ]
    }
   ],
   "source": [
    "!ls"
   ]
  },
  {
   "cell_type": "code",
   "execution_count": 7,
   "metadata": {
    "id": "Fu6mIC_NKTRR"
   },
   "outputs": [],
   "source": [
    "# import required dependencies\n",
    "from evaluation import get_relevance_label_df\n",
    "from shared.utils import load_from_json\n",
    "from shared.utils import dump_to_json\n",
    "from shared.utils import make_dirs\n",
    "from reranker import ReRanker"
   ]
  },
  {
   "cell_type": "markdown",
   "metadata": {
    "id": "-El9_2qsn20-"
   },
   "source": [
    "**#################### Triplet Loss ######################**"
   ]
  },
  {
   "cell_type": "code",
   "execution_count": 8,
   "metadata": {
    "id": "kqf63kR3qGLh"
   },
   "outputs": [],
   "source": [
    "output_path=\"data/FAQIR/rank_results\"\n",
    "\n",
    "# load user_query ES results from json files\n",
    "es_output_path = output_path + \"/unsupervised\"\n",
    "es_query_by_question = load_from_json(es_output_path + '/es_query_by_question.json')\n",
    "es_query_by_answer = load_from_json(es_output_path + '/es_query_by_answer.json')\n",
    "es_query_by_question_answer = load_from_json(es_output_path + '/es_query_by_question_answer.json')\n",
    "es_query_by_question_answer_concat = load_from_json(es_output_path + '/es_query_by_question_answer_concat.json')"
   ]
  },
  {
   "cell_type": "code",
   "execution_count": 9,
   "metadata": {
    "id": "FA0r2Ixqt95U"
   },
   "outputs": [],
   "source": [
    "# load test_queries, relevance_label_df for ReRanker\n",
    "query_answer_pair_filepath = 'data/FAQIR/query_answer_pairs.json'\n",
    "relevance_label_df = get_relevance_label_df(query_answer_pair_filepath)\n",
    "test_queries = relevance_label_df[relevance_label_df['query_type'] == 'user_query'].question.unique()"
   ]
  },
  {
   "cell_type": "code",
   "execution_count": 10,
   "metadata": {
    "colab": {
     "base_uri": "https://localhost:8080/"
    },
    "id": "g6zDCmqkt_z3",
    "outputId": "bb7e9fb9-3572-471d-db2b-ca426c12ed4a"
   },
   "outputs": [
    {
     "data": {
      "text/plain": [
       "array(['How to make font strikethrough on github.',\n",
       "       'Is it possible to get  strikethrough letter formatting on github markdown.',\n",
       "       'Making the text on github crossed out.',\n",
       "       'Introducing stikethrough formatting on markdown for github.',\n",
       "       'The <s> tag for font on github markdown doesnt work, is there an alternative?',\n",
       "       'Making the letters i write on github striked through.',\n",
       "       'Producing strikethrough text in github.',\n",
       "       'Does github support strikethrough letters?',\n",
       "       'How can I cross out my text on git hub?',\n",
       "       'I want to have strikethrough text on github, is this possible?'],\n",
       "      dtype=object)"
      ]
     },
     "execution_count": 10,
     "metadata": {
      "tags": []
     },
     "output_type": "execute_result"
    }
   ],
   "source": [
    "test_queries[:10]"
   ]
  },
  {
   "cell_type": "code",
   "execution_count": 11,
   "metadata": {
    "colab": {
     "base_uri": "https://localhost:8080/"
    },
    "id": "sXHGoAWouDGt",
    "outputId": "598066f4-8755-4403-932c-f7f12fe681f2"
   },
   "outputs": [
    {
     "data": {
      "text/plain": [
       "1249"
      ]
     },
     "execution_count": 11,
     "metadata": {
      "tags": []
     },
     "output_type": "execute_result"
    }
   ],
   "source": [
    "# total number of test queries\n",
    "len(test_queries)"
   ]
  },
  {
   "cell_type": "markdown",
   "metadata": {
    "id": "SxcqS2Dj2liG"
   },
   "source": [
    "**Re-ranking results using query_type=\"user_query\"; neg_type=\"hard\"**"
   ]
  },
  {
   "cell_type": "code",
   "execution_count": 12,
   "metadata": {
    "id": "__jcFHSRBZSY"
   },
   "outputs": [],
   "source": [
    "# define variables\n",
    "query_type=\"user_query\"; neg_type=\"hard\"; version=\"1.1\"; loss_type='triplet'\n",
    "bert_model_path='output/FAQIR/models/' + loss_type + '_' + neg_type + '_' + query_type + '_' + version"
   ]
  },
  {
   "cell_type": "code",
   "execution_count": 13,
   "metadata": {
    "id": "n9ycYBipNnP9"
   },
   "outputs": [],
   "source": [
    "# create instance of ReRanker class\n",
    "r = ReRanker(\n",
    "    bert_model_path=bert_model_path, \n",
    "    test_queries=test_queries, relevance_label_df=relevance_label_df, loss_type=loss_type\n",
    ")"
   ]
  },
  {
   "cell_type": "code",
   "execution_count": 14,
   "metadata": {
    "colab": {
     "base_uri": "https://localhost:8080/"
    },
    "id": "xJMgG4aZKTN5",
    "outputId": "1a4e306e-5e25-49f0-cfe8-9072ec241557"
   },
   "outputs": [
    {
     "name": "stderr",
     "output_type": "stream",
     "text": [
      "2021-02-28 08:30:56 - Generating BERT top-k results ...\n",
      "2021-02-28 08:30:56 - Load pretrained SentenceTransformer: output/StackFAQv1.0/models/triplet_hard_user_query_1.1\n",
      "2021-02-28 08:30:57 - Load SentenceTransformer from folder: output/StackFAQv1.0/models/triplet_hard_user_query_1.1\n",
      "2021-02-28 08:31:15 - Use pytorch device: cuda\n",
      "100%|██████████| 1249/1249 [01:56<00:00, 10.71it/s]\n",
      "2021-02-28 08:33:12 - Generating BERT top-k results ...\n",
      "2021-02-28 08:33:12 - Load pretrained SentenceTransformer: output/StackFAQv1.0/models/triplet_hard_user_query_1.1\n",
      "2021-02-28 08:33:12 - Load SentenceTransformer from folder: output/StackFAQv1.0/models/triplet_hard_user_query_1.1\n",
      "2021-02-28 08:33:13 - Use pytorch device: cuda\n",
      "100%|██████████| 1249/1249 [01:49<00:00, 11.41it/s]\n",
      "2021-02-28 08:35:03 - Generating BERT top-k results ...\n",
      "2021-02-28 08:35:03 - Load pretrained SentenceTransformer: output/StackFAQv1.0/models/triplet_hard_user_query_1.1\n",
      "2021-02-28 08:35:03 - Load SentenceTransformer from folder: output/StackFAQv1.0/models/triplet_hard_user_query_1.1\n",
      "2021-02-28 08:35:04 - Use pytorch device: cuda\n",
      "100%|██████████| 1249/1249 [01:47<00:00, 11.59it/s]\n",
      "2021-02-28 08:36:52 - Generating BERT top-k results ...\n",
      "2021-02-28 08:36:52 - Load pretrained SentenceTransformer: output/StackFAQv1.0/models/triplet_hard_user_query_1.1\n",
      "2021-02-28 08:36:52 - Load SentenceTransformer from folder: output/StackFAQv1.0/models/triplet_hard_user_query_1.1\n",
      "2021-02-28 08:36:53 - Use pytorch device: cuda\n",
      "100%|██████████| 1249/1249 [01:45<00:00, 11.88it/s]\n"
     ]
    }
   ],
   "source": [
    "# next, generate BERT top-k preds and save to files\n",
    "bert_query_by_question = r.get_bert_topk_preds(es_query_by_question)\n",
    "bert_query_by_answer = r.get_bert_topk_preds(es_query_by_answer)\n",
    "bert_query_by_question_answer = r.get_bert_topk_preds(es_query_by_question_answer)\n",
    "bert_query_by_question_answer_concat = r.get_bert_topk_preds(es_query_by_question_answer_concat)"
   ]
  },
  {
   "cell_type": "code",
   "execution_count": 15,
   "metadata": {
    "id": "WADvltzHNttD"
   },
   "outputs": [],
   "source": [
    "# dump BERT top-k preds to json files\n",
    "bert_output_path = output_path + \"/supervised/\" + loss_type + \"/\" + query_type + \"/\" + neg_type\n",
    "make_dirs(bert_output_path)\n",
    "\n",
    "dump_to_json(bert_query_by_question, bert_output_path + '/bert_query_by_question.json')\n",
    "dump_to_json(bert_query_by_answer, bert_output_path + '/bert_query_by_answer.json')\n",
    "dump_to_json(bert_query_by_question_answer, bert_output_path + '/bert_query_by_question_answer.json')\n",
    "dump_to_json(bert_query_by_question_answer_concat, bert_output_path + '/bert_query_by_question_answer_concat.json')"
   ]
  },
  {
   "cell_type": "code",
   "execution_count": 16,
   "metadata": {
    "colab": {
     "base_uri": "https://localhost:8080/"
    },
    "id": "XnQPnLktN7Oc",
    "outputId": "c5c1bc5c-d442-426e-b9b6-78910ed5d8af"
   },
   "outputs": [
    {
     "name": "stderr",
     "output_type": "stream",
     "text": [
      "2021-02-28 08:38:40 - Re-ranking the top-k results ...\n",
      "2021-02-28 08:38:40 - Re-ranking the top-k results ...\n",
      "2021-02-28 08:38:40 - Re-ranking the top-k results ...\n",
      "2021-02-28 08:38:40 - Re-ranking the top-k results ...\n"
     ]
    }
   ],
   "source": [
    "# next, generate the Re-ranked top-k results \n",
    "reranked_query_by_question = r.get_reranked_results(bert_query_by_question)\n",
    "reranked_query_by_answer = r.get_reranked_results(bert_query_by_answer)\n",
    "reranked_query_by_question_answer = r.get_reranked_results(bert_query_by_question_answer)\n",
    "reranked_query_by_question_answer_concat = r.get_reranked_results(bert_query_by_question_answer_concat)"
   ]
  },
  {
   "cell_type": "code",
   "execution_count": 17,
   "metadata": {
    "id": "TGo_j1pRKTKy"
   },
   "outputs": [],
   "source": [
    "# dump Re-ranked results to json files\n",
    "reranked_output_path = output_path + \"/supervised/\" + loss_type + \"/\" + query_type + \"/\" + neg_type\n",
    "make_dirs(reranked_output_path)\n",
    "\n",
    "dump_to_json(reranked_query_by_question, reranked_output_path + '/reranked_query_by_question.json')\n",
    "dump_to_json(reranked_query_by_answer, reranked_output_path + '/reranked_query_by_answer.json')\n",
    "dump_to_json(reranked_query_by_question_answer, reranked_output_path + '/reranked_query_by_question_answer.json')\n",
    "dump_to_json(reranked_query_by_question_answer_concat, reranked_output_path + '/reranked_query_by_question_answer_concat.json')"
   ]
  },
  {
   "cell_type": "markdown",
   "metadata": {
    "id": "ni5fBXXCM8oo"
   },
   "source": [
    "**Re-ranking results using query_type=\"user_query\"; neg_type=\"simple\"**"
   ]
  },
  {
   "cell_type": "code",
   "execution_count": 18,
   "metadata": {
    "id": "YahPWqlrM4eU"
   },
   "outputs": [],
   "source": [
    "# define variables\n",
    "query_type=\"user_query\"; neg_type=\"simple\"; version=\"1.1\"; loss_type='triplet'\n",
    "bert_model_path='output/FAQIR/models/' + loss_type + '_' + neg_type + '_' + query_type + '_' + version"
   ]
  },
  {
   "cell_type": "code",
   "execution_count": 19,
   "metadata": {
    "id": "vfz-PNgZM4FL"
   },
   "outputs": [],
   "source": [
    "# create instance of ReRanker class\n",
    "r = ReRanker(\n",
    "    bert_model_path=bert_model_path, \n",
    "    test_queries=test_queries, relevance_label_df=relevance_label_df, loss_type=loss_type\n",
    ")"
   ]
  },
  {
   "cell_type": "code",
   "execution_count": 20,
   "metadata": {
    "colab": {
     "base_uri": "https://localhost:8080/"
    },
    "id": "UUjuUJBrM3_r",
    "outputId": "dfdf5bd8-e123-461f-849a-2d4d9fc54fe2"
   },
   "outputs": [
    {
     "name": "stderr",
     "output_type": "stream",
     "text": [
      "2021-02-28 08:38:40 - Generating BERT top-k results ...\n",
      "2021-02-28 08:38:40 - Load pretrained SentenceTransformer: output/StackFAQv1.0/models/triplet_simple_user_query_1.1\n",
      "2021-02-28 08:38:40 - Load SentenceTransformer from folder: output/StackFAQv1.0/models/triplet_simple_user_query_1.1\n",
      "2021-02-28 08:38:57 - Use pytorch device: cuda\n",
      "100%|██████████| 1249/1249 [01:45<00:00, 11.88it/s]\n",
      "2021-02-28 08:40:42 - Generating BERT top-k results ...\n",
      "2021-02-28 08:40:42 - Load pretrained SentenceTransformer: output/StackFAQv1.0/models/triplet_simple_user_query_1.1\n",
      "2021-02-28 08:40:42 - Load SentenceTransformer from folder: output/StackFAQv1.0/models/triplet_simple_user_query_1.1\n",
      "2021-02-28 08:40:43 - Use pytorch device: cuda\n",
      "100%|██████████| 1249/1249 [01:47<00:00, 11.64it/s]\n",
      "2021-02-28 08:42:31 - Generating BERT top-k results ...\n",
      "2021-02-28 08:42:31 - Load pretrained SentenceTransformer: output/StackFAQv1.0/models/triplet_simple_user_query_1.1\n",
      "2021-02-28 08:42:31 - Load SentenceTransformer from folder: output/StackFAQv1.0/models/triplet_simple_user_query_1.1\n",
      "2021-02-28 08:42:32 - Use pytorch device: cuda\n",
      "100%|██████████| 1249/1249 [01:46<00:00, 11.76it/s]\n",
      "2021-02-28 08:44:18 - Generating BERT top-k results ...\n",
      "2021-02-28 08:44:18 - Load pretrained SentenceTransformer: output/StackFAQv1.0/models/triplet_simple_user_query_1.1\n",
      "2021-02-28 08:44:18 - Load SentenceTransformer from folder: output/StackFAQv1.0/models/triplet_simple_user_query_1.1\n",
      "2021-02-28 08:44:19 - Use pytorch device: cuda\n",
      "100%|██████████| 1249/1249 [01:45<00:00, 11.88it/s]\n"
     ]
    }
   ],
   "source": [
    "# next, generate BERT top-k preds and save to files\n",
    "bert_query_by_question = r.get_bert_topk_preds(es_query_by_question)\n",
    "bert_query_by_answer = r.get_bert_topk_preds(es_query_by_answer)\n",
    "bert_query_by_question_answer = r.get_bert_topk_preds(es_query_by_question_answer)\n",
    "bert_query_by_question_answer_concat = r.get_bert_topk_preds(es_query_by_question_answer_concat)"
   ]
  },
  {
   "cell_type": "code",
   "execution_count": 21,
   "metadata": {
    "id": "CkiHU4DTM38e"
   },
   "outputs": [],
   "source": [
    "# dump BERT top-k preds to json files\n",
    "bert_output_path = output_path + \"/supervised/\" + loss_type + \"/\" + query_type + \"/\" + neg_type\n",
    "make_dirs(bert_output_path)\n",
    "\n",
    "dump_to_json(bert_query_by_question, bert_output_path + '/bert_query_by_question.json')\n",
    "dump_to_json(bert_query_by_answer, bert_output_path + '/bert_query_by_answer.json')\n",
    "dump_to_json(bert_query_by_question_answer, bert_output_path + '/bert_query_by_question_answer.json')\n",
    "dump_to_json(bert_query_by_question_answer_concat, bert_output_path + '/bert_query_by_question_answer_concat.json')"
   ]
  },
  {
   "cell_type": "code",
   "execution_count": 22,
   "metadata": {
    "colab": {
     "base_uri": "https://localhost:8080/"
    },
    "id": "wCN7fgjGNcdr",
    "outputId": "ca50138c-b15d-4875-9a6c-24e3d80471d6"
   },
   "outputs": [
    {
     "name": "stderr",
     "output_type": "stream",
     "text": [
      "2021-02-28 08:46:05 - Re-ranking the top-k results ...\n",
      "2021-02-28 08:46:06 - Re-ranking the top-k results ...\n",
      "2021-02-28 08:46:06 - Re-ranking the top-k results ...\n",
      "2021-02-28 08:46:06 - Re-ranking the top-k results ...\n"
     ]
    }
   ],
   "source": [
    "# next, generate the Re-ranked top-k results \n",
    "reranked_query_by_question = r.get_reranked_results(bert_query_by_question)\n",
    "reranked_query_by_answer = r.get_reranked_results(bert_query_by_answer)\n",
    "reranked_query_by_question_answer = r.get_reranked_results(bert_query_by_question_answer)\n",
    "reranked_query_by_question_answer_concat = r.get_reranked_results(bert_query_by_question_answer_concat)"
   ]
  },
  {
   "cell_type": "code",
   "execution_count": 23,
   "metadata": {
    "id": "EAVSL2EMNcX2"
   },
   "outputs": [],
   "source": [
    "# dump Re-ranked results to json files\n",
    "reranked_output_path = output_path + \"/supervised/\" + loss_type + \"/\" + query_type + \"/\" + neg_type\n",
    "make_dirs(reranked_output_path)\n",
    "\n",
    "dump_to_json(reranked_query_by_question, reranked_output_path + '/reranked_query_by_question.json')\n",
    "dump_to_json(reranked_query_by_answer, reranked_output_path + '/reranked_query_by_answer.json')\n",
    "dump_to_json(reranked_query_by_question_answer, reranked_output_path + '/reranked_query_by_question_answer.json')\n",
    "dump_to_json(reranked_query_by_question_answer_concat, reranked_output_path + '/reranked_query_by_question_answer_concat.json')"
   ]
  },
  {
   "cell_type": "markdown",
   "metadata": {
    "id": "h0-VLGZ-Np04"
   },
   "source": [
    "**Re-ranking results using query_type=\"faq\"; neg_type=\"hard\"**"
   ]
  },
  {
   "cell_type": "code",
   "execution_count": 24,
   "metadata": {
    "id": "sGUqO4kSNcGJ"
   },
   "outputs": [],
   "source": [
    "# define variables\n",
    "query_type=\"faq\"; neg_type=\"hard\"; version=\"1.1\"; loss_type='triplet'\n",
    "bert_model_path='output/FAQIR/models/' + loss_type + '_' + neg_type + '_' + query_type + '_' + version"
   ]
  },
  {
   "cell_type": "code",
   "execution_count": 25,
   "metadata": {
    "id": "Bkdb3DQON4A9"
   },
   "outputs": [],
   "source": [
    "# create instance of ReRanker class\n",
    "r = ReRanker(\n",
    "    bert_model_path=bert_model_path, \n",
    "    test_queries=test_queries, relevance_label_df=relevance_label_df, loss_type=loss_type\n",
    ")"
   ]
  },
  {
   "cell_type": "code",
   "execution_count": 26,
   "metadata": {
    "colab": {
     "base_uri": "https://localhost:8080/"
    },
    "id": "YXuGpa2LN340",
    "outputId": "91842aeb-e4be-452f-f82c-64ff9e77aff2"
   },
   "outputs": [
    {
     "name": "stderr",
     "output_type": "stream",
     "text": [
      "2021-02-28 08:46:07 - Generating BERT top-k results ...\n",
      "2021-02-28 08:46:07 - Load pretrained SentenceTransformer: output/StackFAQv1.0/models/triplet_hard_faq_1.1\n",
      "2021-02-28 08:46:07 - Load SentenceTransformer from folder: output/StackFAQv1.0/models/triplet_hard_faq_1.1\n",
      "2021-02-28 08:46:25 - Use pytorch device: cuda\n",
      "100%|██████████| 1249/1249 [01:43<00:00, 12.05it/s]\n",
      "2021-02-28 08:48:09 - Generating BERT top-k results ...\n",
      "2021-02-28 08:48:09 - Load pretrained SentenceTransformer: output/StackFAQv1.0/models/triplet_hard_faq_1.1\n",
      "2021-02-28 08:48:09 - Load SentenceTransformer from folder: output/StackFAQv1.0/models/triplet_hard_faq_1.1\n",
      "2021-02-28 08:48:10 - Use pytorch device: cuda\n",
      "100%|██████████| 1249/1249 [01:46<00:00, 11.68it/s]\n",
      "2021-02-28 08:49:57 - Generating BERT top-k results ...\n",
      "2021-02-28 08:49:57 - Load pretrained SentenceTransformer: output/StackFAQv1.0/models/triplet_hard_faq_1.1\n",
      "2021-02-28 08:49:57 - Load SentenceTransformer from folder: output/StackFAQv1.0/models/triplet_hard_faq_1.1\n",
      "2021-02-28 08:49:59 - Use pytorch device: cuda\n",
      "100%|██████████| 1249/1249 [01:46<00:00, 11.74it/s]\n",
      "2021-02-28 08:51:45 - Generating BERT top-k results ...\n",
      "2021-02-28 08:51:45 - Load pretrained SentenceTransformer: output/StackFAQv1.0/models/triplet_hard_faq_1.1\n",
      "2021-02-28 08:51:45 - Load SentenceTransformer from folder: output/StackFAQv1.0/models/triplet_hard_faq_1.1\n",
      "2021-02-28 08:51:46 - Use pytorch device: cuda\n",
      "100%|██████████| 1249/1249 [01:44<00:00, 11.92it/s]\n"
     ]
    }
   ],
   "source": [
    "# next, generate BERT top-k preds and save to files\n",
    "bert_query_by_question = r.get_bert_topk_preds(es_query_by_question)\n",
    "bert_query_by_answer = r.get_bert_topk_preds(es_query_by_answer)\n",
    "bert_query_by_question_answer = r.get_bert_topk_preds(es_query_by_question_answer)\n",
    "bert_query_by_question_answer_concat = r.get_bert_topk_preds(es_query_by_question_answer_concat)"
   ]
  },
  {
   "cell_type": "code",
   "execution_count": 27,
   "metadata": {
    "id": "dkoIjsBiN3xO"
   },
   "outputs": [],
   "source": [
    "# dump BERT top-k preds to json files\n",
    "bert_output_path = output_path + \"/supervised/\" + loss_type + \"/\" + query_type + \"/\" + neg_type\n",
    "make_dirs(bert_output_path)\n",
    "\n",
    "dump_to_json(bert_query_by_question, bert_output_path + '/bert_query_by_question.json')\n",
    "dump_to_json(bert_query_by_answer, bert_output_path + '/bert_query_by_answer.json')\n",
    "dump_to_json(bert_query_by_question_answer, bert_output_path + '/bert_query_by_question_answer.json')\n",
    "dump_to_json(bert_query_by_question_answer_concat, bert_output_path + '/bert_query_by_question_answer_concat.json')"
   ]
  },
  {
   "cell_type": "code",
   "execution_count": 28,
   "metadata": {
    "colab": {
     "base_uri": "https://localhost:8080/"
    },
    "id": "xe3Jc5TtN3qE",
    "outputId": "e46eed25-d652-432c-8c6a-1303fac518d9"
   },
   "outputs": [
    {
     "name": "stderr",
     "output_type": "stream",
     "text": [
      "2021-02-28 08:53:32 - Re-ranking the top-k results ...\n",
      "2021-02-28 08:53:32 - Re-ranking the top-k results ...\n",
      "2021-02-28 08:53:32 - Re-ranking the top-k results ...\n",
      "2021-02-28 08:53:32 - Re-ranking the top-k results ...\n"
     ]
    }
   ],
   "source": [
    "# next, generate the Re-ranked top-k results \n",
    "reranked_query_by_question = r.get_reranked_results(bert_query_by_question)\n",
    "reranked_query_by_answer = r.get_reranked_results(bert_query_by_answer)\n",
    "reranked_query_by_question_answer = r.get_reranked_results(bert_query_by_question_answer)\n",
    "reranked_query_by_question_answer_concat = r.get_reranked_results(bert_query_by_question_answer_concat)"
   ]
  },
  {
   "cell_type": "code",
   "execution_count": 29,
   "metadata": {
    "id": "5SiDsGD5N3k-"
   },
   "outputs": [],
   "source": [
    "# dump Re-ranked results to json files\n",
    "reranked_output_path = output_path + \"/supervised/\" + loss_type + \"/\" + query_type + \"/\" + neg_type\n",
    "make_dirs(reranked_output_path)\n",
    "\n",
    "dump_to_json(reranked_query_by_question, reranked_output_path + '/reranked_query_by_question.json')\n",
    "dump_to_json(reranked_query_by_answer, reranked_output_path + '/reranked_query_by_answer.json')\n",
    "dump_to_json(reranked_query_by_question_answer, reranked_output_path + '/reranked_query_by_question_answer.json')\n",
    "dump_to_json(reranked_query_by_question_answer_concat, reranked_output_path + '/reranked_query_by_question_answer_concat.json')"
   ]
  },
  {
   "cell_type": "markdown",
   "metadata": {
    "id": "LW6WhP1POh4R"
   },
   "source": [
    "**Re-ranking results using query_type=\"faq\"; neg_type=\"simple\"**"
   ]
  },
  {
   "cell_type": "code",
   "execution_count": 30,
   "metadata": {
    "id": "td1x8prBOXIo"
   },
   "outputs": [],
   "source": [
    "# define variables\n",
    "query_type=\"faq\"; neg_type=\"simple\"; version=\"1.1\"; loss_type='triplet'\n",
    "bert_model_path='output/FAQIR/models/' + loss_type + '_' + neg_type + '_' + query_type + '_' + version"
   ]
  },
  {
   "cell_type": "code",
   "execution_count": 31,
   "metadata": {
    "id": "Z8ZPxcmWOny9"
   },
   "outputs": [],
   "source": [
    "# create instance of ReRanker class\n",
    "r = ReRanker(\n",
    "    bert_model_path=bert_model_path, \n",
    "    test_queries=test_queries, relevance_label_df=relevance_label_df, loss_type=loss_type\n",
    ")"
   ]
  },
  {
   "cell_type": "code",
   "execution_count": 32,
   "metadata": {
    "colab": {
     "base_uri": "https://localhost:8080/"
    },
    "id": "aWuo4YawOnuS",
    "outputId": "9b4043e0-d254-4df1-cab0-db1040414e76"
   },
   "outputs": [
    {
     "name": "stderr",
     "output_type": "stream",
     "text": [
      "2021-02-28 08:53:33 - Generating BERT top-k results ...\n",
      "2021-02-28 08:53:33 - Load pretrained SentenceTransformer: output/StackFAQv1.0/models/triplet_simple_faq_1.1\n",
      "2021-02-28 08:53:33 - Load SentenceTransformer from folder: output/StackFAQv1.0/models/triplet_simple_faq_1.1\n",
      "2021-02-28 08:53:50 - Use pytorch device: cuda\n",
      "100%|██████████| 1249/1249 [01:44<00:00, 12.01it/s]\n",
      "2021-02-28 08:55:34 - Generating BERT top-k results ...\n",
      "2021-02-28 08:55:34 - Load pretrained SentenceTransformer: output/StackFAQv1.0/models/triplet_simple_faq_1.1\n",
      "2021-02-28 08:55:34 - Load SentenceTransformer from folder: output/StackFAQv1.0/models/triplet_simple_faq_1.1\n",
      "2021-02-28 08:55:36 - Use pytorch device: cuda\n",
      "100%|██████████| 1249/1249 [01:46<00:00, 11.70it/s]\n",
      "2021-02-28 08:57:22 - Generating BERT top-k results ...\n",
      "2021-02-28 08:57:22 - Load pretrained SentenceTransformer: output/StackFAQv1.0/models/triplet_simple_faq_1.1\n",
      "2021-02-28 08:57:22 - Load SentenceTransformer from folder: output/StackFAQv1.0/models/triplet_simple_faq_1.1\n",
      "2021-02-28 08:57:24 - Use pytorch device: cuda\n",
      "100%|██████████| 1249/1249 [01:45<00:00, 11.82it/s]\n",
      "2021-02-28 08:59:09 - Generating BERT top-k results ...\n",
      "2021-02-28 08:59:09 - Load pretrained SentenceTransformer: output/StackFAQv1.0/models/triplet_simple_faq_1.1\n",
      "2021-02-28 08:59:09 - Load SentenceTransformer from folder: output/StackFAQv1.0/models/triplet_simple_faq_1.1\n",
      "2021-02-28 08:59:11 - Use pytorch device: cuda\n",
      "100%|██████████| 1249/1249 [01:45<00:00, 11.86it/s]\n"
     ]
    }
   ],
   "source": [
    "# next, generate BERT top-k preds and save to files\n",
    "bert_query_by_question = r.get_bert_topk_preds(es_query_by_question)\n",
    "bert_query_by_answer = r.get_bert_topk_preds(es_query_by_answer)\n",
    "bert_query_by_question_answer = r.get_bert_topk_preds(es_query_by_question_answer)\n",
    "bert_query_by_question_answer_concat = r.get_bert_topk_preds(es_query_by_question_answer_concat)"
   ]
  },
  {
   "cell_type": "code",
   "execution_count": 33,
   "metadata": {
    "id": "XdEpmJ8gOnk2"
   },
   "outputs": [],
   "source": [
    "# dump BERT top-k preds to json files\n",
    "bert_output_path = output_path + \"/supervised/\" + loss_type + \"/\" + query_type + \"/\" + neg_type\n",
    "make_dirs(bert_output_path)\n",
    "\n",
    "dump_to_json(bert_query_by_question, bert_output_path + '/bert_query_by_question.json')\n",
    "dump_to_json(bert_query_by_answer, bert_output_path + '/bert_query_by_answer.json')\n",
    "dump_to_json(bert_query_by_question_answer, bert_output_path + '/bert_query_by_question_answer.json')\n",
    "dump_to_json(bert_query_by_question_answer_concat, bert_output_path + '/bert_query_by_question_answer_concat.json')"
   ]
  },
  {
   "cell_type": "code",
   "execution_count": 34,
   "metadata": {
    "colab": {
     "base_uri": "https://localhost:8080/"
    },
    "id": "n-HMMsx-OnfO",
    "outputId": "1d3b3dac-55b2-4dd7-c673-cd63eca7ebd6"
   },
   "outputs": [
    {
     "name": "stderr",
     "output_type": "stream",
     "text": [
      "2021-02-28 09:00:57 - Re-ranking the top-k results ...\n",
      "2021-02-28 09:00:57 - Re-ranking the top-k results ...\n",
      "2021-02-28 09:00:57 - Re-ranking the top-k results ...\n",
      "2021-02-28 09:00:57 - Re-ranking the top-k results ...\n"
     ]
    }
   ],
   "source": [
    "# next, generate the Re-ranked top-k results \n",
    "reranked_query_by_question = r.get_reranked_results(bert_query_by_question)\n",
    "reranked_query_by_answer = r.get_reranked_results(bert_query_by_answer)\n",
    "reranked_query_by_question_answer = r.get_reranked_results(bert_query_by_question_answer)\n",
    "reranked_query_by_question_answer_concat = r.get_reranked_results(bert_query_by_question_answer_concat)"
   ]
  },
  {
   "cell_type": "code",
   "execution_count": 35,
   "metadata": {
    "id": "1Hhjx1waPTbk"
   },
   "outputs": [],
   "source": [
    "# dump Re-ranked results to json files\n",
    "reranked_output_path = output_path + \"/supervised/\" + loss_type + \"/\" + query_type + \"/\" + neg_type\n",
    "make_dirs(reranked_output_path)\n",
    "\n",
    "dump_to_json(reranked_query_by_question, reranked_output_path + '/reranked_query_by_question.json')\n",
    "dump_to_json(reranked_query_by_answer, reranked_output_path + '/reranked_query_by_answer.json')\n",
    "dump_to_json(reranked_query_by_question_answer, reranked_output_path + '/reranked_query_by_question_answer.json')\n",
    "dump_to_json(reranked_query_by_question_answer_concat, reranked_output_path + '/reranked_query_by_question_answer_concat.json')"
   ]
  },
  {
   "cell_type": "markdown",
   "metadata": {
    "id": "WdMinNw0tEBa"
   },
   "source": [
    "**##################### Softmax Loss #####################**"
   ]
  },
  {
   "cell_type": "markdown",
   "metadata": {
    "id": "TQWBMnXNuN1r"
   },
   "source": [
    "**Re-ranking results using query_type=\"user_query\"; neg_type=\"hard\"**"
   ]
  },
  {
   "cell_type": "code",
   "execution_count": 36,
   "metadata": {
    "id": "qWbql3bypSdF"
   },
   "outputs": [],
   "source": [
    "# define variables\n",
    "query_type=\"user_query\"; neg_type=\"hard\"; version=\"1.1\"; loss_type='softmax'\n",
    "bert_model_path='output/FAQIR/models/' + loss_type + '_' + neg_type + '_' + query_type + '_' + version"
   ]
  },
  {
   "cell_type": "code",
   "execution_count": 37,
   "metadata": {
    "id": "nXbORhXguIpu"
   },
   "outputs": [],
   "source": [
    "# create instance of ReRanker class\n",
    "r = ReRanker(\n",
    "    bert_model_path=bert_model_path, \n",
    "    test_queries=test_queries, relevance_label_df=relevance_label_df, loss_type=loss_type\n",
    ")"
   ]
  },
  {
   "cell_type": "code",
   "execution_count": 38,
   "metadata": {
    "colab": {
     "base_uri": "https://localhost:8080/"
    },
    "id": "SnEYe0X7tRql",
    "outputId": "d6954e48-48c5-466d-8960-3deb0dad5698"
   },
   "outputs": [
    {
     "name": "stderr",
     "output_type": "stream",
     "text": [
      "2021-02-28 09:00:58 - Generating BERT top-k results ...\n",
      "2021-02-28 09:01:08 - Use pytorch device: cuda\n",
      "100%|██████████| 1249/1249 [01:39<00:00, 12.59it/s]\n",
      "2021-02-28 09:02:47 - Generating BERT top-k results ...\n",
      "2021-02-28 09:02:49 - Use pytorch device: cuda\n",
      "100%|██████████| 1249/1249 [01:42<00:00, 12.24it/s]\n",
      "2021-02-28 09:04:31 - Generating BERT top-k results ...\n",
      "2021-02-28 09:04:33 - Use pytorch device: cuda\n",
      "100%|██████████| 1249/1249 [01:41<00:00, 12.33it/s]\n",
      "2021-02-28 09:06:15 - Generating BERT top-k results ...\n",
      "2021-02-28 09:06:17 - Use pytorch device: cuda\n",
      "100%|██████████| 1249/1249 [01:39<00:00, 12.58it/s]\n"
     ]
    }
   ],
   "source": [
    "# next, generate BERT top-k preds and save to files\n",
    "bert_query_by_question = r.get_bert_topk_preds(es_query_by_question)\n",
    "bert_query_by_answer = r.get_bert_topk_preds(es_query_by_answer)\n",
    "bert_query_by_question_answer = r.get_bert_topk_preds(es_query_by_question_answer)\n",
    "bert_query_by_question_answer_concat = r.get_bert_topk_preds(es_query_by_question_answer_concat)"
   ]
  },
  {
   "cell_type": "code",
   "execution_count": 39,
   "metadata": {
    "id": "89gAitb4tRiZ"
   },
   "outputs": [],
   "source": [
    "# dump BERT top-k preds to json files\n",
    "bert_output_path = output_path + \"/supervised/\" + loss_type + \"/\" + query_type + \"/\" + neg_type\n",
    "make_dirs(bert_output_path)\n",
    "\n",
    "dump_to_json(bert_query_by_question, bert_output_path + '/bert_query_by_question.json')\n",
    "dump_to_json(bert_query_by_answer, bert_output_path + '/bert_query_by_answer.json')\n",
    "dump_to_json(bert_query_by_question_answer, bert_output_path + '/bert_query_by_question_answer.json')\n",
    "dump_to_json(bert_query_by_question_answer_concat, bert_output_path + '/bert_query_by_question_answer_concat.json')"
   ]
  },
  {
   "cell_type": "code",
   "execution_count": 40,
   "metadata": {
    "colab": {
     "base_uri": "https://localhost:8080/"
    },
    "id": "9K_25KaTtRa5",
    "outputId": "cb408f27-d9b2-4fe6-a086-a599d9966c2f"
   },
   "outputs": [
    {
     "name": "stderr",
     "output_type": "stream",
     "text": [
      "2021-02-28 09:07:57 - Re-ranking the top-k results ...\n",
      "2021-02-28 09:07:57 - Re-ranking the top-k results ...\n",
      "2021-02-28 09:07:57 - Re-ranking the top-k results ...\n",
      "2021-02-28 09:07:57 - Re-ranking the top-k results ...\n"
     ]
    }
   ],
   "source": [
    "# next, generate the Re-ranked top-k results \n",
    "reranked_query_by_question = r.get_reranked_results(bert_query_by_question)\n",
    "reranked_query_by_answer = r.get_reranked_results(bert_query_by_answer)\n",
    "reranked_query_by_question_answer = r.get_reranked_results(bert_query_by_question_answer)\n",
    "reranked_query_by_question_answer_concat = r.get_reranked_results(bert_query_by_question_answer_concat)"
   ]
  },
  {
   "cell_type": "code",
   "execution_count": 41,
   "metadata": {
    "id": "pb6i_mL2tRTJ"
   },
   "outputs": [],
   "source": [
    "# dump Re-ranked results to json files\n",
    "reranked_output_path = output_path + \"/supervised/\" + loss_type + \"/\" + query_type + \"/\" + neg_type\n",
    "make_dirs(reranked_output_path)\n",
    "\n",
    "dump_to_json(reranked_query_by_question, reranked_output_path + '/reranked_query_by_question.json')\n",
    "dump_to_json(reranked_query_by_answer, reranked_output_path + '/reranked_query_by_answer.json')\n",
    "dump_to_json(reranked_query_by_question_answer, reranked_output_path + '/reranked_query_by_question_answer.json')\n",
    "dump_to_json(reranked_query_by_question_answer_concat, reranked_output_path + '/reranked_query_by_question_answer_concat.json')"
   ]
  },
  {
   "cell_type": "markdown",
   "metadata": {
    "id": "toLHtw4zugOk"
   },
   "source": [
    "**Re-ranking results using query_type=\"user_query\"; neg_type=\"simple\"**"
   ]
  },
  {
   "cell_type": "code",
   "execution_count": 42,
   "metadata": {
    "id": "SBPKGt7ktRLQ"
   },
   "outputs": [],
   "source": [
    "# define variables\n",
    "query_type=\"user_query\"; neg_type=\"simple\"; version=\"1.1\"; loss_type='softmax'\n",
    "bert_model_path='output/FAQIR/models/' + loss_type + '_' + neg_type + '_' + query_type + '_' + version"
   ]
  },
  {
   "cell_type": "code",
   "execution_count": 43,
   "metadata": {
    "id": "8zMO_kPHtRBO"
   },
   "outputs": [],
   "source": [
    "# create instance of ReRanker class\n",
    "r = ReRanker(\n",
    "    bert_model_path=bert_model_path, \n",
    "    test_queries=test_queries, relevance_label_df=relevance_label_df, loss_type=loss_type\n",
    ")"
   ]
  },
  {
   "cell_type": "code",
   "execution_count": 44,
   "metadata": {
    "colab": {
     "base_uri": "https://localhost:8080/"
    },
    "id": "HkiZNhN-tQ82",
    "outputId": "428e7e05-7d7b-4347-c464-a7a2292c5ff9"
   },
   "outputs": [
    {
     "name": "stderr",
     "output_type": "stream",
     "text": [
      "2021-02-28 09:07:58 - Generating BERT top-k results ...\n",
      "2021-02-28 09:08:09 - Use pytorch device: cuda\n",
      "100%|██████████| 1249/1249 [01:39<00:00, 12.54it/s]\n",
      "2021-02-28 09:09:49 - Generating BERT top-k results ...\n",
      "2021-02-28 09:09:51 - Use pytorch device: cuda\n",
      "100%|██████████| 1249/1249 [01:42<00:00, 12.20it/s]\n",
      "2021-02-28 09:11:33 - Generating BERT top-k results ...\n",
      "2021-02-28 09:11:35 - Use pytorch device: cuda\n",
      "100%|██████████| 1249/1249 [01:41<00:00, 12.33it/s]\n",
      "2021-02-28 09:13:16 - Generating BERT top-k results ...\n",
      "2021-02-28 09:13:18 - Use pytorch device: cuda\n",
      "100%|██████████| 1249/1249 [01:38<00:00, 12.62it/s]\n"
     ]
    }
   ],
   "source": [
    "# next, generate BERT top-k preds and save to files\n",
    "bert_query_by_question = r.get_bert_topk_preds(es_query_by_question)\n",
    "bert_query_by_answer = r.get_bert_topk_preds(es_query_by_answer)\n",
    "bert_query_by_question_answer = r.get_bert_topk_preds(es_query_by_question_answer)\n",
    "bert_query_by_question_answer_concat = r.get_bert_topk_preds(es_query_by_question_answer_concat)"
   ]
  },
  {
   "cell_type": "code",
   "execution_count": 45,
   "metadata": {
    "id": "ww876lbutQ1I"
   },
   "outputs": [],
   "source": [
    "# dump BERT top-k preds to json files\n",
    "bert_output_path = output_path + \"/supervised/\" + loss_type + \"/\" + query_type + \"/\" + neg_type\n",
    "make_dirs(bert_output_path)\n",
    "\n",
    "dump_to_json(bert_query_by_question, bert_output_path + '/bert_query_by_question.json')\n",
    "dump_to_json(bert_query_by_answer, bert_output_path + '/bert_query_by_answer.json')\n",
    "dump_to_json(bert_query_by_question_answer, bert_output_path + '/bert_query_by_question_answer.json')\n",
    "dump_to_json(bert_query_by_question_answer_concat, bert_output_path + '/bert_query_by_question_answer_concat.json')"
   ]
  },
  {
   "cell_type": "code",
   "execution_count": 46,
   "metadata": {
    "colab": {
     "base_uri": "https://localhost:8080/"
    },
    "id": "FK-4KDjLtQtU",
    "outputId": "7585f6ae-a3da-49ed-a71c-56d16d8a0c99"
   },
   "outputs": [
    {
     "name": "stderr",
     "output_type": "stream",
     "text": [
      "2021-02-28 09:14:58 - Re-ranking the top-k results ...\n",
      "2021-02-28 09:14:58 - Re-ranking the top-k results ...\n",
      "2021-02-28 09:14:58 - Re-ranking the top-k results ...\n",
      "2021-02-28 09:14:58 - Re-ranking the top-k results ...\n"
     ]
    }
   ],
   "source": [
    "# next, generate the Re-ranked top-k results \n",
    "reranked_query_by_question = r.get_reranked_results(bert_query_by_question)\n",
    "reranked_query_by_answer = r.get_reranked_results(bert_query_by_answer)\n",
    "reranked_query_by_question_answer = r.get_reranked_results(bert_query_by_question_answer)\n",
    "reranked_query_by_question_answer_concat = r.get_reranked_results(bert_query_by_question_answer_concat)"
   ]
  },
  {
   "cell_type": "code",
   "execution_count": 47,
   "metadata": {
    "id": "ncKHJEB8tQj-"
   },
   "outputs": [],
   "source": [
    "# dump Re-ranked results to json files\n",
    "reranked_output_path = output_path + \"/supervised/\" + loss_type + \"/\" + query_type + \"/\" + neg_type\n",
    "make_dirs(reranked_output_path)\n",
    "\n",
    "dump_to_json(reranked_query_by_question, reranked_output_path + '/reranked_query_by_question.json')\n",
    "dump_to_json(reranked_query_by_answer, reranked_output_path + '/reranked_query_by_answer.json')\n",
    "dump_to_json(reranked_query_by_question_answer, reranked_output_path + '/reranked_query_by_question_answer.json')\n",
    "dump_to_json(reranked_query_by_question_answer_concat, reranked_output_path + '/reranked_query_by_question_answer_concat.json')"
   ]
  },
  {
   "cell_type": "markdown",
   "metadata": {
    "id": "lNDZBk_GvM1z"
   },
   "source": [
    "**Re-ranking results using query_type=\"faq\"; neg_type=\"hard\"**"
   ]
  },
  {
   "cell_type": "code",
   "execution_count": 14,
   "metadata": {
    "id": "VmtGmXzrtQda"
   },
   "outputs": [],
   "source": [
    "# define variables\n",
    "query_type=\"faq\"; neg_type=\"hard\"; version=\"1.1\"; loss_type='softmax'\n",
    "bert_model_path='output/FAQIR/models/' + loss_type + '_' + neg_type + '_' + query_type + '_' + version"
   ]
  },
  {
   "cell_type": "code",
   "execution_count": 15,
   "metadata": {
    "id": "pzg0l8rEtQZh"
   },
   "outputs": [],
   "source": [
    "# create instance of ReRanker class\n",
    "r = ReRanker(\n",
    "    bert_model_path=bert_model_path, \n",
    "    test_queries=test_queries, relevance_label_df=relevance_label_df, loss_type=loss_type\n",
    ")"
   ]
  },
  {
   "cell_type": "code",
   "execution_count": 16,
   "metadata": {
    "colab": {
     "base_uri": "https://localhost:8080/"
    },
    "id": "9ldxi02stQS1",
    "outputId": "0c83977d-fd67-4de9-bc96-6137091e2213"
   },
   "outputs": [
    {
     "name": "stderr",
     "output_type": "stream",
     "text": [
      "2021-02-28 09:30:11 - Generating BERT top-k results ...\n",
      "2021-02-28 09:30:21 - Use pytorch device: cuda\n",
      "100%|██████████| 1249/1249 [02:01<00:00, 10.27it/s]\n",
      "2021-02-28 09:32:23 - Generating BERT top-k results ...\n",
      "2021-02-28 09:32:25 - Use pytorch device: cuda\n",
      "100%|██████████| 1249/1249 [01:56<00:00, 10.68it/s]\n",
      "2021-02-28 09:34:22 - Generating BERT top-k results ...\n",
      "2021-02-28 09:34:24 - Use pytorch device: cuda\n",
      "100%|██████████| 1249/1249 [01:56<00:00, 10.74it/s]\n",
      "2021-02-28 09:36:20 - Generating BERT top-k results ...\n",
      "2021-02-28 09:36:22 - Use pytorch device: cuda\n",
      "100%|██████████| 1249/1249 [01:51<00:00, 11.20it/s]\n"
     ]
    }
   ],
   "source": [
    "# next, generate BERT top-k preds and save to files\n",
    "bert_query_by_question = r.get_bert_topk_preds(es_query_by_question)\n",
    "bert_query_by_answer = r.get_bert_topk_preds(es_query_by_answer)\n",
    "bert_query_by_question_answer = r.get_bert_topk_preds(es_query_by_question_answer)\n",
    "bert_query_by_question_answer_concat = r.get_bert_topk_preds(es_query_by_question_answer_concat)"
   ]
  },
  {
   "cell_type": "code",
   "execution_count": 17,
   "metadata": {
    "id": "w3LXb63rtQLO"
   },
   "outputs": [],
   "source": [
    "# dump BERT top-k preds to json files\n",
    "bert_output_path = output_path + \"/supervised/\" + loss_type + \"/\" + query_type + \"/\" + neg_type\n",
    "make_dirs(bert_output_path)\n",
    "\n",
    "dump_to_json(bert_query_by_question, bert_output_path + '/bert_query_by_question.json')\n",
    "dump_to_json(bert_query_by_answer, bert_output_path + '/bert_query_by_answer.json')\n",
    "dump_to_json(bert_query_by_question_answer, bert_output_path + '/bert_query_by_question_answer.json')\n",
    "dump_to_json(bert_query_by_question_answer_concat, bert_output_path + '/bert_query_by_question_answer_concat.json')"
   ]
  },
  {
   "cell_type": "code",
   "execution_count": 18,
   "metadata": {
    "colab": {
     "base_uri": "https://localhost:8080/"
    },
    "id": "trxp_VaXtQEH",
    "outputId": "849eace0-153b-4013-de8d-2ace2d0dc3c6"
   },
   "outputs": [
    {
     "name": "stderr",
     "output_type": "stream",
     "text": [
      "2021-02-28 09:38:15 - Re-ranking the top-k results ...\n",
      "2021-02-28 09:38:15 - Re-ranking the top-k results ...\n",
      "2021-02-28 09:38:15 - Re-ranking the top-k results ...\n",
      "2021-02-28 09:38:15 - Re-ranking the top-k results ...\n"
     ]
    }
   ],
   "source": [
    "# next, generate the Re-ranked top-k results \n",
    "reranked_query_by_question = r.get_reranked_results(bert_query_by_question)\n",
    "reranked_query_by_answer = r.get_reranked_results(bert_query_by_answer)\n",
    "reranked_query_by_question_answer = r.get_reranked_results(bert_query_by_question_answer)\n",
    "reranked_query_by_question_answer_concat = r.get_reranked_results(bert_query_by_question_answer_concat)"
   ]
  },
  {
   "cell_type": "code",
   "execution_count": 19,
   "metadata": {
    "id": "I3NjQ-DNtP89"
   },
   "outputs": [],
   "source": [
    "# dump Re-ranked results to json files\n",
    "reranked_output_path = output_path + \"/supervised/\" + loss_type + \"/\" + query_type + \"/\" + neg_type\n",
    "make_dirs(reranked_output_path)\n",
    "\n",
    "dump_to_json(reranked_query_by_question, reranked_output_path + '/reranked_query_by_question.json')\n",
    "dump_to_json(reranked_query_by_answer, reranked_output_path + '/reranked_query_by_answer.json')\n",
    "dump_to_json(reranked_query_by_question_answer, reranked_output_path + '/reranked_query_by_question_answer.json')\n",
    "dump_to_json(reranked_query_by_question_answer_concat, reranked_output_path + '/reranked_query_by_question_answer_concat.json')"
   ]
  },
  {
   "cell_type": "markdown",
   "metadata": {
    "id": "o2EgbhAkvgUc"
   },
   "source": [
    "**Re-ranking results using query_type=\"faq\"; neg_type=\"simple\"**"
   ]
  },
  {
   "cell_type": "code",
   "execution_count": 20,
   "metadata": {
    "id": "4tUfy5fOtP2M"
   },
   "outputs": [],
   "source": [
    "# define variables\n",
    "query_type=\"faq\"; neg_type=\"simple\"; version=\"1.1\"; loss_type='softmax'\n",
    "bert_model_path='output/FAQIR/models/' + loss_type + '_' + neg_type + '_' + query_type + '_' + version"
   ]
  },
  {
   "cell_type": "code",
   "execution_count": 21,
   "metadata": {
    "id": "x94VfKuitPva"
   },
   "outputs": [],
   "source": [
    "# create instance of ReRanker class\n",
    "r = ReRanker(\n",
    "    bert_model_path=bert_model_path, \n",
    "    test_queries=test_queries, relevance_label_df=relevance_label_df, loss_type=loss_type\n",
    ")"
   ]
  },
  {
   "cell_type": "code",
   "execution_count": 22,
   "metadata": {
    "colab": {
     "base_uri": "https://localhost:8080/"
    },
    "id": "Cw9Kyx6qtPqt",
    "outputId": "f272c7f8-0a78-4e17-d24f-4bd008de13a9"
   },
   "outputs": [
    {
     "name": "stderr",
     "output_type": "stream",
     "text": [
      "2021-02-28 09:38:44 - Generating BERT top-k results ...\n",
      "2021-02-28 09:38:51 - Use pytorch device: cuda\n",
      "100%|██████████| 1249/1249 [01:53<00:00, 10.98it/s]\n",
      "2021-02-28 09:40:44 - Generating BERT top-k results ...\n",
      "2021-02-28 09:40:47 - Use pytorch device: cuda\n",
      "100%|██████████| 1249/1249 [01:57<00:00, 10.62it/s]\n",
      "2021-02-28 09:42:44 - Generating BERT top-k results ...\n",
      "2021-02-28 09:42:46 - Use pytorch device: cuda\n",
      "100%|██████████| 1249/1249 [01:55<00:00, 10.78it/s]\n",
      "2021-02-28 09:44:42 - Generating BERT top-k results ...\n",
      "2021-02-28 09:44:44 - Use pytorch device: cuda\n",
      "100%|██████████| 1249/1249 [01:51<00:00, 11.21it/s]\n"
     ]
    }
   ],
   "source": [
    "# next, generate BERT top-k preds and save to files\n",
    "bert_query_by_question = r.get_bert_topk_preds(es_query_by_question)\n",
    "bert_query_by_answer = r.get_bert_topk_preds(es_query_by_answer)\n",
    "bert_query_by_question_answer = r.get_bert_topk_preds(es_query_by_question_answer)\n",
    "bert_query_by_question_answer_concat = r.get_bert_topk_preds(es_query_by_question_answer_concat)"
   ]
  },
  {
   "cell_type": "code",
   "execution_count": 23,
   "metadata": {
    "id": "6SStuVshvuJO"
   },
   "outputs": [],
   "source": [
    "# dump BERT top-k preds to json files\n",
    "bert_output_path = output_path + \"/supervised/\" + loss_type + \"/\" + query_type + \"/\" + neg_type\n",
    "make_dirs(bert_output_path)\n",
    "\n",
    "dump_to_json(bert_query_by_question, bert_output_path + '/bert_query_by_question.json')\n",
    "dump_to_json(bert_query_by_answer, bert_output_path + '/bert_query_by_answer.json')\n",
    "dump_to_json(bert_query_by_question_answer, bert_output_path + '/bert_query_by_question_answer.json')\n",
    "dump_to_json(bert_query_by_question_answer_concat, bert_output_path + '/bert_query_by_question_answer_concat.json')"
   ]
  },
  {
   "cell_type": "code",
   "execution_count": 24,
   "metadata": {
    "colab": {
     "base_uri": "https://localhost:8080/"
    },
    "id": "s_QYnSABvt_8",
    "outputId": "7785bc8c-2b89-4c2b-ccdd-8a1704005e57"
   },
   "outputs": [
    {
     "name": "stderr",
     "output_type": "stream",
     "text": [
      "2021-02-28 09:46:37 - Re-ranking the top-k results ...\n",
      "2021-02-28 09:46:37 - Re-ranking the top-k results ...\n",
      "2021-02-28 09:46:37 - Re-ranking the top-k results ...\n",
      "2021-02-28 09:46:37 - Re-ranking the top-k results ...\n"
     ]
    }
   ],
   "source": [
    "# next, generate the Re-ranked top-k results \n",
    "reranked_query_by_question = r.get_reranked_results(bert_query_by_question)\n",
    "reranked_query_by_answer = r.get_reranked_results(bert_query_by_answer)\n",
    "reranked_query_by_question_answer = r.get_reranked_results(bert_query_by_question_answer)\n",
    "reranked_query_by_question_answer_concat = r.get_reranked_results(bert_query_by_question_answer_concat)"
   ]
  },
  {
   "cell_type": "code",
   "execution_count": 25,
   "metadata": {
    "id": "1ZOvlkAOvt2U"
   },
   "outputs": [],
   "source": [
    "# dump Re-ranked results to json files\n",
    "reranked_output_path = output_path + \"/supervised/\" + loss_type + \"/\" + query_type + \"/\" + neg_type\n",
    "make_dirs(reranked_output_path)\n",
    "\n",
    "dump_to_json(reranked_query_by_question, reranked_output_path + '/reranked_query_by_question.json')\n",
    "dump_to_json(reranked_query_by_answer, reranked_output_path + '/reranked_query_by_answer.json')\n",
    "dump_to_json(reranked_query_by_question_answer, reranked_output_path + '/reranked_query_by_question_answer.json')\n",
    "dump_to_json(reranked_query_by_question_answer_concat, reranked_output_path + '/reranked_query_by_question_answer_concat.json')"
   ]
  }
 ],
 "metadata": {
  "accelerator": "GPU",
  "colab": {
   "collapsed_sections": [],
   "name": "05.Generating_Re-ranked_Results.ipynb",
   "provenance": []
  },
  "kernelspec": {
   "display_name": "Python 3",
   "language": "python",
   "name": "python3"
  },
  "language_info": {
   "codemirror_mode": {
    "name": "ipython",
    "version": 3
   },
   "file_extension": ".py",
   "mimetype": "text/x-python",
   "name": "python",
   "nbconvert_exporter": "python",
   "pygments_lexer": "ipython3",
   "version": "3.8.5"
  }
 },
 "nbformat": 4,
 "nbformat_minor": 1
}
