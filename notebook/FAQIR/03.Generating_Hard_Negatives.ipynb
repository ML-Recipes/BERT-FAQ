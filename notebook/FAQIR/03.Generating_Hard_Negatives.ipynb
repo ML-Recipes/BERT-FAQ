{
 "cells": [
  {
   "cell_type": "markdown",
   "metadata": {
    "id": "JoWilTNGKcrO"
   },
   "source": [
    "**Generating Hard Negatives for FAQIR**"
   ]
  },
  {
   "cell_type": "code",
   "execution_count": 1,
   "metadata": {},
   "outputs": [
    {
     "name": "stdout",
     "output_type": "stream",
     "text": [
      "Requirement already satisfied: elasticsearch in /usr/local/lib/python3.8/site-packages (7.8.1)\r\n",
      "Requirement already satisfied: certifi in /usr/local/lib/python3.8/site-packages (from elasticsearch) (2020.6.20)\r\n",
      "Requirement already satisfied: urllib3>=1.21.1 in /usr/local/lib/python3.8/site-packages (from elasticsearch) (1.23)\r\n"
     ]
    }
   ],
   "source": [
    "!pip3 install elasticsearch"
   ]
  },
  {
   "cell_type": "code",
   "execution_count": 2,
   "metadata": {},
   "outputs": [
    {
     "name": "stdout",
     "output_type": "stream",
     "text": [
      "Requirement already satisfied: elasticsearch-dsl in /usr/local/lib/python3.8/site-packages (7.3.0)\n",
      "Requirement already satisfied: six in /usr/local/lib/python3.8/site-packages (from elasticsearch-dsl) (1.15.0)\n",
      "Requirement already satisfied: elasticsearch<8.0.0,>=7.0.0 in /usr/local/lib/python3.8/site-packages (from elasticsearch-dsl) (7.8.1)\n",
      "Requirement already satisfied: python-dateutil in /usr/local/lib/python3.8/site-packages (from elasticsearch-dsl) (2.8.1)\n",
      "Requirement already satisfied: certifi in /usr/local/lib/python3.8/site-packages (from elasticsearch<8.0.0,>=7.0.0->elasticsearch-dsl) (2020.6.20)\n",
      "Requirement already satisfied: urllib3>=1.21.1 in /usr/local/lib/python3.8/site-packages (from elasticsearch<8.0.0,>=7.0.0->elasticsearch-dsl) (1.23)\n"
     ]
    }
   ],
   "source": [
    "!pip3 install elasticsearch-dsl"
   ]
  },
  {
   "cell_type": "code",
   "execution_count": 3,
   "metadata": {
    "id": "jop-QMVBD5a1"
   },
   "outputs": [],
   "source": [
    "from elasticsearch import Elasticsearch\n",
    "\n",
    "import sys\n",
    "sys.path.insert(0, '../../../BERT-FAQ/')\n",
    "\n",
    "from evaluation import get_relevance_label_df\n",
    "from evaluation import get_relevance_label\n",
    "from hard_negatives_generator import Hard_Negatives_Generator\n",
    "\n",
    "# import utility functions\n",
    "from shared.utils import load_from_json\n",
    "from shared.utils import dump_to_json\n",
    "from shared.utils import make_dirs"
   ]
  },
  {
   "cell_type": "code",
   "execution_count": 4,
   "metadata": {},
   "outputs": [
    {
     "data": {
      "text/html": [
       "<div>\n",
       "<style scoped>\n",
       "    .dataframe tbody tr th:only-of-type {\n",
       "        vertical-align: middle;\n",
       "    }\n",
       "\n",
       "    .dataframe tbody tr th {\n",
       "        vertical-align: top;\n",
       "    }\n",
       "\n",
       "    .dataframe thead th {\n",
       "        text-align: right;\n",
       "    }\n",
       "</style>\n",
       "<table border=\"1\" class=\"dataframe\">\n",
       "  <thead>\n",
       "    <tr style=\"text-align: right;\">\n",
       "      <th></th>\n",
       "      <th>answer</th>\n",
       "      <th>id</th>\n",
       "      <th>label</th>\n",
       "      <th>query_type</th>\n",
       "      <th>question</th>\n",
       "    </tr>\n",
       "  </thead>\n",
       "  <tbody>\n",
       "    <tr>\n",
       "      <th>0</th>\n",
       "      <td>I have had good luck with commercial products ...</td>\n",
       "      <td>1</td>\n",
       "      <td>1</td>\n",
       "      <td>faq</td>\n",
       "      <td>How to remove tree sap from car? Hi,I have som...</td>\n",
       "    </tr>\n",
       "    <tr>\n",
       "      <th>1</th>\n",
       "      <td>Goo Gone is a fantastic product (available at ...</td>\n",
       "      <td>2</td>\n",
       "      <td>1</td>\n",
       "      <td>faq</td>\n",
       "      <td>How do I get a sticker off of a car window  (p...</td>\n",
       "    </tr>\n",
       "    <tr>\n",
       "      <th>2</th>\n",
       "      <td>1. Inspect the black rubber cover that fits in...</td>\n",
       "      <td>3</td>\n",
       "      <td>1</td>\n",
       "      <td>faq</td>\n",
       "      <td>How to get rid of garbage disposal odor?</td>\n",
       "    </tr>\n",
       "    <tr>\n",
       "      <th>3</th>\n",
       "      <td>To properly maintain your lawnmover, you'll ne...</td>\n",
       "      <td>4</td>\n",
       "      <td>1</td>\n",
       "      <td>faq</td>\n",
       "      <td>How to maintain a lawn mower?</td>\n",
       "    </tr>\n",
       "    <tr>\n",
       "      <th>4</th>\n",
       "      <td>Click on the link and follow the steps.</td>\n",
       "      <td>5</td>\n",
       "      <td>1</td>\n",
       "      <td>faq</td>\n",
       "      <td>How to fix vertical blinds? I can no longer re...</td>\n",
       "    </tr>\n",
       "    <tr>\n",
       "      <th>...</th>\n",
       "      <td>...</td>\n",
       "      <td>...</td>\n",
       "      <td>...</td>\n",
       "      <td>...</td>\n",
       "      <td>...</td>\n",
       "    </tr>\n",
       "    <tr>\n",
       "      <th>16319</th>\n",
       "      <td>Get a bucket, fold some cotton towels into it,...</td>\n",
       "      <td>16320</td>\n",
       "      <td>1</td>\n",
       "      <td>user_query</td>\n",
       "      <td>Cigarette smoke odor is so annoying. Some frie...</td>\n",
       "    </tr>\n",
       "    <tr>\n",
       "      <th>16320</th>\n",
       "      <td>Get a bucket, fold some cotton towels into it,...</td>\n",
       "      <td>16321</td>\n",
       "      <td>1</td>\n",
       "      <td>user_query</td>\n",
       "      <td>I love smoking a pipe but the smell is quite d...</td>\n",
       "    </tr>\n",
       "    <tr>\n",
       "      <th>16321</th>\n",
       "      <td>Get a bucket, fold some cotton towels into it,...</td>\n",
       "      <td>16322</td>\n",
       "      <td>1</td>\n",
       "      <td>user_query</td>\n",
       "      <td>What are the best tips for getting rid of the ...</td>\n",
       "    </tr>\n",
       "    <tr>\n",
       "      <th>16322</th>\n",
       "      <td>Get a bucket, fold some cotton towels into it,...</td>\n",
       "      <td>16323</td>\n",
       "      <td>1</td>\n",
       "      <td>user_query</td>\n",
       "      <td>The weed smell is really hard to get rid of. D...</td>\n",
       "    </tr>\n",
       "    <tr>\n",
       "      <th>16323</th>\n",
       "      <td>Get a bucket, fold some cotton towels into it,...</td>\n",
       "      <td>16324</td>\n",
       "      <td>1</td>\n",
       "      <td>user_query</td>\n",
       "      <td>My roommate started smoking marijuana every th...</td>\n",
       "    </tr>\n",
       "  </tbody>\n",
       "</table>\n",
       "<p>16324 rows × 5 columns</p>\n",
       "</div>"
      ],
      "text/plain": [
       "                                                  answer     id  label  \\\n",
       "0      I have had good luck with commercial products ...      1      1   \n",
       "1      Goo Gone is a fantastic product (available at ...      2      1   \n",
       "2      1. Inspect the black rubber cover that fits in...      3      1   \n",
       "3      To properly maintain your lawnmover, you'll ne...      4      1   \n",
       "4                Click on the link and follow the steps.      5      1   \n",
       "...                                                  ...    ...    ...   \n",
       "16319  Get a bucket, fold some cotton towels into it,...  16320      1   \n",
       "16320  Get a bucket, fold some cotton towels into it,...  16321      1   \n",
       "16321  Get a bucket, fold some cotton towels into it,...  16322      1   \n",
       "16322  Get a bucket, fold some cotton towels into it,...  16323      1   \n",
       "16323  Get a bucket, fold some cotton towels into it,...  16324      1   \n",
       "\n",
       "       query_type                                           question  \n",
       "0             faq  How to remove tree sap from car? Hi,I have som...  \n",
       "1             faq  How do I get a sticker off of a car window  (p...  \n",
       "2             faq           How to get rid of garbage disposal odor?  \n",
       "3             faq                      How to maintain a lawn mower?  \n",
       "4             faq  How to fix vertical blinds? I can no longer re...  \n",
       "...           ...                                                ...  \n",
       "16319  user_query  Cigarette smoke odor is so annoying. Some frie...  \n",
       "16320  user_query  I love smoking a pipe but the smell is quite d...  \n",
       "16321  user_query  What are the best tips for getting rid of the ...  \n",
       "16322  user_query  The weed smell is really hard to get rid of. D...  \n",
       "16323  user_query  My roommate started smoking marijuana every th...  \n",
       "\n",
       "[16324 rows x 5 columns]"
      ]
     },
     "execution_count": 4,
     "metadata": {},
     "output_type": "execute_result"
    }
   ],
   "source": [
    "query_answer_pair_filepath = '../../../BERT-FAQ/data/FAQIR/query_answer_pairs.json'\n",
    "relevance_label_df = get_relevance_label_df(query_answer_pair_filepath)\n",
    "relevance_label_df"
   ]
  },
  {
   "cell_type": "code",
   "execution_count": 5,
   "metadata": {},
   "outputs": [
    {
     "name": "stderr",
     "output_type": "stream",
     "text": [
      "100%|██████████| 4305/4305 [01:04<00:00, 67.26it/s]\n",
      "100%|██████████| 5488/5488 [01:19<00:00, 69.12it/s]\n"
     ]
    }
   ],
   "source": [
    "es = Elasticsearch([{'host':'localhost','port':9200}], http_auth=('username', 'password')) \n",
    "\n",
    "hng = Hard_Negatives_Generator(\n",
    "    es=es, index='faqir', query_by=['question_answer'], top_k=100, query_type='faq')\n",
    "hard_negatives_faq = hng.get_hard_negatives(relevance_label_df)\n",
    "dump_to_json(hard_negatives_faq, '../../../BERT-FAQ/data/FAQIR/hard_negatives_faq.json')\n",
    "\n",
    "hng = Hard_Negatives_Generator(\n",
    "    es=es, index='faqir', query_by=['question_answer'], top_k=100, query_type='user_query')\n",
    "hard_negatives_user_query = hng.get_hard_negatives(relevance_label_df)\n",
    "dump_to_json(hard_negatives_user_query, '../../../BERT-FAQ/data/FAQIR/hard_negatives_user_query.json')"
   ]
  },
  {
   "cell_type": "code",
   "execution_count": null,
   "metadata": {},
   "outputs": [],
   "source": []
  }
 ],
 "metadata": {
  "accelerator": "GPU",
  "colab": {
   "collapsed_sections": [],
   "name": "01_Generating_Ground_Truth_Dataset_for_FAQIR.ipynb",
   "provenance": []
  },
  "kernelspec": {
   "display_name": "Python 3",
   "language": "python",
   "name": "python3"
  },
  "language_info": {
   "codemirror_mode": {
    "name": "ipython",
    "version": 3
   },
   "file_extension": ".py",
   "mimetype": "text/x-python",
   "name": "python",
   "nbconvert_exporter": "python",
   "pygments_lexer": "ipython3",
   "version": "3.8.5"
  }
 },
 "nbformat": 4,
 "nbformat_minor": 1
}
