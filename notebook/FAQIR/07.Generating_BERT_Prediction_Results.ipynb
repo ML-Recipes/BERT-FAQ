{
  "nbformat": 4,
  "nbformat_minor": 0,
  "metadata": {
    "accelerator": "GPU",
    "colab": {
      "name": "07_Generating_Bert_Predictions.ipynb",
      "provenance": [],
      "collapsed_sections": []
    },
    "kernelspec": {
      "display_name": "Python 3",
      "language": "python",
      "name": "python3"
    },
    "language_info": {
      "codemirror_mode": {
        "name": "ipython",
        "version": 3
      },
      "file_extension": ".py",
      "mimetype": "text/x-python",
      "name": "python",
      "nbconvert_exporter": "python",
      "pygments_lexer": "ipython3",
      "version": "3.8.5"
    }
  },
  "cells": [
    {
      "cell_type": "code",
      "metadata": {
        "colab": {
          "base_uri": "https://localhost:8080/"
        },
        "id": "GWIhLk6uIODF",
        "outputId": "1e1a547a-22da-4a90-e0c5-d673d5f71d7a"
      },
      "source": [
        "# install required libraries\n",
        "!pip3 install sentence-transformers"
      ],
      "execution_count": 1,
      "outputs": [
        {
          "output_type": "stream",
          "text": [
            "Requirement already satisfied: sentence-transformers in /usr/local/lib/python3.7/dist-packages (1.0.3)\n",
            "Requirement already satisfied: torch>=1.6.0 in /usr/local/lib/python3.7/dist-packages (from sentence-transformers) (1.8.1+cu101)\n",
            "Requirement already satisfied: nltk in /usr/local/lib/python3.7/dist-packages (from sentence-transformers) (3.2.5)\n",
            "Requirement already satisfied: scipy in /usr/local/lib/python3.7/dist-packages (from sentence-transformers) (1.4.1)\n",
            "Requirement already satisfied: scikit-learn in /usr/local/lib/python3.7/dist-packages (from sentence-transformers) (0.22.2.post1)\n",
            "Requirement already satisfied: sentencepiece in /usr/local/lib/python3.7/dist-packages (from sentence-transformers) (0.1.95)\n",
            "Requirement already satisfied: tqdm in /usr/local/lib/python3.7/dist-packages (from sentence-transformers) (4.41.1)\n",
            "Requirement already satisfied: numpy in /usr/local/lib/python3.7/dist-packages (from sentence-transformers) (1.19.5)\n",
            "Requirement already satisfied: transformers<5.0.0,>=3.1.0 in /usr/local/lib/python3.7/dist-packages (from sentence-transformers) (4.4.2)\n",
            "Requirement already satisfied: typing-extensions in /usr/local/lib/python3.7/dist-packages (from torch>=1.6.0->sentence-transformers) (3.7.4.3)\n",
            "Requirement already satisfied: six in /usr/local/lib/python3.7/dist-packages (from nltk->sentence-transformers) (1.15.0)\n",
            "Requirement already satisfied: joblib>=0.11 in /usr/local/lib/python3.7/dist-packages (from scikit-learn->sentence-transformers) (1.0.1)\n",
            "Requirement already satisfied: packaging in /usr/local/lib/python3.7/dist-packages (from transformers<5.0.0,>=3.1.0->sentence-transformers) (20.9)\n",
            "Requirement already satisfied: tokenizers<0.11,>=0.10.1 in /usr/local/lib/python3.7/dist-packages (from transformers<5.0.0,>=3.1.0->sentence-transformers) (0.10.1)\n",
            "Requirement already satisfied: filelock in /usr/local/lib/python3.7/dist-packages (from transformers<5.0.0,>=3.1.0->sentence-transformers) (3.0.12)\n",
            "Requirement already satisfied: sacremoses in /usr/local/lib/python3.7/dist-packages (from transformers<5.0.0,>=3.1.0->sentence-transformers) (0.0.43)\n",
            "Requirement already satisfied: regex!=2019.12.17 in /usr/local/lib/python3.7/dist-packages (from transformers<5.0.0,>=3.1.0->sentence-transformers) (2019.12.20)\n",
            "Requirement already satisfied: importlib-metadata; python_version < \"3.8\" in /usr/local/lib/python3.7/dist-packages (from transformers<5.0.0,>=3.1.0->sentence-transformers) (3.8.1)\n",
            "Requirement already satisfied: requests in /usr/local/lib/python3.7/dist-packages (from transformers<5.0.0,>=3.1.0->sentence-transformers) (2.23.0)\n",
            "Requirement already satisfied: pyparsing>=2.0.2 in /usr/local/lib/python3.7/dist-packages (from packaging->transformers<5.0.0,>=3.1.0->sentence-transformers) (2.4.7)\n",
            "Requirement already satisfied: click in /usr/local/lib/python3.7/dist-packages (from sacremoses->transformers<5.0.0,>=3.1.0->sentence-transformers) (7.1.2)\n",
            "Requirement already satisfied: zipp>=0.5 in /usr/local/lib/python3.7/dist-packages (from importlib-metadata; python_version < \"3.8\"->transformers<5.0.0,>=3.1.0->sentence-transformers) (3.4.1)\n",
            "Requirement already satisfied: urllib3!=1.25.0,!=1.25.1,<1.26,>=1.21.1 in /usr/local/lib/python3.7/dist-packages (from requests->transformers<5.0.0,>=3.1.0->sentence-transformers) (1.24.3)\n",
            "Requirement already satisfied: idna<3,>=2.5 in /usr/local/lib/python3.7/dist-packages (from requests->transformers<5.0.0,>=3.1.0->sentence-transformers) (2.10)\n",
            "Requirement already satisfied: chardet<4,>=3.0.2 in /usr/local/lib/python3.7/dist-packages (from requests->transformers<5.0.0,>=3.1.0->sentence-transformers) (3.0.4)\n",
            "Requirement already satisfied: certifi>=2017.4.17 in /usr/local/lib/python3.7/dist-packages (from requests->transformers<5.0.0,>=3.1.0->sentence-transformers) (2020.12.5)\n"
          ],
          "name": "stdout"
        }
      ]
    },
    {
      "cell_type": "code",
      "metadata": {
        "colab": {
          "base_uri": "https://localhost:8080/"
        },
        "id": "wHrXaJsSLhrJ",
        "outputId": "e25a4eb5-68d9-41fb-ad04-ea0172de8572"
      },
      "source": [
        "!pip3 install elasticsearch"
      ],
      "execution_count": 2,
      "outputs": [
        {
          "output_type": "stream",
          "text": [
            "Requirement already satisfied: elasticsearch in /usr/local/lib/python3.7/dist-packages (7.12.0)\n",
            "Requirement already satisfied: certifi in /usr/local/lib/python3.7/dist-packages (from elasticsearch) (2020.12.5)\n",
            "Requirement already satisfied: urllib3<2,>=1.21.1 in /usr/local/lib/python3.7/dist-packages (from elasticsearch) (1.24.3)\n"
          ],
          "name": "stdout"
        }
      ]
    },
    {
      "cell_type": "code",
      "metadata": {
        "id": "Nx6PkXGeh5s3"
      },
      "source": [
        "from google.colab import drive"
      ],
      "execution_count": 3,
      "outputs": []
    },
    {
      "cell_type": "code",
      "metadata": {
        "colab": {
          "base_uri": "https://localhost:8080/"
        },
        "id": "L-v9U9E5h5gb",
        "outputId": "00ec3323-a78a-4f1e-ca28-0a17a446fded"
      },
      "source": [
        "drive.mount('/content/drive')"
      ],
      "execution_count": 4,
      "outputs": [
        {
          "output_type": "stream",
          "text": [
            "Drive already mounted at /content/drive; to attempt to forcibly remount, call drive.mount(\"/content/drive\", force_remount=True).\n"
          ],
          "name": "stdout"
        }
      ]
    },
    {
      "cell_type": "code",
      "metadata": {
        "colab": {
          "base_uri": "https://localhost:8080/"
        },
        "id": "dMP1Wg7Bh5RT",
        "outputId": "a2f499d3-9a6c-42b0-ee65-c436f8ebb6c2"
      },
      "source": [
        "%cd /content/drive/MyDrive/BERT-FAQ"
      ],
      "execution_count": 5,
      "outputs": [
        {
          "output_type": "stream",
          "text": [
            "/content/drive/MyDrive/BERT-FAQ\n"
          ],
          "name": "stdout"
        }
      ]
    },
    {
      "cell_type": "code",
      "metadata": {
        "colab": {
          "base_uri": "https://localhost:8080/"
        },
        "id": "-ESSxl0XiXAD",
        "outputId": "a7173108-533d-4371-c3b9-01818786f945"
      },
      "source": [
        "!ls"
      ],
      "execution_count": 6,
      "outputs": [
        {
          "output_type": "stream",
          "text": [
            "data\t\t\t     indexer.py   reranker.py\n",
            "evaluation.py\t\t     metric.py\t  searcher.py\n",
            "faq_bert_finetuning.py\t     notebook\t  shared\n",
            "faq_bert.py\t\t     output\t  training_data_generator.py\n",
            "faq_bert_ranker.py\t     parser\t  webserver.py\n",
            "hard_negatives_generator.py  __pycache__\n"
          ],
          "name": "stdout"
        }
      ]
    },
    {
      "cell_type": "code",
      "metadata": {
        "id": "Fu6mIC_NKTRR"
      },
      "source": [
        "# import required dependencies\n",
        "from evaluation import get_relevance_label_df\n",
        "from shared.utils import load_from_json\n",
        "from shared.utils import dump_to_json\n",
        "from shared.utils import make_dirs\n",
        "from reranker import ReRanker"
      ],
      "execution_count": 7,
      "outputs": []
    },
    {
      "cell_type": "code",
      "metadata": {
        "id": "_O3F8NYk19Go"
      },
      "source": [
        "output_path=\"data/FAQIR/rank_results\"\n",
        "\n",
        "# load user_query ES results from json files\n",
        "es_output_path = output_path + \"/unsupervised\"\n",
        "es_query_by_question = load_from_json(es_output_path + '/es_query_by_question.json')\n",
        "es_query_by_answer = load_from_json(es_output_path + '/es_query_by_answer.json')\n",
        "es_query_by_question_answer = load_from_json(es_output_path + '/es_query_by_question_answer.json')\n",
        "es_query_by_question_answer_concat = load_from_json(es_output_path + '/es_query_by_question_answer_concat.json')"
      ],
      "execution_count": 8,
      "outputs": []
    },
    {
      "cell_type": "code",
      "metadata": {
        "id": "pyA4nPfi1885"
      },
      "source": [
        "# load test_queries, relevance_label_df for ReRanker\n",
        "query_answer_pair_filepath = 'data/FAQIR/query_answer_pairs.json'\n",
        "relevance_label_df = get_relevance_label_df(query_answer_pair_filepath)\n",
        "test_queries = relevance_label_df[relevance_label_df['query_type'] == 'user_query'].question.unique()"
      ],
      "execution_count": 9,
      "outputs": []
    },
    {
      "cell_type": "code",
      "metadata": {
        "colab": {
          "base_uri": "https://localhost:8080/"
        },
        "id": "MhodYHua180S",
        "outputId": "66591dae-b1e1-4782-f74a-b151dd0b89ff"
      },
      "source": [
        "test_queries[:10]"
      ],
      "execution_count": 10,
      "outputs": [
        {
          "output_type": "execute_result",
          "data": {
            "text/plain": [
              "array(['How to increase the efficiency of my car with respect to fuel expended?',\n",
              "       'Is there a special way to drive to decreasse my fuel consumption?',\n",
              "       'How to use less gas in my car?',\n",
              "       'I want to save some money on gas. What can I do to make my car use less gas?',\n",
              "       'Are there any simple tweaks one can do to a car to make it more fuel efficient?',\n",
              "       'How can I make my fuel mileage bigger?',\n",
              "       'I feel my car is using too much gas. Can I make some cheap modifications that would fix this?',\n",
              "       'What should I do to reduce the fuel required by my car while not affecting the mileage?',\n",
              "       'I need to decrease the fuel consumption of my car. What are the best strategies?',\n",
              "       'I have a sporty style of driving, can I reduce the fuel consumption by changing the driving style?'],\n",
              "      dtype=object)"
            ]
          },
          "metadata": {
            "tags": []
          },
          "execution_count": 10
        }
      ]
    },
    {
      "cell_type": "code",
      "metadata": {
        "colab": {
          "base_uri": "https://localhost:8080/"
        },
        "id": "o2S73_R42DCF",
        "outputId": "d289fa2c-5d18-46b3-d895-6dc062eca610"
      },
      "source": [
        "# total number of test queries\n",
        "len(test_queries)"
      ],
      "execution_count": 11,
      "outputs": [
        {
          "output_type": "execute_result",
          "data": {
            "text/plain": [
              "1183"
            ]
          },
          "metadata": {
            "tags": []
          },
          "execution_count": 11
        }
      ]
    },
    {
      "cell_type": "markdown",
      "metadata": {
        "id": "CDsNe63Nix7W"
      },
      "source": [
        "**1. Generating BERT prediction results from Answer (BERT-Q-a)\"**"
      ]
    },
    {
      "cell_type": "code",
      "metadata": {
        "id": "dvplanC2jY-y"
      },
      "source": [
        "# define rank_field parameter\n",
        "rank_field=\"BERT-Q-a\""
      ],
      "execution_count": null,
      "outputs": []
    },
    {
      "cell_type": "markdown",
      "metadata": {
        "id": "SxcqS2Dj2liG"
      },
      "source": [
        "**query_type=\"user_query\"; neg_type=\"hard\"; loss_type='triplet'**"
      ]
    },
    {
      "cell_type": "code",
      "metadata": {
        "id": "__jcFHSRBZSY"
      },
      "source": [
        "# define variables\n",
        "query_type=\"user_query\"; neg_type=\"hard\"; version=\"1.1\"; loss_type='triplet'\n",
        "bert_model_path='output/FAQIR/models/' + loss_type + '_' + neg_type + '_' + query_type + '_' + version"
      ],
      "execution_count": null,
      "outputs": []
    },
    {
      "cell_type": "code",
      "metadata": {
        "id": "n9ycYBipNnP9"
      },
      "source": [
        "# create instance of ReRanker class\n",
        "r = ReRanker(\n",
        "    bert_model_path=bert_model_path, \n",
        "    test_queries=test_queries, relevance_label_df=relevance_label_df,\n",
        "    rank_field=rank_field\n",
        ")"
      ],
      "execution_count": null,
      "outputs": []
    },
    {
      "cell_type": "code",
      "metadata": {
        "colab": {
          "base_uri": "https://localhost:8080/"
        },
        "id": "xJMgG4aZKTN5",
        "outputId": "b6c8a5c7-ae5e-4cce-c1ea-01f9c8479879"
      },
      "source": [
        "# generate directory structure\n",
        "pred_output_path = output_path + \"/supervised/\" + rank_field + \"/\" + loss_type + \"/\" + query_type + \"/\" + neg_type\n",
        "make_dirs(pred_output_path)\n",
        "\n",
        "# next, generate BERT, Re-ranked top-k results and dump to files\n",
        "bert_query_by_question = r.get_bert_topk_preds(es_query_by_question)\n",
        "dump_to_json(bert_query_by_question, pred_output_path + '/bert_query_by_question.json')\n",
        "\n",
        "bert_query_by_answer = r.get_bert_topk_preds(es_query_by_answer)\n",
        "dump_to_json(bert_query_by_answer, pred_output_path + '/bert_query_by_answer.json')\n",
        "\n",
        "bert_query_by_question_answer = r.get_bert_topk_preds(es_query_by_question_answer)\n",
        "dump_to_json(bert_query_by_question_answer, pred_output_path + '/bert_query_by_question_answer.json')\n",
        "\n",
        "bert_query_by_question_answer_concat = r.get_bert_topk_preds(es_query_by_question_answer_concat)\n",
        "dump_to_json(bert_query_by_question_answer_concat, pred_output_path + '/bert_query_by_question_answer_concat.json')"
      ],
      "execution_count": null,
      "outputs": [
        {
          "output_type": "stream",
          "text": [
            "2021-03-29 17:12:54 - Generating BERT top-k results ...\n",
            "2021-03-29 17:12:54 - Load pretrained SentenceTransformer: output/FAQIR/models/triplet_hard_user_query_1.1\n",
            "2021-03-29 17:12:54 - Load SentenceTransformer from folder: output/FAQIR/models/triplet_hard_user_query_1.1\n",
            "2021-03-29 17:12:55 - Use pytorch device: cuda\n",
            "100%|██████████| 1183/1183 [15:56<00:00,  1.24it/s]\n",
            "2021-03-29 17:28:54 - Generating BERT top-k results ...\n",
            "2021-03-29 17:28:54 - Load pretrained SentenceTransformer: output/FAQIR/models/triplet_hard_user_query_1.1\n",
            "2021-03-29 17:28:54 - Load SentenceTransformer from folder: output/FAQIR/models/triplet_hard_user_query_1.1\n",
            "2021-03-29 17:28:56 - Use pytorch device: cuda\n",
            "100%|██████████| 1183/1183 [17:19<00:00,  1.14it/s]\n",
            "2021-03-29 17:46:17 - Generating BERT top-k results ...\n",
            "2021-03-29 17:46:17 - Load pretrained SentenceTransformer: output/FAQIR/models/triplet_hard_user_query_1.1\n",
            "2021-03-29 17:46:17 - Load SentenceTransformer from folder: output/FAQIR/models/triplet_hard_user_query_1.1\n",
            "2021-03-29 17:46:19 - Use pytorch device: cuda\n",
            "100%|██████████| 1183/1183 [16:38<00:00,  1.18it/s]\n",
            "2021-03-29 18:03:00 - Generating BERT top-k results ...\n",
            "2021-03-29 18:03:00 - Load pretrained SentenceTransformer: output/FAQIR/models/triplet_hard_user_query_1.1\n",
            "2021-03-29 18:03:00 - Load SentenceTransformer from folder: output/FAQIR/models/triplet_hard_user_query_1.1\n",
            "2021-03-29 18:03:01 - Use pytorch device: cuda\n",
            "100%|██████████| 1183/1183 [16:19<00:00,  1.21it/s]\n"
          ],
          "name": "stderr"
        }
      ]
    },
    {
      "cell_type": "markdown",
      "metadata": {
        "id": "ni5fBXXCM8oo"
      },
      "source": [
        "**query_type=\"user_query\"; neg_type=\"simple\"; loss_type='triplet'**"
      ]
    },
    {
      "cell_type": "code",
      "metadata": {
        "id": "YahPWqlrM4eU"
      },
      "source": [
        "# define variables\n",
        "query_type=\"user_query\"; neg_type=\"simple\"; version=\"1.1\"; loss_type='triplet'\n",
        "bert_model_path='output/FAQIR/models/' + loss_type + '_' + neg_type + '_' + query_type + '_' + version"
      ],
      "execution_count": null,
      "outputs": []
    },
    {
      "cell_type": "code",
      "metadata": {
        "id": "vfz-PNgZM4FL"
      },
      "source": [
        "# create instance of ReRanker class\n",
        "r = ReRanker(\n",
        "    bert_model_path=bert_model_path, \n",
        "    test_queries=test_queries, relevance_label_df=relevance_label_df,\n",
        "    rank_field=rank_field\n",
        ")"
      ],
      "execution_count": null,
      "outputs": []
    },
    {
      "cell_type": "code",
      "metadata": {
        "colab": {
          "base_uri": "https://localhost:8080/"
        },
        "id": "90jQn9shzcsj",
        "outputId": "dd3546ef-4a0f-4a6d-bb97-387234222069"
      },
      "source": [
        "# generate directory structure\n",
        "pred_output_path = output_path + \"/supervised/\" + rank_field + \"/\" + loss_type + \"/\" + query_type + \"/\" + neg_type\n",
        "make_dirs(pred_output_path)\n",
        "\n",
        "# next, generate BERT, Re-ranked top-k results and dump to files\n",
        "bert_query_by_question = r.get_bert_topk_preds(es_query_by_question)\n",
        "dump_to_json(bert_query_by_question, pred_output_path + '/bert_query_by_question.json')\n",
        "\n",
        "bert_query_by_answer = r.get_bert_topk_preds(es_query_by_answer)\n",
        "dump_to_json(bert_query_by_answer, pred_output_path + '/bert_query_by_answer.json')\n",
        "\n",
        "bert_query_by_question_answer = r.get_bert_topk_preds(es_query_by_question_answer)\n",
        "dump_to_json(bert_query_by_question_answer, pred_output_path + '/bert_query_by_question_answer.json')\n",
        "\n",
        "bert_query_by_question_answer_concat = r.get_bert_topk_preds(es_query_by_question_answer_concat)\n",
        "dump_to_json(bert_query_by_question_answer_concat, pred_output_path + '/bert_query_by_question_answer_concat.json')"
      ],
      "execution_count": null,
      "outputs": [
        {
          "output_type": "stream",
          "text": [
            "2021-03-30 08:01:41 - Generating BERT top-k results ...\n",
            "2021-03-30 08:01:41 - Load pretrained SentenceTransformer: output/FAQIR/models/triplet_simple_user_query_1.1\n",
            "2021-03-30 08:01:41 - Load SentenceTransformer from folder: output/FAQIR/models/triplet_simple_user_query_1.1\n",
            "2021-03-30 08:01:50 - Use pytorch device: cuda\n",
            "100%|██████████| 1183/1183 [19:11<00:00,  1.03it/s]\n",
            "2021-03-30 08:21:04 - Generating BERT top-k results ...\n",
            "2021-03-30 08:21:04 - Load pretrained SentenceTransformer: output/FAQIR/models/triplet_simple_user_query_1.1\n",
            "2021-03-30 08:21:04 - Load SentenceTransformer from folder: output/FAQIR/models/triplet_simple_user_query_1.1\n",
            "2021-03-30 08:21:05 - Use pytorch device: cuda\n",
            "100%|██████████| 1183/1183 [24:20<00:00,  1.23s/it]\n",
            "2021-03-30 08:45:28 - Generating BERT top-k results ...\n",
            "2021-03-30 08:45:28 - Load pretrained SentenceTransformer: output/FAQIR/models/triplet_simple_user_query_1.1\n",
            "2021-03-30 08:45:28 - Load SentenceTransformer from folder: output/FAQIR/models/triplet_simple_user_query_1.1\n",
            "2021-03-30 08:45:29 - Use pytorch device: cuda\n",
            "100%|██████████| 1183/1183 [22:21<00:00,  1.13s/it]\n",
            "2021-03-30 09:07:54 - Generating BERT top-k results ...\n",
            "2021-03-30 09:07:54 - Load pretrained SentenceTransformer: output/FAQIR/models/triplet_simple_user_query_1.1\n",
            "2021-03-30 09:07:54 - Load SentenceTransformer from folder: output/FAQIR/models/triplet_simple_user_query_1.1\n",
            "2021-03-30 09:07:55 - Use pytorch device: cuda\n",
            "100%|██████████| 1183/1183 [21:19<00:00,  1.08s/it]\n"
          ],
          "name": "stderr"
        }
      ]
    },
    {
      "cell_type": "markdown",
      "metadata": {
        "id": "h0-VLGZ-Np04"
      },
      "source": [
        "**query_type=\"faq\"; neg_type=\"hard\"; loss_type='triplet'**"
      ]
    },
    {
      "cell_type": "code",
      "metadata": {
        "id": "sGUqO4kSNcGJ"
      },
      "source": [
        "# define variables\n",
        "query_type=\"faq\"; neg_type=\"hard\"; version=\"1.1\"; loss_type='triplet'\n",
        "bert_model_path='output/FAQIR/models/' + loss_type + '_' + neg_type + '_' + query_type + '_' + version"
      ],
      "execution_count": null,
      "outputs": []
    },
    {
      "cell_type": "code",
      "metadata": {
        "id": "Bkdb3DQON4A9"
      },
      "source": [
        "# create instance of ReRanker class\n",
        "r = ReRanker(\n",
        "    bert_model_path=bert_model_path, \n",
        "    test_queries=test_queries, relevance_label_df=relevance_label_df,\n",
        "    rank_field=rank_field\n",
        ")"
      ],
      "execution_count": null,
      "outputs": []
    },
    {
      "cell_type": "code",
      "metadata": {
        "id": "9whF6pZTzfHK",
        "colab": {
          "base_uri": "https://localhost:8080/"
        },
        "outputId": "0df4ec12-a5e3-4ed0-8a80-61594e7507de"
      },
      "source": [
        "# generate directory structure\n",
        "pred_output_path = output_path + \"/supervised/\" + rank_field + \"/\" + loss_type + \"/\" + query_type + \"/\" + neg_type\n",
        "make_dirs(pred_output_path)\n",
        "\n",
        "# next, generate BERT, Re-ranked top-k results and dump to files\n",
        "bert_query_by_question = r.get_bert_topk_preds(es_query_by_question)\n",
        "dump_to_json(bert_query_by_question, pred_output_path + '/bert_query_by_question.json')\n",
        "\n",
        "bert_query_by_answer = r.get_bert_topk_preds(es_query_by_answer)\n",
        "dump_to_json(bert_query_by_answer, pred_output_path + '/bert_query_by_answer.json')\n",
        "\n",
        "bert_query_by_question_answer = r.get_bert_topk_preds(es_query_by_question_answer)\n",
        "dump_to_json(bert_query_by_question_answer, pred_output_path + '/bert_query_by_question_answer.json')\n",
        "\n",
        "bert_query_by_question_answer_concat = r.get_bert_topk_preds(es_query_by_question_answer_concat)\n",
        "dump_to_json(bert_query_by_question_answer_concat, pred_output_path + '/bert_query_by_question_answer_concat.json')"
      ],
      "execution_count": null,
      "outputs": [
        {
          "output_type": "stream",
          "text": [
            "2021-03-30 09:29:18 - Generating BERT top-k results ...\n",
            "2021-03-30 09:29:18 - Load pretrained SentenceTransformer: output/FAQIR/models/triplet_hard_faq_1.1\n",
            "2021-03-30 09:29:18 - Load SentenceTransformer from folder: output/FAQIR/models/triplet_hard_faq_1.1\n",
            "2021-03-30 09:29:28 - Use pytorch device: cuda\n",
            "100%|██████████| 1183/1183 [15:38<00:00,  1.26it/s]\n",
            "2021-03-30 09:45:09 - Generating BERT top-k results ...\n",
            "2021-03-30 09:45:09 - Load pretrained SentenceTransformer: output/FAQIR/models/triplet_hard_faq_1.1\n",
            "2021-03-30 09:45:09 - Load SentenceTransformer from folder: output/FAQIR/models/triplet_hard_faq_1.1\n",
            "2021-03-30 09:45:10 - Use pytorch device: cuda\n",
            "100%|██████████| 1183/1183 [17:14<00:00,  1.14it/s]\n",
            "2021-03-30 10:02:27 - Generating BERT top-k results ...\n",
            "2021-03-30 10:02:27 - Load pretrained SentenceTransformer: output/FAQIR/models/triplet_hard_faq_1.1\n",
            "2021-03-30 10:02:27 - Load SentenceTransformer from folder: output/FAQIR/models/triplet_hard_faq_1.1\n",
            "2021-03-30 10:02:29 - Use pytorch device: cuda\n",
            "100%|██████████| 1183/1183 [16:50<00:00,  1.17it/s]\n",
            "2021-03-30 10:19:22 - Generating BERT top-k results ...\n",
            "2021-03-30 10:19:22 - Load pretrained SentenceTransformer: output/FAQIR/models/triplet_hard_faq_1.1\n",
            "2021-03-30 10:19:22 - Load SentenceTransformer from folder: output/FAQIR/models/triplet_hard_faq_1.1\n",
            "2021-03-30 10:19:24 - Use pytorch device: cuda\n",
            "100%|██████████| 1183/1183 [16:15<00:00,  1.21it/s]\n"
          ],
          "name": "stderr"
        }
      ]
    },
    {
      "cell_type": "markdown",
      "metadata": {
        "id": "LW6WhP1POh4R"
      },
      "source": [
        "**query_type=\"faq\"; neg_type=\"simple\"; loss_type='triplet'**"
      ]
    },
    {
      "cell_type": "code",
      "metadata": {
        "id": "td1x8prBOXIo"
      },
      "source": [
        "# define variables\n",
        "query_type=\"faq\"; neg_type=\"simple\"; version=\"1.1\"; loss_type='triplet'\n",
        "bert_model_path='output/FAQIR/models/' + loss_type + '_' + neg_type + '_' + query_type + '_' + version"
      ],
      "execution_count": null,
      "outputs": []
    },
    {
      "cell_type": "code",
      "metadata": {
        "id": "Z8ZPxcmWOny9"
      },
      "source": [
        "# create instance of ReRanker class\n",
        "r = ReRanker(\n",
        "    bert_model_path=bert_model_path, \n",
        "    test_queries=test_queries, relevance_label_df=relevance_label_df,\n",
        "    rank_field=rank_field\n",
        ")"
      ],
      "execution_count": null,
      "outputs": []
    },
    {
      "cell_type": "code",
      "metadata": {
        "id": "eWO9iOd4zjrX",
        "colab": {
          "base_uri": "https://localhost:8080/"
        },
        "outputId": "3792967f-a181-4f76-a378-ec2a5ba36443"
      },
      "source": [
        "# generate directory structure\n",
        "pred_output_path = output_path + \"/supervised/\" + rank_field + \"/\" + loss_type + \"/\" + query_type + \"/\" + neg_type\n",
        "make_dirs(pred_output_path)\n",
        "\n",
        "# next, generate BERT, Re-ranked top-k results and dump to files\n",
        "bert_query_by_question = r.get_bert_topk_preds(es_query_by_question)\n",
        "dump_to_json(bert_query_by_question, pred_output_path + '/bert_query_by_question.json')\n",
        "\n",
        "bert_query_by_answer = r.get_bert_topk_preds(es_query_by_answer)\n",
        "dump_to_json(bert_query_by_answer, pred_output_path + '/bert_query_by_answer.json')\n",
        "\n",
        "bert_query_by_question_answer = r.get_bert_topk_preds(es_query_by_question_answer)\n",
        "dump_to_json(bert_query_by_question_answer, pred_output_path + '/bert_query_by_question_answer.json')\n",
        "\n",
        "bert_query_by_question_answer_concat = r.get_bert_topk_preds(es_query_by_question_answer_concat)\n",
        "dump_to_json(bert_query_by_question_answer_concat, pred_output_path + '/bert_query_by_question_answer_concat.json')"
      ],
      "execution_count": null,
      "outputs": [
        {
          "output_type": "stream",
          "text": [
            "2021-03-30 10:35:42 - Generating BERT top-k results ...\n",
            "2021-03-30 10:35:42 - Load pretrained SentenceTransformer: output/FAQIR/models/triplet_simple_faq_1.1\n",
            "2021-03-30 10:35:42 - Load SentenceTransformer from folder: output/FAQIR/models/triplet_simple_faq_1.1\n",
            "2021-03-30 10:35:52 - Use pytorch device: cuda\n",
            "100%|██████████| 1183/1183 [15:37<00:00,  1.26it/s]\n",
            "2021-03-30 10:51:31 - Generating BERT top-k results ...\n",
            "2021-03-30 10:51:31 - Load pretrained SentenceTransformer: output/FAQIR/models/triplet_simple_faq_1.1\n",
            "2021-03-30 10:51:31 - Load SentenceTransformer from folder: output/FAQIR/models/triplet_simple_faq_1.1\n",
            "2021-03-30 10:51:33 - Use pytorch device: cuda\n",
            "100%|██████████| 1183/1183 [17:10<00:00,  1.15it/s]\n",
            "2021-03-30 11:08:46 - Generating BERT top-k results ...\n",
            "2021-03-30 11:08:46 - Load pretrained SentenceTransformer: output/FAQIR/models/triplet_simple_faq_1.1\n",
            "2021-03-30 11:08:46 - Load SentenceTransformer from folder: output/FAQIR/models/triplet_simple_faq_1.1\n",
            "2021-03-30 11:08:47 - Use pytorch device: cuda\n",
            "100%|██████████| 1183/1183 [16:35<00:00,  1.19it/s]\n",
            "2021-03-30 11:25:25 - Generating BERT top-k results ...\n",
            "2021-03-30 11:25:25 - Load pretrained SentenceTransformer: output/FAQIR/models/triplet_simple_faq_1.1\n",
            "2021-03-30 11:25:25 - Load SentenceTransformer from folder: output/FAQIR/models/triplet_simple_faq_1.1\n",
            "2021-03-30 11:25:27 - Use pytorch device: cuda\n",
            "100%|██████████| 1183/1183 [16:14<00:00,  1.21it/s]\n"
          ],
          "name": "stderr"
        }
      ]
    },
    {
      "cell_type": "markdown",
      "metadata": {
        "id": "TQWBMnXNuN1r"
      },
      "source": [
        "**query_type=\"user_query\"; neg_type=\"hard\"; loss_type='softmax'**"
      ]
    },
    {
      "cell_type": "code",
      "metadata": {
        "id": "qWbql3bypSdF"
      },
      "source": [
        "# define variables\n",
        "query_type=\"user_query\"; neg_type=\"hard\"; version=\"1.1\"; loss_type='softmax'\n",
        "bert_model_path='output/FAQIR/models/' + loss_type + '_' + neg_type + '_' + query_type + '_' + version"
      ],
      "execution_count": null,
      "outputs": []
    },
    {
      "cell_type": "code",
      "metadata": {
        "id": "nXbORhXguIpu"
      },
      "source": [
        "# create instance of ReRanker class\n",
        "r = ReRanker(\n",
        "    bert_model_path=bert_model_path, \n",
        "    test_queries=test_queries, relevance_label_df=relevance_label_df,\n",
        "    rank_field=rank_field\n",
        ")"
      ],
      "execution_count": null,
      "outputs": []
    },
    {
      "cell_type": "code",
      "metadata": {
        "id": "JxveUtZbzlnb",
        "colab": {
          "base_uri": "https://localhost:8080/"
        },
        "outputId": "b476f589-7331-41d6-fc86-940db5e6c83c"
      },
      "source": [
        "# generate directory structure\n",
        "pred_output_path = output_path + \"/supervised/\" + rank_field + \"/\" + loss_type + \"/\" + query_type + \"/\" + neg_type\n",
        "make_dirs(pred_output_path)\n",
        "\n",
        "# next, generate BERT, Re-ranked top-k results and dump to files\n",
        "bert_query_by_question = r.get_bert_topk_preds(es_query_by_question)\n",
        "dump_to_json(bert_query_by_question, pred_output_path + '/bert_query_by_question.json')\n",
        "\n",
        "bert_query_by_answer = r.get_bert_topk_preds(es_query_by_answer)\n",
        "dump_to_json(bert_query_by_answer, pred_output_path + '/bert_query_by_answer.json')\n",
        "\n",
        "bert_query_by_question_answer = r.get_bert_topk_preds(es_query_by_question_answer)\n",
        "dump_to_json(bert_query_by_question_answer, pred_output_path + '/bert_query_by_question_answer.json')\n",
        "\n",
        "bert_query_by_question_answer_concat = r.get_bert_topk_preds(es_query_by_question_answer_concat)\n",
        "dump_to_json(bert_query_by_question_answer_concat, pred_output_path + '/bert_query_by_question_answer_concat.json')"
      ],
      "execution_count": null,
      "outputs": [
        {
          "output_type": "stream",
          "text": [
            "2021-03-30 11:41:45 - Generating BERT top-k results ...\n",
            "2021-03-30 11:41:56 - Use pytorch device: cuda\n",
            "100%|██████████| 1183/1183 [14:40<00:00,  1.34it/s]\n",
            "2021-03-30 11:56:39 - Generating BERT top-k results ...\n",
            "2021-03-30 11:56:41 - Use pytorch device: cuda\n",
            "100%|██████████| 1183/1183 [16:46<00:00,  1.18it/s]\n",
            "2021-03-30 12:13:29 - Generating BERT top-k results ...\n",
            "2021-03-30 12:13:31 - Use pytorch device: cuda\n",
            "100%|██████████| 1183/1183 [15:55<00:00,  1.24it/s]\n",
            "2021-03-30 12:29:29 - Generating BERT top-k results ...\n",
            "2021-03-30 12:29:31 - Use pytorch device: cuda\n",
            "100%|██████████| 1183/1183 [15:39<00:00,  1.26it/s]\n"
          ],
          "name": "stderr"
        }
      ]
    },
    {
      "cell_type": "markdown",
      "metadata": {
        "id": "toLHtw4zugOk"
      },
      "source": [
        "**query_type=\"user_query\"; neg_type=\"simple\"; loss_type='softmax'**"
      ]
    },
    {
      "cell_type": "code",
      "metadata": {
        "id": "SBPKGt7ktRLQ"
      },
      "source": [
        "# define variables\n",
        "query_type=\"user_query\"; neg_type=\"simple\"; version=\"1.1\"; loss_type='softmax'\n",
        "bert_model_path='output/FAQIR/models/' + loss_type + '_' + neg_type + '_' + query_type + '_' + version"
      ],
      "execution_count": null,
      "outputs": []
    },
    {
      "cell_type": "code",
      "metadata": {
        "id": "8zMO_kPHtRBO"
      },
      "source": [
        "# create instance of ReRanker class\n",
        "r = ReRanker(\n",
        "    bert_model_path=bert_model_path, \n",
        "    test_queries=test_queries, relevance_label_df=relevance_label_df,\n",
        "    rank_field=rank_field\n",
        ")"
      ],
      "execution_count": null,
      "outputs": []
    },
    {
      "cell_type": "code",
      "metadata": {
        "id": "8vUWF6aUzmvS",
        "colab": {
          "base_uri": "https://localhost:8080/"
        },
        "outputId": "a0437cc2-35e5-4c35-b009-823e53eae670"
      },
      "source": [
        "# generate directory structure\n",
        "pred_output_path = output_path + \"/supervised/\" + rank_field + \"/\" + loss_type + \"/\" + query_type + \"/\" + neg_type\n",
        "make_dirs(pred_output_path)\n",
        "\n",
        "# next, generate BERT, Re-ranked top-k results and dump to files\n",
        "bert_query_by_question = r.get_bert_topk_preds(es_query_by_question)\n",
        "dump_to_json(bert_query_by_question, pred_output_path + '/bert_query_by_question.json')\n",
        "\n",
        "bert_query_by_answer = r.get_bert_topk_preds(es_query_by_answer)\n",
        "dump_to_json(bert_query_by_answer, pred_output_path + '/bert_query_by_answer.json')\n",
        "\n",
        "bert_query_by_question_answer = r.get_bert_topk_preds(es_query_by_question_answer)\n",
        "dump_to_json(bert_query_by_question_answer, pred_output_path + '/bert_query_by_question_answer.json')\n",
        "\n",
        "bert_query_by_question_answer_concat = r.get_bert_topk_preds(es_query_by_question_answer_concat)\n",
        "dump_to_json(bert_query_by_question_answer_concat, pred_output_path + '/bert_query_by_question_answer_concat.json')"
      ],
      "execution_count": null,
      "outputs": [
        {
          "output_type": "stream",
          "text": [
            "2021-03-30 12:45:14 - Generating BERT top-k results ...\n",
            "2021-03-30 12:45:22 - Use pytorch device: cuda\n",
            "100%|██████████| 1183/1183 [14:57<00:00,  1.32it/s]\n",
            "2021-03-30 13:00:22 - Generating BERT top-k results ...\n",
            "2021-03-30 13:00:24 - Use pytorch device: cuda\n",
            "100%|██████████| 1183/1183 [16:55<00:00,  1.17it/s]\n",
            "2021-03-30 13:17:22 - Generating BERT top-k results ...\n",
            "2021-03-30 13:17:24 - Use pytorch device: cuda\n",
            "100%|██████████| 1183/1183 [15:59<00:00,  1.23it/s]\n",
            "2021-03-30 13:33:25 - Generating BERT top-k results ...\n",
            "2021-03-30 13:33:27 - Use pytorch device: cuda\n",
            "100%|██████████| 1183/1183 [15:39<00:00,  1.26it/s]\n"
          ],
          "name": "stderr"
        }
      ]
    },
    {
      "cell_type": "markdown",
      "metadata": {
        "id": "lNDZBk_GvM1z"
      },
      "source": [
        "**query_type=\"faq\"; neg_type=\"hard\"; loss_type='softmax'**"
      ]
    },
    {
      "cell_type": "code",
      "metadata": {
        "id": "VmtGmXzrtQda"
      },
      "source": [
        "# define variables\n",
        "query_type=\"faq\"; neg_type=\"hard\"; version=\"1.1\"; loss_type='softmax'\n",
        "bert_model_path='output/FAQIR/models/' + loss_type + '_' + neg_type + '_' + query_type + '_' + version"
      ],
      "execution_count": null,
      "outputs": []
    },
    {
      "cell_type": "code",
      "metadata": {
        "id": "pzg0l8rEtQZh"
      },
      "source": [
        "# create instance of ReRanker class\n",
        "r = ReRanker(\n",
        "    bert_model_path=bert_model_path, \n",
        "    test_queries=test_queries, relevance_label_df=relevance_label_df,\n",
        "    rank_field=rank_field\n",
        ")"
      ],
      "execution_count": null,
      "outputs": []
    },
    {
      "cell_type": "code",
      "metadata": {
        "id": "7Q_F0a8Qzon2",
        "colab": {
          "base_uri": "https://localhost:8080/"
        },
        "outputId": "373c2e29-ed00-4353-b751-9b5979389a45"
      },
      "source": [
        "# generate directory structure\n",
        "pred_output_path = output_path + \"/supervised/\" + rank_field + \"/\" + loss_type + \"/\" + query_type + \"/\" + neg_type\n",
        "make_dirs(pred_output_path)\n",
        "\n",
        "# next, generate BERT, Re-ranked top-k results and dump to files\n",
        "bert_query_by_question = r.get_bert_topk_preds(es_query_by_question)\n",
        "dump_to_json(bert_query_by_question, pred_output_path + '/bert_query_by_question.json')\n",
        "\n",
        "bert_query_by_answer = r.get_bert_topk_preds(es_query_by_answer)\n",
        "dump_to_json(bert_query_by_answer, pred_output_path + '/bert_query_by_answer.json')\n",
        "\n",
        "bert_query_by_question_answer = r.get_bert_topk_preds(es_query_by_question_answer)\n",
        "dump_to_json(bert_query_by_question_answer, pred_output_path + '/bert_query_by_question_answer.json')\n",
        "\n",
        "bert_query_by_question_answer_concat = r.get_bert_topk_preds(es_query_by_question_answer_concat)\n",
        "dump_to_json(bert_query_by_question_answer_concat, pred_output_path + '/bert_query_by_question_answer_concat.json')"
      ],
      "execution_count": null,
      "outputs": [
        {
          "output_type": "stream",
          "text": [
            "2021-03-30 13:49:09 - Generating BERT top-k results ...\n",
            "2021-03-30 13:49:19 - Use pytorch device: cuda\n",
            "100%|██████████| 1183/1183 [14:49<00:00,  1.33it/s]\n",
            "2021-03-30 14:04:11 - Generating BERT top-k results ...\n",
            "2021-03-30 14:04:13 - Use pytorch device: cuda\n",
            "100%|██████████| 1183/1183 [16:55<00:00,  1.17it/s]\n",
            "2021-03-30 14:21:11 - Generating BERT top-k results ...\n",
            "2021-03-30 14:21:13 - Use pytorch device: cuda\n",
            "100%|██████████| 1183/1183 [16:02<00:00,  1.23it/s]\n",
            "2021-03-30 14:37:18 - Generating BERT top-k results ...\n",
            "2021-03-30 14:37:20 - Use pytorch device: cuda\n",
            "100%|██████████| 1183/1183 [15:43<00:00,  1.25it/s]\n"
          ],
          "name": "stderr"
        }
      ]
    },
    {
      "cell_type": "markdown",
      "metadata": {
        "id": "o2EgbhAkvgUc"
      },
      "source": [
        "**query_type=\"faq\"; neg_type=\"simple\"; loss_type='softmax'**"
      ]
    },
    {
      "cell_type": "code",
      "metadata": {
        "id": "4tUfy5fOtP2M"
      },
      "source": [
        "# define variables\n",
        "query_type=\"faq\"; neg_type=\"simple\"; version=\"1.1\"; loss_type='softmax'\n",
        "bert_model_path='output/FAQIR/models/' + loss_type + '_' + neg_type + '_' + query_type + '_' + version"
      ],
      "execution_count": null,
      "outputs": []
    },
    {
      "cell_type": "code",
      "metadata": {
        "id": "x94VfKuitPva"
      },
      "source": [
        "# create instance of ReRanker class\n",
        "r = ReRanker(\n",
        "    bert_model_path=bert_model_path, \n",
        "    test_queries=test_queries, relevance_label_df=relevance_label_df,\n",
        "    rank_field=rank_field\n",
        ")"
      ],
      "execution_count": null,
      "outputs": []
    },
    {
      "cell_type": "code",
      "metadata": {
        "id": "PzcVcYUwzqLm",
        "colab": {
          "base_uri": "https://localhost:8080/"
        },
        "outputId": "0f6b9d55-4d38-4bcb-e67a-54436dce3fec"
      },
      "source": [
        "# generate directory structure\n",
        "pred_output_path = output_path + \"/supervised/\" + rank_field + \"/\" + loss_type + \"/\" + query_type + \"/\" + neg_type\n",
        "make_dirs(pred_output_path)\n",
        "\n",
        "# next, generate BERT, Re-ranked top-k results and dump to files\n",
        "bert_query_by_question = r.get_bert_topk_preds(es_query_by_question)\n",
        "dump_to_json(bert_query_by_question, pred_output_path + '/bert_query_by_question.json')\n",
        "\n",
        "bert_query_by_answer = r.get_bert_topk_preds(es_query_by_answer)\n",
        "dump_to_json(bert_query_by_answer, pred_output_path + '/bert_query_by_answer.json')\n",
        "\n",
        "bert_query_by_question_answer = r.get_bert_topk_preds(es_query_by_question_answer)\n",
        "dump_to_json(bert_query_by_question_answer, pred_output_path + '/bert_query_by_question_answer.json')\n",
        "\n",
        "bert_query_by_question_answer_concat = r.get_bert_topk_preds(es_query_by_question_answer_concat)\n",
        "dump_to_json(bert_query_by_question_answer_concat, pred_output_path + '/bert_query_by_question_answer_concat.json')"
      ],
      "execution_count": null,
      "outputs": [
        {
          "output_type": "stream",
          "text": [
            "2021-03-30 14:53:06 - Generating BERT top-k results ...\n",
            "2021-03-30 14:53:20 - Use pytorch device: cuda\n",
            "100%|██████████| 1183/1183 [14:54<00:00,  1.32it/s]\n",
            "2021-03-30 15:08:17 - Generating BERT top-k results ...\n",
            "2021-03-30 15:08:19 - Use pytorch device: cuda\n",
            "100%|██████████| 1183/1183 [16:54<00:00,  1.17it/s]\n",
            "2021-03-30 15:25:17 - Generating BERT top-k results ...\n",
            "2021-03-30 15:25:18 - Use pytorch device: cuda\n",
            "100%|██████████| 1183/1183 [16:04<00:00,  1.23it/s]\n",
            "2021-03-30 15:41:26 - Generating BERT top-k results ...\n",
            "2021-03-30 15:41:28 - Use pytorch device: cuda\n",
            "100%|██████████| 1183/1183 [15:37<00:00,  1.26it/s]\n"
          ],
          "name": "stderr"
        }
      ]
    },
    {
      "cell_type": "markdown",
      "metadata": {
        "id": "IRyZyUa9kTKP"
      },
      "source": [
        "**2. Generating BERT prediction results from Question (BERT-Q-q)\"**\n"
      ]
    },
    {
      "cell_type": "code",
      "metadata": {
        "id": "JYQ_Ixk4kZp6"
      },
      "source": [
        "# define rank_field parameter\n",
        "rank_field=\"BERT-Q-q\""
      ],
      "execution_count": 12,
      "outputs": []
    },
    {
      "cell_type": "markdown",
      "metadata": {
        "id": "EZXbr22mlcPA"
      },
      "source": [
        "**query_type=\"user_query\"; neg_type=\"hard\"; loss_type='triplet'**"
      ]
    },
    {
      "cell_type": "code",
      "metadata": {
        "id": "GkAAGDUrlWKr"
      },
      "source": [
        "# define variables\n",
        "query_type=\"user_query\"; neg_type=\"hard\"; version=\"1.1\"; loss_type='triplet'\n",
        "bert_model_path='output/FAQIR/models/' + loss_type + '_' + neg_type + '_' + query_type + '_' + version"
      ],
      "execution_count": null,
      "outputs": []
    },
    {
      "cell_type": "code",
      "metadata": {
        "id": "xXmZkX1mlWDG"
      },
      "source": [
        "# create instance of ReRanker class\n",
        "r = ReRanker(\n",
        "    bert_model_path=bert_model_path, \n",
        "    test_queries=test_queries, relevance_label_df=relevance_label_df,\n",
        "    rank_field=rank_field\n",
        ")"
      ],
      "execution_count": null,
      "outputs": []
    },
    {
      "cell_type": "code",
      "metadata": {
        "id": "47GyLe1BlV7l",
        "colab": {
          "base_uri": "https://localhost:8080/"
        },
        "outputId": "b768f556-cfc4-4db1-b06c-ffb5e2488912"
      },
      "source": [
        "# generate directory structure\n",
        "pred_output_path = output_path + \"/supervised/\" + rank_field + \"/\" + loss_type + \"/\" + query_type + \"/\" + neg_type\n",
        "make_dirs(pred_output_path)\n",
        "\n",
        "# next, generate BERT, Re-ranked top-k results and dump to files\n",
        "bert_query_by_question = r.get_bert_topk_preds(es_query_by_question)\n",
        "dump_to_json(bert_query_by_question, pred_output_path + '/bert_query_by_question.json')\n",
        "\n",
        "bert_query_by_answer = r.get_bert_topk_preds(es_query_by_answer)\n",
        "dump_to_json(bert_query_by_answer, pred_output_path + '/bert_query_by_answer.json')\n",
        "\n",
        "bert_query_by_question_answer = r.get_bert_topk_preds(es_query_by_question_answer)\n",
        "dump_to_json(bert_query_by_question_answer, pred_output_path + '/bert_query_by_question_answer.json')\n",
        "\n",
        "bert_query_by_question_answer_concat = r.get_bert_topk_preds(es_query_by_question_answer_concat)\n",
        "dump_to_json(bert_query_by_question_answer_concat, pred_output_path + '/bert_query_by_question_answer_concat.json')"
      ],
      "execution_count": null,
      "outputs": [
        {
          "output_type": "stream",
          "text": [
            "2021-03-30 15:57:08 - Generating BERT top-k results ...\n",
            "2021-03-30 15:57:08 - Load pretrained SentenceTransformer: output/FAQIR/models/triplet_hard_user_query_1.1\n",
            "2021-03-30 15:57:08 - Load SentenceTransformer from folder: output/FAQIR/models/triplet_hard_user_query_1.1\n",
            "2021-03-30 15:57:16 - Use pytorch device: cuda\n",
            "100%|██████████| 1183/1183 [13:49<00:00,  1.43it/s]\n",
            "2021-03-30 16:11:08 - Generating BERT top-k results ...\n",
            "2021-03-30 16:11:08 - Load pretrained SentenceTransformer: output/FAQIR/models/triplet_hard_user_query_1.1\n",
            "2021-03-30 16:11:08 - Load SentenceTransformer from folder: output/FAQIR/models/triplet_hard_user_query_1.1\n",
            "2021-03-30 16:11:10 - Use pytorch device: cuda\n",
            "100%|██████████| 1183/1183 [13:39<00:00,  1.44it/s]\n",
            "2021-03-30 16:24:52 - Generating BERT top-k results ...\n",
            "2021-03-30 16:24:52 - Load pretrained SentenceTransformer: output/FAQIR/models/triplet_hard_user_query_1.1\n",
            "2021-03-30 16:24:52 - Load SentenceTransformer from folder: output/FAQIR/models/triplet_hard_user_query_1.1\n",
            "2021-03-30 16:24:54 - Use pytorch device: cuda\n",
            "100%|██████████| 1183/1183 [13:42<00:00,  1.44it/s]\n",
            "2021-03-30 16:38:39 - Generating BERT top-k results ...\n",
            "2021-03-30 16:38:39 - Load pretrained SentenceTransformer: output/FAQIR/models/triplet_hard_user_query_1.1\n",
            "2021-03-30 16:38:39 - Load SentenceTransformer from folder: output/FAQIR/models/triplet_hard_user_query_1.1\n",
            "2021-03-30 16:38:40 - Use pytorch device: cuda\n",
            "100%|██████████| 1183/1183 [13:46<00:00,  1.43it/s]\n"
          ],
          "name": "stderr"
        }
      ]
    },
    {
      "cell_type": "markdown",
      "metadata": {
        "id": "tM5qc6jrl1DE"
      },
      "source": [
        "**query_type=\"user_query\"; neg_type=\"simple\"; loss_type='triplet'**"
      ]
    },
    {
      "cell_type": "code",
      "metadata": {
        "id": "uW6EmCdAlVzK"
      },
      "source": [
        "# define variables\n",
        "query_type=\"user_query\"; neg_type=\"simple\"; version=\"1.1\"; loss_type='triplet'\n",
        "bert_model_path='output/FAQIR/models/' + loss_type + '_' + neg_type + '_' + query_type + '_' + version"
      ],
      "execution_count": null,
      "outputs": []
    },
    {
      "cell_type": "code",
      "metadata": {
        "id": "z6poNdx0lVrh"
      },
      "source": [
        "# create instance of ReRanker class\n",
        "r = ReRanker(\n",
        "    bert_model_path=bert_model_path, \n",
        "    test_queries=test_queries, relevance_label_df=relevance_label_df,\n",
        "    rank_field=rank_field\n",
        ")"
      ],
      "execution_count": null,
      "outputs": []
    },
    {
      "cell_type": "code",
      "metadata": {
        "id": "kOJ8nTMslVkJ",
        "colab": {
          "base_uri": "https://localhost:8080/"
        },
        "outputId": "606e80eb-dbb3-4a71-bf84-d3931dca1911"
      },
      "source": [
        "# generate directory structure\n",
        "pred_output_path = output_path + \"/supervised/\" + rank_field + \"/\" + loss_type + \"/\" + query_type + \"/\" + neg_type\n",
        "make_dirs(pred_output_path)\n",
        "\n",
        "# next, generate BERT, Re-ranked top-k results and dump to files\n",
        "bert_query_by_question = r.get_bert_topk_preds(es_query_by_question)\n",
        "dump_to_json(bert_query_by_question, pred_output_path + '/bert_query_by_question.json')\n",
        "\n",
        "bert_query_by_answer = r.get_bert_topk_preds(es_query_by_answer)\n",
        "dump_to_json(bert_query_by_answer, pred_output_path + '/bert_query_by_answer.json')\n",
        "\n",
        "bert_query_by_question_answer = r.get_bert_topk_preds(es_query_by_question_answer)\n",
        "dump_to_json(bert_query_by_question_answer, pred_output_path + '/bert_query_by_question_answer.json')\n",
        "\n",
        "bert_query_by_question_answer_concat = r.get_bert_topk_preds(es_query_by_question_answer_concat)\n",
        "dump_to_json(bert_query_by_question_answer_concat, pred_output_path + '/bert_query_by_question_answer_concat.json')"
      ],
      "execution_count": null,
      "outputs": [
        {
          "output_type": "stream",
          "text": [
            "2021-03-30 16:52:29 - Generating BERT top-k results ...\n",
            "2021-03-30 16:52:29 - Load pretrained SentenceTransformer: output/FAQIR/models/triplet_simple_user_query_1.1\n",
            "2021-03-30 16:52:29 - Load SentenceTransformer from folder: output/FAQIR/models/triplet_simple_user_query_1.1\n",
            "2021-03-30 16:52:30 - Use pytorch device: cuda\n",
            "100%|██████████| 1183/1183 [13:50<00:00,  1.42it/s]\n",
            "2021-03-30 17:06:23 - Generating BERT top-k results ...\n",
            "2021-03-30 17:06:23 - Load pretrained SentenceTransformer: output/FAQIR/models/triplet_simple_user_query_1.1\n",
            "2021-03-30 17:06:23 - Load SentenceTransformer from folder: output/FAQIR/models/triplet_simple_user_query_1.1\n",
            "2021-03-30 17:06:25 - Use pytorch device: cuda\n",
            "100%|██████████| 1183/1183 [14:00<00:00,  1.41it/s]\n",
            "2021-03-30 17:20:27 - Generating BERT top-k results ...\n",
            "2021-03-30 17:20:28 - Load pretrained SentenceTransformer: output/FAQIR/models/triplet_simple_user_query_1.1\n",
            "2021-03-30 17:20:28 - Load SentenceTransformer from folder: output/FAQIR/models/triplet_simple_user_query_1.1\n",
            "2021-03-30 17:20:29 - Use pytorch device: cuda\n",
            "100%|██████████| 1183/1183 [14:09<00:00,  1.39it/s]\n",
            "2021-03-30 17:34:40 - Generating BERT top-k results ...\n",
            "2021-03-30 17:34:40 - Load pretrained SentenceTransformer: output/FAQIR/models/triplet_simple_user_query_1.1\n",
            "2021-03-30 17:34:40 - Load SentenceTransformer from folder: output/FAQIR/models/triplet_simple_user_query_1.1\n",
            "2021-03-30 17:34:42 - Use pytorch device: cuda\n",
            "100%|██████████| 1183/1183 [14:00<00:00,  1.41it/s]\n"
          ],
          "name": "stderr"
        }
      ]
    },
    {
      "cell_type": "markdown",
      "metadata": {
        "id": "YycMuPkZoHSJ"
      },
      "source": [
        "**query_type=\"faq\"; neg_type=\"hard\"; loss_type='triplet'**"
      ]
    },
    {
      "cell_type": "code",
      "metadata": {
        "id": "1V5_byZblVT0"
      },
      "source": [
        "# define variables\n",
        "query_type=\"faq\"; neg_type=\"hard\"; version=\"1.1\"; loss_type='triplet'\n",
        "bert_model_path='output/FAQIR/models/' + loss_type + '_' + neg_type + '_' + query_type + '_' + version"
      ],
      "execution_count": 13,
      "outputs": []
    },
    {
      "cell_type": "code",
      "metadata": {
        "id": "leu15hKDlVMo"
      },
      "source": [
        "# create instance of ReRanker class\n",
        "r = ReRanker(\n",
        "    bert_model_path=bert_model_path, \n",
        "    test_queries=test_queries, relevance_label_df=relevance_label_df,\n",
        "    rank_field=rank_field\n",
        ")"
      ],
      "execution_count": 14,
      "outputs": []
    },
    {
      "cell_type": "code",
      "metadata": {
        "id": "LDdzleOUlVFB",
        "colab": {
          "base_uri": "https://localhost:8080/"
        },
        "outputId": "a4c7e506-fe18-4b0b-fc58-ba116a2a3319"
      },
      "source": [
        "# generate directory structure\n",
        "pred_output_path = output_path + \"/supervised/\" + rank_field + \"/\" + loss_type + \"/\" + query_type + \"/\" + neg_type\n",
        "make_dirs(pred_output_path)\n",
        "\n",
        "# next, generate BERT, Re-ranked top-k results and dump to files\n",
        "bert_query_by_question = r.get_bert_topk_preds(es_query_by_question)\n",
        "dump_to_json(bert_query_by_question, pred_output_path + '/bert_query_by_question.json')\n",
        "\n",
        "bert_query_by_answer = r.get_bert_topk_preds(es_query_by_answer)\n",
        "dump_to_json(bert_query_by_answer, pred_output_path + '/bert_query_by_answer.json')\n",
        "\n",
        "bert_query_by_question_answer = r.get_bert_topk_preds(es_query_by_question_answer)\n",
        "dump_to_json(bert_query_by_question_answer, pred_output_path + '/bert_query_by_question_answer.json')\n",
        "\n",
        "bert_query_by_question_answer_concat = r.get_bert_topk_preds(es_query_by_question_answer_concat)\n",
        "dump_to_json(bert_query_by_question_answer_concat, pred_output_path + '/bert_query_by_question_answer_concat.json')"
      ],
      "execution_count": 15,
      "outputs": [
        {
          "output_type": "stream",
          "text": [
            "2021-03-31 05:21:57 - Generating BERT top-k results ...\n",
            "2021-03-31 05:21:58 - Load pretrained SentenceTransformer: output/FAQIR/models/triplet_hard_faq_1.1\n",
            "2021-03-31 05:21:58 - Load SentenceTransformer from folder: output/FAQIR/models/triplet_hard_faq_1.1\n",
            "2021-03-31 05:22:07 - Use pytorch device: cuda\n",
            "100%|██████████| 1183/1183 [14:14<00:00,  1.38it/s]\n",
            "2021-03-31 05:36:24 - Generating BERT top-k results ...\n",
            "2021-03-31 05:36:24 - Load pretrained SentenceTransformer: output/FAQIR/models/triplet_hard_faq_1.1\n",
            "2021-03-31 05:36:24 - Load SentenceTransformer from folder: output/FAQIR/models/triplet_hard_faq_1.1\n",
            "2021-03-31 05:36:25 - Use pytorch device: cuda\n",
            "100%|██████████| 1183/1183 [13:29<00:00,  1.46it/s]\n",
            "2021-03-31 05:49:57 - Generating BERT top-k results ...\n",
            "2021-03-31 05:49:57 - Load pretrained SentenceTransformer: output/FAQIR/models/triplet_hard_faq_1.1\n",
            "2021-03-31 05:49:57 - Load SentenceTransformer from folder: output/FAQIR/models/triplet_hard_faq_1.1\n",
            "2021-03-31 05:49:58 - Use pytorch device: cuda\n",
            "100%|██████████| 1183/1183 [13:32<00:00,  1.46it/s]\n",
            "2021-03-31 06:03:33 - Generating BERT top-k results ...\n",
            "2021-03-31 06:03:33 - Load pretrained SentenceTransformer: output/FAQIR/models/triplet_hard_faq_1.1\n",
            "2021-03-31 06:03:33 - Load SentenceTransformer from folder: output/FAQIR/models/triplet_hard_faq_1.1\n",
            "2021-03-31 06:03:34 - Use pytorch device: cuda\n",
            "100%|██████████| 1183/1183 [13:31<00:00,  1.46it/s]\n"
          ],
          "name": "stderr"
        }
      ]
    },
    {
      "cell_type": "markdown",
      "metadata": {
        "id": "ugHFLDp3oLKm"
      },
      "source": [
        "**query_type=\"faq\"; neg_type=\"simple\"; loss_type='triplet'**"
      ]
    },
    {
      "cell_type": "code",
      "metadata": {
        "id": "0eEmYNyYlU5h"
      },
      "source": [
        "# define variables\n",
        "query_type=\"faq\"; neg_type=\"simple\"; version=\"1.1\"; loss_type='triplet'\n",
        "bert_model_path='output/FAQIR/models/' + loss_type + '_' + neg_type + '_' + query_type + '_' + version"
      ],
      "execution_count": 16,
      "outputs": []
    },
    {
      "cell_type": "code",
      "metadata": {
        "id": "eZhB3zuSlUyb"
      },
      "source": [
        "# create instance of ReRanker class\n",
        "r = ReRanker(\n",
        "    bert_model_path=bert_model_path, \n",
        "    test_queries=test_queries, relevance_label_df=relevance_label_df,\n",
        "    rank_field=rank_field\n",
        ")"
      ],
      "execution_count": 17,
      "outputs": []
    },
    {
      "cell_type": "code",
      "metadata": {
        "id": "Qee6WH2blUqi",
        "colab": {
          "base_uri": "https://localhost:8080/"
        },
        "outputId": "e6c50662-c354-40de-b531-d77ba4da4c3d"
      },
      "source": [
        "# generate directory structure\n",
        "pred_output_path = output_path + \"/supervised/\" + rank_field + \"/\" + loss_type + \"/\" + query_type + \"/\" + neg_type\n",
        "make_dirs(pred_output_path)\n",
        "\n",
        "# next, generate BERT, Re-ranked top-k results and dump to files\n",
        "bert_query_by_question = r.get_bert_topk_preds(es_query_by_question)\n",
        "dump_to_json(bert_query_by_question, pred_output_path + '/bert_query_by_question.json')\n",
        "\n",
        "bert_query_by_answer = r.get_bert_topk_preds(es_query_by_answer)\n",
        "dump_to_json(bert_query_by_answer, pred_output_path + '/bert_query_by_answer.json')\n",
        "\n",
        "bert_query_by_question_answer = r.get_bert_topk_preds(es_query_by_question_answer)\n",
        "dump_to_json(bert_query_by_question_answer, pred_output_path + '/bert_query_by_question_answer.json')\n",
        "\n",
        "bert_query_by_question_answer_concat = r.get_bert_topk_preds(es_query_by_question_answer_concat)\n",
        "dump_to_json(bert_query_by_question_answer_concat, pred_output_path + '/bert_query_by_question_answer_concat.json')"
      ],
      "execution_count": 18,
      "outputs": [
        {
          "output_type": "stream",
          "text": [
            "2021-03-31 06:17:08 - Generating BERT top-k results ...\n",
            "2021-03-31 06:17:08 - Load pretrained SentenceTransformer: output/FAQIR/models/triplet_simple_faq_1.1\n",
            "2021-03-31 06:17:08 - Load SentenceTransformer from folder: output/FAQIR/models/triplet_simple_faq_1.1\n",
            "2021-03-31 06:17:16 - Use pytorch device: cuda\n",
            "100%|██████████| 1183/1183 [13:29<00:00,  1.46it/s]\n",
            "2021-03-31 06:30:48 - Generating BERT top-k results ...\n",
            "2021-03-31 06:30:48 - Load pretrained SentenceTransformer: output/FAQIR/models/triplet_simple_faq_1.1\n",
            "2021-03-31 06:30:48 - Load SentenceTransformer from folder: output/FAQIR/models/triplet_simple_faq_1.1\n",
            "2021-03-31 06:30:49 - Use pytorch device: cuda\n",
            "100%|██████████| 1183/1183 [13:28<00:00,  1.46it/s]\n",
            "2021-03-31 06:44:20 - Generating BERT top-k results ...\n",
            "2021-03-31 06:44:20 - Load pretrained SentenceTransformer: output/FAQIR/models/triplet_simple_faq_1.1\n",
            "2021-03-31 06:44:20 - Load SentenceTransformer from folder: output/FAQIR/models/triplet_simple_faq_1.1\n",
            "2021-03-31 06:44:21 - Use pytorch device: cuda\n",
            "100%|██████████| 1183/1183 [13:31<00:00,  1.46it/s]\n",
            "2021-03-31 06:57:55 - Generating BERT top-k results ...\n",
            "2021-03-31 06:57:55 - Load pretrained SentenceTransformer: output/FAQIR/models/triplet_simple_faq_1.1\n",
            "2021-03-31 06:57:55 - Load SentenceTransformer from folder: output/FAQIR/models/triplet_simple_faq_1.1\n",
            "2021-03-31 06:57:57 - Use pytorch device: cuda\n",
            "100%|██████████| 1183/1183 [13:31<00:00,  1.46it/s]\n"
          ],
          "name": "stderr"
        }
      ]
    },
    {
      "cell_type": "markdown",
      "metadata": {
        "id": "DqE2Blb3oPw1"
      },
      "source": [
        "**query_type=\"user_query\"; neg_type=\"hard\"; loss_type='softmax'**"
      ]
    },
    {
      "cell_type": "code",
      "metadata": {
        "id": "C8noZJecmltk"
      },
      "source": [
        "# define variables\n",
        "query_type=\"user_query\"; neg_type=\"hard\"; version=\"1.1\"; loss_type='softmax'\n",
        "bert_model_path='output/FAQIR/models/' + loss_type + '_' + neg_type + '_' + query_type + '_' + version"
      ],
      "execution_count": 19,
      "outputs": []
    },
    {
      "cell_type": "code",
      "metadata": {
        "id": "U_iwsKK6mljZ"
      },
      "source": [
        "# create instance of ReRanker class\n",
        "r = ReRanker(\n",
        "    bert_model_path=bert_model_path, \n",
        "    test_queries=test_queries, relevance_label_df=relevance_label_df,\n",
        "    rank_field=rank_field\n",
        ")"
      ],
      "execution_count": 20,
      "outputs": []
    },
    {
      "cell_type": "code",
      "metadata": {
        "id": "kkfY7SAAmlZy",
        "colab": {
          "base_uri": "https://localhost:8080/"
        },
        "outputId": "cd203462-b8e5-42f8-a296-118404db58f0"
      },
      "source": [
        "# generate directory structure\n",
        "pred_output_path = output_path + \"/supervised/\" + rank_field + \"/\" + loss_type + \"/\" + query_type + \"/\" + neg_type\n",
        "make_dirs(pred_output_path)\n",
        "\n",
        "# next, generate BERT, Re-ranked top-k results and dump to files\n",
        "bert_query_by_question = r.get_bert_topk_preds(es_query_by_question)\n",
        "dump_to_json(bert_query_by_question, pred_output_path + '/bert_query_by_question.json')\n",
        "\n",
        "bert_query_by_answer = r.get_bert_topk_preds(es_query_by_answer)\n",
        "dump_to_json(bert_query_by_answer, pred_output_path + '/bert_query_by_answer.json')\n",
        "\n",
        "bert_query_by_question_answer = r.get_bert_topk_preds(es_query_by_question_answer)\n",
        "dump_to_json(bert_query_by_question_answer, pred_output_path + '/bert_query_by_question_answer.json')\n",
        "\n",
        "bert_query_by_question_answer_concat = r.get_bert_topk_preds(es_query_by_question_answer_concat)\n",
        "dump_to_json(bert_query_by_question_answer_concat, pred_output_path + '/bert_query_by_question_answer_concat.json')"
      ],
      "execution_count": 21,
      "outputs": [
        {
          "output_type": "stream",
          "text": [
            "2021-03-31 07:11:32 - Generating BERT top-k results ...\n",
            "2021-03-31 07:11:53 - Use pytorch device: cuda\n",
            "100%|██████████| 1183/1183 [12:52<00:00,  1.53it/s]\n",
            "2021-03-31 07:24:48 - Generating BERT top-k results ...\n",
            "2021-03-31 07:24:50 - Use pytorch device: cuda\n",
            "100%|██████████| 1183/1183 [12:52<00:00,  1.53it/s]\n",
            "2021-03-31 07:37:45 - Generating BERT top-k results ...\n",
            "2021-03-31 07:37:47 - Use pytorch device: cuda\n",
            "100%|██████████| 1183/1183 [12:53<00:00,  1.53it/s]\n",
            "2021-03-31 07:50:43 - Generating BERT top-k results ...\n",
            "2021-03-31 07:50:45 - Use pytorch device: cuda\n",
            "100%|██████████| 1183/1183 [12:55<00:00,  1.53it/s]\n"
          ],
          "name": "stderr"
        }
      ]
    },
    {
      "cell_type": "markdown",
      "metadata": {
        "id": "0lO2b2wxoUWS"
      },
      "source": [
        "**query_type=\"user_query\"; neg_type=\"simple\"; loss_type='softmax'**"
      ]
    },
    {
      "cell_type": "code",
      "metadata": {
        "id": "lctMrtS0mlHO"
      },
      "source": [
        "# define variables\n",
        "query_type=\"user_query\"; neg_type=\"simple\"; version=\"1.1\"; loss_type='softmax'\n",
        "bert_model_path='output/FAQIR/models/' + loss_type + '_' + neg_type + '_' + query_type + '_' + version"
      ],
      "execution_count": 22,
      "outputs": []
    },
    {
      "cell_type": "code",
      "metadata": {
        "id": "H-NvD-Sgmk9l"
      },
      "source": [
        "# create instance of ReRanker class\n",
        "r = ReRanker(\n",
        "    bert_model_path=bert_model_path, \n",
        "    test_queries=test_queries, relevance_label_df=relevance_label_df,\n",
        "    rank_field=rank_field\n",
        ")"
      ],
      "execution_count": 23,
      "outputs": []
    },
    {
      "cell_type": "code",
      "metadata": {
        "id": "8sIIkgKhmk4C",
        "colab": {
          "base_uri": "https://localhost:8080/"
        },
        "outputId": "870992ad-dbb8-43b5-ce89-5c9e96d6d936"
      },
      "source": [
        "# generate directory structure\n",
        "pred_output_path = output_path + \"/supervised/\" + rank_field + \"/\" + loss_type + \"/\" + query_type + \"/\" + neg_type\n",
        "make_dirs(pred_output_path)\n",
        "\n",
        "# next, generate BERT, Re-ranked top-k results and dump to files\n",
        "bert_query_by_question = r.get_bert_topk_preds(es_query_by_question)\n",
        "dump_to_json(bert_query_by_question, pred_output_path + '/bert_query_by_question.json')\n",
        "\n",
        "bert_query_by_answer = r.get_bert_topk_preds(es_query_by_answer)\n",
        "dump_to_json(bert_query_by_answer, pred_output_path + '/bert_query_by_answer.json')\n",
        "\n",
        "bert_query_by_question_answer = r.get_bert_topk_preds(es_query_by_question_answer)\n",
        "dump_to_json(bert_query_by_question_answer, pred_output_path + '/bert_query_by_question_answer.json')\n",
        "\n",
        "bert_query_by_question_answer_concat = r.get_bert_topk_preds(es_query_by_question_answer_concat)\n",
        "dump_to_json(bert_query_by_question_answer_concat, pred_output_path + '/bert_query_by_question_answer_concat.json')"
      ],
      "execution_count": 24,
      "outputs": [
        {
          "output_type": "stream",
          "text": [
            "2021-03-31 08:03:42 - Generating BERT top-k results ...\n",
            "2021-03-31 08:03:52 - Use pytorch device: cuda\n",
            "100%|██████████| 1183/1183 [12:57<00:00,  1.52it/s]\n",
            "2021-03-31 08:16:52 - Generating BERT top-k results ...\n",
            "2021-03-31 08:16:54 - Use pytorch device: cuda\n",
            "100%|██████████| 1183/1183 [12:50<00:00,  1.54it/s]\n",
            "2021-03-31 08:29:47 - Generating BERT top-k results ...\n",
            "2021-03-31 08:29:49 - Use pytorch device: cuda\n",
            "100%|██████████| 1183/1183 [12:49<00:00,  1.54it/s]\n",
            "2021-03-31 08:42:40 - Generating BERT top-k results ...\n",
            "2021-03-31 08:42:42 - Use pytorch device: cuda\n",
            "100%|██████████| 1183/1183 [12:47<00:00,  1.54it/s]\n"
          ],
          "name": "stderr"
        }
      ]
    },
    {
      "cell_type": "markdown",
      "metadata": {
        "id": "hcXgJnWboXMy"
      },
      "source": [
        "**query_type=\"faq\"; neg_type=\"hard\"; loss_type='softmax'**"
      ]
    },
    {
      "cell_type": "code",
      "metadata": {
        "id": "uU_9X36LnNNi"
      },
      "source": [
        "# define variables\n",
        "query_type=\"faq\"; neg_type=\"hard\"; version=\"1.1\"; loss_type='softmax'\n",
        "bert_model_path='output/FAQIR/models/' + loss_type + '_' + neg_type + '_' + query_type + '_' + version"
      ],
      "execution_count": 25,
      "outputs": []
    },
    {
      "cell_type": "code",
      "metadata": {
        "id": "KdUQo5RznNCE"
      },
      "source": [
        "# create instance of ReRanker class\n",
        "r = ReRanker(\n",
        "    bert_model_path=bert_model_path, \n",
        "    test_queries=test_queries, relevance_label_df=relevance_label_df,\n",
        "    rank_field=rank_field\n",
        ")"
      ],
      "execution_count": 26,
      "outputs": []
    },
    {
      "cell_type": "code",
      "metadata": {
        "id": "vjDLglyJnM28",
        "colab": {
          "base_uri": "https://localhost:8080/"
        },
        "outputId": "c23eea1e-8a5f-4ffa-efd2-f5aba8aa443d"
      },
      "source": [
        "# generate directory structure\n",
        "pred_output_path = output_path + \"/supervised/\" + rank_field + \"/\" + loss_type + \"/\" + query_type + \"/\" + neg_type\n",
        "make_dirs(pred_output_path)\n",
        "\n",
        "# next, generate BERT, Re-ranked top-k results and dump to files\n",
        "bert_query_by_question = r.get_bert_topk_preds(es_query_by_question)\n",
        "dump_to_json(bert_query_by_question, pred_output_path + '/bert_query_by_question.json')\n",
        "\n",
        "bert_query_by_answer = r.get_bert_topk_preds(es_query_by_answer)\n",
        "dump_to_json(bert_query_by_answer, pred_output_path + '/bert_query_by_answer.json')\n",
        "\n",
        "bert_query_by_question_answer = r.get_bert_topk_preds(es_query_by_question_answer)\n",
        "dump_to_json(bert_query_by_question_answer, pred_output_path + '/bert_query_by_question_answer.json')\n",
        "\n",
        "bert_query_by_question_answer_concat = r.get_bert_topk_preds(es_query_by_question_answer_concat)\n",
        "dump_to_json(bert_query_by_question_answer_concat, pred_output_path + '/bert_query_by_question_answer_concat.json')"
      ],
      "execution_count": 27,
      "outputs": [
        {
          "output_type": "stream",
          "text": [
            "2021-03-31 08:55:32 - Generating BERT top-k results ...\n",
            "2021-03-31 08:55:43 - Use pytorch device: cuda\n",
            "100%|██████████| 1183/1183 [12:46<00:00,  1.54it/s]\n",
            "2021-03-31 09:08:32 - Generating BERT top-k results ...\n",
            "2021-03-31 09:08:34 - Use pytorch device: cuda\n",
            "100%|██████████| 1183/1183 [12:48<00:00,  1.54it/s]\n",
            "2021-03-31 09:21:25 - Generating BERT top-k results ...\n",
            "2021-03-31 09:21:27 - Use pytorch device: cuda\n",
            "100%|██████████| 1183/1183 [12:47<00:00,  1.54it/s]\n",
            "2021-03-31 09:34:17 - Generating BERT top-k results ...\n",
            "2021-03-31 09:34:19 - Use pytorch device: cuda\n",
            "100%|██████████| 1183/1183 [12:46<00:00,  1.54it/s]\n"
          ],
          "name": "stderr"
        }
      ]
    },
    {
      "cell_type": "markdown",
      "metadata": {
        "id": "ZubZiiwqobdT"
      },
      "source": [
        "**query_type=\"faq\"; neg_type=\"simple\"; loss_type='softmax'**"
      ]
    },
    {
      "cell_type": "code",
      "metadata": {
        "id": "aEoVIgvQnMf-"
      },
      "source": [
        "# define variables\n",
        "query_type=\"faq\"; neg_type=\"simple\"; version=\"1.1\"; loss_type='softmax'\n",
        "bert_model_path='output/FAQIR/models/' + loss_type + '_' + neg_type + '_' + query_type + '_' + version"
      ],
      "execution_count": 28,
      "outputs": []
    },
    {
      "cell_type": "code",
      "metadata": {
        "id": "ZaVyBLM9nMUn"
      },
      "source": [
        "# create instance of ReRanker class\n",
        "r = ReRanker(\n",
        "    bert_model_path=bert_model_path, \n",
        "    test_queries=test_queries, relevance_label_df=relevance_label_df,\n",
        "    rank_field=rank_field\n",
        ")"
      ],
      "execution_count": 29,
      "outputs": []
    },
    {
      "cell_type": "code",
      "metadata": {
        "id": "ydEelLV-nMIn",
        "colab": {
          "base_uri": "https://localhost:8080/"
        },
        "outputId": "680c18db-14fa-4fc9-fc53-e221a8df01a7"
      },
      "source": [
        "# generate directory structure\n",
        "pred_output_path = output_path + \"/supervised/\" + rank_field + \"/\" + loss_type + \"/\" + query_type + \"/\" + neg_type\n",
        "make_dirs(pred_output_path)\n",
        "\n",
        "# next, generate BERT, Re-ranked top-k results and dump to files\n",
        "bert_query_by_question = r.get_bert_topk_preds(es_query_by_question)\n",
        "dump_to_json(bert_query_by_question, pred_output_path + '/bert_query_by_question.json')\n",
        "\n",
        "bert_query_by_answer = r.get_bert_topk_preds(es_query_by_answer)\n",
        "dump_to_json(bert_query_by_answer, pred_output_path + '/bert_query_by_answer.json')\n",
        "\n",
        "bert_query_by_question_answer = r.get_bert_topk_preds(es_query_by_question_answer)\n",
        "dump_to_json(bert_query_by_question_answer, pred_output_path + '/bert_query_by_question_answer.json')\n",
        "\n",
        "bert_query_by_question_answer_concat = r.get_bert_topk_preds(es_query_by_question_answer_concat)\n",
        "dump_to_json(bert_query_by_question_answer_concat, pred_output_path + '/bert_query_by_question_answer_concat.json')"
      ],
      "execution_count": 30,
      "outputs": [
        {
          "output_type": "stream",
          "text": [
            "2021-03-31 09:47:08 - Generating BERT top-k results ...\n",
            "2021-03-31 09:47:23 - Use pytorch device: cuda\n",
            "100%|██████████| 1183/1183 [12:48<00:00,  1.54it/s]\n",
            "2021-03-31 10:00:14 - Generating BERT top-k results ...\n",
            "2021-03-31 10:00:16 - Use pytorch device: cuda\n",
            "100%|██████████| 1183/1183 [12:51<00:00,  1.53it/s]\n",
            "2021-03-31 10:13:10 - Generating BERT top-k results ...\n",
            "2021-03-31 10:13:12 - Use pytorch device: cuda\n",
            "100%|██████████| 1183/1183 [12:51<00:00,  1.53it/s]\n",
            "2021-03-31 10:26:06 - Generating BERT top-k results ...\n",
            "2021-03-31 10:26:08 - Use pytorch device: cuda\n",
            "100%|██████████| 1183/1183 [12:53<00:00,  1.53it/s]\n"
          ],
          "name": "stderr"
        }
      ]
    },
    {
      "cell_type": "code",
      "metadata": {
        "id": "HbmSw6KqVuEH"
      },
      "source": [
        ""
      ],
      "execution_count": null,
      "outputs": []
    }
  ]
}