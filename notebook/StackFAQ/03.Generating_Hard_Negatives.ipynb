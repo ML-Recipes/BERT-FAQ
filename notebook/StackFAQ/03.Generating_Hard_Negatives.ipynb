{
 "cells": [
  {
   "cell_type": "markdown",
   "metadata": {
    "id": "JoWilTNGKcrO"
   },
   "source": [
    "**Generating Hard Negatives for StackFAQ**"
   ]
  },
  {
   "cell_type": "code",
   "execution_count": 1,
   "metadata": {
    "scrolled": true
   },
   "outputs": [
    {
     "name": "stdout",
     "output_type": "stream",
     "text": [
      "Requirement already satisfied: elasticsearch in /usr/local/lib/python3.8/site-packages (7.8.1)\n",
      "Requirement already satisfied: certifi in /usr/local/lib/python3.8/site-packages (from elasticsearch) (2020.6.20)\n",
      "Requirement already satisfied: urllib3>=1.21.1 in /usr/local/lib/python3.8/site-packages (from elasticsearch) (1.23)\n"
     ]
    }
   ],
   "source": [
    "!pip3 install elasticsearch"
   ]
  },
  {
   "cell_type": "code",
   "execution_count": 2,
   "metadata": {},
   "outputs": [
    {
     "name": "stdout",
     "output_type": "stream",
     "text": [
      "Requirement already satisfied: elasticsearch-dsl in /usr/local/lib/python3.8/site-packages (7.3.0)\n",
      "Requirement already satisfied: python-dateutil in /usr/local/lib/python3.8/site-packages (from elasticsearch-dsl) (2.8.1)\n",
      "Requirement already satisfied: six in /usr/local/lib/python3.8/site-packages (from elasticsearch-dsl) (1.15.0)\n",
      "Requirement already satisfied: elasticsearch<8.0.0,>=7.0.0 in /usr/local/lib/python3.8/site-packages (from elasticsearch-dsl) (7.8.1)\n",
      "Requirement already satisfied: certifi in /usr/local/lib/python3.8/site-packages (from elasticsearch<8.0.0,>=7.0.0->elasticsearch-dsl) (2020.6.20)\n",
      "Requirement already satisfied: urllib3>=1.21.1 in /usr/local/lib/python3.8/site-packages (from elasticsearch<8.0.0,>=7.0.0->elasticsearch-dsl) (1.23)\n"
     ]
    }
   ],
   "source": [
    "!pip3 install elasticsearch-dsl"
   ]
  },
  {
   "cell_type": "code",
   "execution_count": 3,
   "metadata": {
    "id": "jop-QMVBD5a1"
   },
   "outputs": [],
   "source": [
    "from elasticsearch import Elasticsearch\n",
    "\n",
    "import sys\n",
    "sys.path.insert(0, '../../../BERT-FAQ/')\n",
    "\n",
    "from evaluation import get_relevance_label_df\n",
    "from evaluation import get_relevance_label\n",
    "from hard_negatives_generator import Hard_Negatives_Generator\n",
    "\n",
    "# import utility functions\n",
    "from shared.utils import load_from_json\n",
    "from shared.utils import dump_to_json\n",
    "from shared.utils import make_dirs"
   ]
  },
  {
   "cell_type": "code",
   "execution_count": 4,
   "metadata": {},
   "outputs": [
    {
     "data": {
      "text/html": [
       "<div>\n",
       "<style scoped>\n",
       "    .dataframe tbody tr th:only-of-type {\n",
       "        vertical-align: middle;\n",
       "    }\n",
       "\n",
       "    .dataframe tbody tr th {\n",
       "        vertical-align: top;\n",
       "    }\n",
       "\n",
       "    .dataframe thead th {\n",
       "        text-align: right;\n",
       "    }\n",
       "</style>\n",
       "<table border=\"1\" class=\"dataframe\">\n",
       "  <thead>\n",
       "    <tr style=\"text-align: right;\">\n",
       "      <th></th>\n",
       "      <th>id</th>\n",
       "      <th>question</th>\n",
       "      <th>answer</th>\n",
       "      <th>query_type</th>\n",
       "      <th>label</th>\n",
       "    </tr>\n",
       "  </thead>\n",
       "  <tbody>\n",
       "    <tr>\n",
       "      <th>0</th>\n",
       "      <td>1</td>\n",
       "      <td>How to make font strikethrough on github.</td>\n",
       "      <td>Use ~~tildes around the words~~.</td>\n",
       "      <td>user_query</td>\n",
       "      <td>1</td>\n",
       "    </tr>\n",
       "    <tr>\n",
       "      <th>1</th>\n",
       "      <td>2</td>\n",
       "      <td>Is it possible to get  strikethrough letter fo...</td>\n",
       "      <td>Use ~~tildes around the words~~.</td>\n",
       "      <td>user_query</td>\n",
       "      <td>1</td>\n",
       "    </tr>\n",
       "    <tr>\n",
       "      <th>2</th>\n",
       "      <td>3</td>\n",
       "      <td>Making the text on github crossed out.</td>\n",
       "      <td>Use ~~tildes around the words~~.</td>\n",
       "      <td>user_query</td>\n",
       "      <td>1</td>\n",
       "    </tr>\n",
       "    <tr>\n",
       "      <th>3</th>\n",
       "      <td>4</td>\n",
       "      <td>Introducing stikethrough formatting on markdow...</td>\n",
       "      <td>Use ~~tildes around the words~~.</td>\n",
       "      <td>user_query</td>\n",
       "      <td>1</td>\n",
       "    </tr>\n",
       "    <tr>\n",
       "      <th>4</th>\n",
       "      <td>5</td>\n",
       "      <td>The &lt;s&gt; tag for font on github markdown doesnt...</td>\n",
       "      <td>Use ~~tildes around the words~~.</td>\n",
       "      <td>user_query</td>\n",
       "      <td>1</td>\n",
       "    </tr>\n",
       "    <tr>\n",
       "      <th>...</th>\n",
       "      <td>...</td>\n",
       "      <td>...</td>\n",
       "      <td>...</td>\n",
       "      <td>...</td>\n",
       "      <td>...</td>\n",
       "    </tr>\n",
       "    <tr>\n",
       "      <th>7898</th>\n",
       "      <td>7899</td>\n",
       "      <td>How do I get an m dash in google docs?</td>\n",
       "      <td>On Mac, just hold fn + option + -</td>\n",
       "      <td>user_query</td>\n",
       "      <td>1</td>\n",
       "    </tr>\n",
       "    <tr>\n",
       "      <th>7899</th>\n",
       "      <td>7900</td>\n",
       "      <td>Do google docs support the longer style dash (...</td>\n",
       "      <td>On Mac, just hold fn + option + -</td>\n",
       "      <td>user_query</td>\n",
       "      <td>1</td>\n",
       "    </tr>\n",
       "    <tr>\n",
       "      <th>7900</th>\n",
       "      <td>7901</td>\n",
       "      <td>I desperately need the em dash in google docs ...</td>\n",
       "      <td>On Mac, just hold fn + option + -</td>\n",
       "      <td>user_query</td>\n",
       "      <td>1</td>\n",
       "    </tr>\n",
       "    <tr>\n",
       "      <th>7901</th>\n",
       "      <td>7902</td>\n",
       "      <td>I require the longer (em) dash in google docs,...</td>\n",
       "      <td>On Mac, just hold fn + option + -</td>\n",
       "      <td>user_query</td>\n",
       "      <td>1</td>\n",
       "    </tr>\n",
       "    <tr>\n",
       "      <th>7902</th>\n",
       "      <td>7903</td>\n",
       "      <td>How to create an em dash in Google Drive (Goog...</td>\n",
       "      <td>On Mac, just hold fn + option + -</td>\n",
       "      <td>faq</td>\n",
       "      <td>1</td>\n",
       "    </tr>\n",
       "  </tbody>\n",
       "</table>\n",
       "<p>7903 rows × 5 columns</p>\n",
       "</div>"
      ],
      "text/plain": [
       "        id                                           question  \\\n",
       "0        1          How to make font strikethrough on github.   \n",
       "1        2  Is it possible to get  strikethrough letter fo...   \n",
       "2        3             Making the text on github crossed out.   \n",
       "3        4  Introducing stikethrough formatting on markdow...   \n",
       "4        5  The <s> tag for font on github markdown doesnt...   \n",
       "...    ...                                                ...   \n",
       "7898  7899             How do I get an m dash in google docs?   \n",
       "7899  7900  Do google docs support the longer style dash (...   \n",
       "7900  7901  I desperately need the em dash in google docs ...   \n",
       "7901  7902  I require the longer (em) dash in google docs,...   \n",
       "7902  7903  How to create an em dash in Google Drive (Goog...   \n",
       "\n",
       "                                 answer  query_type  label  \n",
       "0      Use ~~tildes around the words~~.  user_query      1  \n",
       "1      Use ~~tildes around the words~~.  user_query      1  \n",
       "2      Use ~~tildes around the words~~.  user_query      1  \n",
       "3      Use ~~tildes around the words~~.  user_query      1  \n",
       "4      Use ~~tildes around the words~~.  user_query      1  \n",
       "...                                 ...         ...    ...  \n",
       "7898  On Mac, just hold fn + option + -  user_query      1  \n",
       "7899  On Mac, just hold fn + option + -  user_query      1  \n",
       "7900  On Mac, just hold fn + option + -  user_query      1  \n",
       "7901  On Mac, just hold fn + option + -  user_query      1  \n",
       "7902  On Mac, just hold fn + option + -         faq      1  \n",
       "\n",
       "[7903 rows x 5 columns]"
      ]
     },
     "execution_count": 4,
     "metadata": {},
     "output_type": "execute_result"
    }
   ],
   "source": [
    "query_answer_pair_filepath = '../../../BERT-FAQ/data/StackFAQ/query_answer_pairs.json'\n",
    "relevance_label_df = get_relevance_label_df(query_answer_pair_filepath)\n",
    "relevance_label_df"
   ]
  },
  {
   "cell_type": "code",
   "execution_count": 5,
   "metadata": {},
   "outputs": [
    {
     "name": "stderr",
     "output_type": "stream",
     "text": [
      "100%|██████████| 125/125 [00:01<00:00, 96.01it/s]\n",
      "100%|██████████| 1374/1374 [00:13<00:00, 102.80it/s]\n"
     ]
    }
   ],
   "source": [
    "es = Elasticsearch([{'host':'localhost','port':9200}], http_auth=('username', 'password')) \n",
    "\n",
    "hng = Hard_Negatives_Generator(\n",
    "   es=es, index='stackfaq', query_by=['question_answer'], top_k=100, query_type='faq')\n",
    "hard_negatives_faq = hng.get_hard_negatives(relevance_label_df)\n",
    "dump_to_json(hard_negatives_faq, '../../../BERT-FAQ/data/StackFAQ/hard_negatives_faq.json')\n",
    "\n",
    "hng = Hard_Negatives_Generator(\n",
    "  es=es, index='stackfaq', query_by=['question_answer'], top_k=100, query_type='user_query')\n",
    "hard_negatives_user_query = hng.get_hard_negatives(relevance_label_df)\n",
    "dump_to_json(hard_negatives_user_query, '../../../BERT-FAQ/data/StackFAQ/hard_negatives_user_query.json')"
   ]
  }
 ],
 "metadata": {
  "accelerator": "GPU",
  "colab": {
   "collapsed_sections": [],
   "name": "01_Generating_Ground_Truth_Dataset_for_FAQIR.ipynb",
   "provenance": []
  },
  "kernelspec": {
   "display_name": "Python 3",
   "language": "python",
   "name": "python3"
  },
  "language_info": {
   "codemirror_mode": {
    "name": "ipython",
    "version": 3
   },
   "file_extension": ".py",
   "mimetype": "text/x-python",
   "name": "python",
   "nbconvert_exporter": "python",
   "pygments_lexer": "ipython3",
   "version": "3.8.5"
  }
 },
 "nbformat": 4,
 "nbformat_minor": 1
}
