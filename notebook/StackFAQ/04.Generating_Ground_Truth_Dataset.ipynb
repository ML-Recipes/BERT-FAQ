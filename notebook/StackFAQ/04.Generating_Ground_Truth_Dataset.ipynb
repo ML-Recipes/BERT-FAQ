{
 "cells": [
  {
   "cell_type": "markdown",
   "metadata": {
    "id": "JoWilTNGKcrO"
   },
   "source": [
    "**Generating Ground-truth FAQIR dataset for model training**"
   ]
  },
  {
   "cell_type": "code",
   "execution_count": 1,
   "metadata": {
    "id": "jop-QMVBD5a1"
   },
   "outputs": [],
   "source": [
    "import sys\n",
    "sys.path.insert(0, '../../../BERT-FAQ/')\n",
    "\n",
    "# import class to generate training data\n",
    "from training_data_generator import Training_Data_Generator\n",
    "\n",
    "# import utility functions\n",
    "from shared.utils import load_from_json\n",
    "from shared.utils import dump_to_json\n",
    "from shared.utils import make_dirs"
   ]
  },
  {
   "cell_type": "code",
   "execution_count": 2,
   "metadata": {
    "id": "V3my3-bmcPF6"
   },
   "outputs": [],
   "source": [
    "# read and parse FAQIRv1.0.xml\n",
    "filepath = '../../../BERT-FAQ/data/StackFAQ/query_answer_pairs.json'\n",
    "\n",
    "query_answer_pairs = load_from_json(filepath)"
   ]
  },
  {
   "cell_type": "code",
   "execution_count": 3,
   "metadata": {},
   "outputs": [
    {
     "data": {
      "text/plain": [
       "[{'id': '1',\n",
       "  'question': 'How to make font strikethrough on github.',\n",
       "  'answer': 'Use ~~tildes around the words~~.',\n",
       "  'query_type': 'user_query',\n",
       "  'label': 1},\n",
       " {'id': '2',\n",
       "  'question': 'Is it possible to get  strikethrough letter formatting on github markdown.',\n",
       "  'answer': 'Use ~~tildes around the words~~.',\n",
       "  'query_type': 'user_query',\n",
       "  'label': 1},\n",
       " {'id': '3',\n",
       "  'question': 'Making the text on github crossed out.',\n",
       "  'answer': 'Use ~~tildes around the words~~.',\n",
       "  'query_type': 'user_query',\n",
       "  'label': 1},\n",
       " {'id': '4',\n",
       "  'question': 'Introducing stikethrough formatting on markdown for github.',\n",
       "  'answer': 'Use ~~tildes around the words~~.',\n",
       "  'query_type': 'user_query',\n",
       "  'label': 1},\n",
       " {'id': '5',\n",
       "  'question': 'The <s> tag for font on github markdown doesnt work, is there an alternative?',\n",
       "  'answer': 'Use ~~tildes around the words~~.',\n",
       "  'query_type': 'user_query',\n",
       "  'label': 1}]"
      ]
     },
     "execution_count": 3,
     "metadata": {},
     "output_type": "execute_result"
    }
   ],
   "source": [
    "# check first 5 entries\n",
    "query_answer_pairs[:5]"
   ]
  },
  {
   "cell_type": "code",
   "execution_count": 4,
   "metadata": {},
   "outputs": [],
   "source": [
    "####################### Triplet Loss ########################\n",
    "# simple Type\n",
    "tdg = Training_Data_Generator(\n",
    "    random_seed=5, num_samples=24, hard_filepath='../../../BERT-FAQ/data/StackFAQ/', \n",
    "    neg_type='simple', query_type='faq', loss_type='triplet'\n",
    ")\n",
    "tdg.generate_triplet_dataset(\n",
    "    query_answer_pairs=query_answer_pairs, \n",
    "    output_path='../../../BERT-FAQ/data/StackFAQ/'\n",
    ")\n",
    "\n",
    "\n",
    "# hard Type\n",
    "tdg = Training_Data_Generator(\n",
    "    random_seed=5, num_samples=24, hard_filepath='../../../BERT-FAQ/data/StackFAQ/', \n",
    "    neg_type='hard', query_type='faq', loss_type='triplet'\n",
    ")\n",
    "tdg.generate_triplet_dataset(\n",
    "    query_answer_pairs=query_answer_pairs, \n",
    "    output_path='../../../BERT-FAQ/data/StackFAQ/'\n",
    ")\n",
    "\n",
    "\n",
    "tdg = Training_Data_Generator(\n",
    "    random_seed=5, num_samples=24, hard_filepath='../../../BERT-FAQ/data/StackFAQ/', \n",
    "    neg_type='simple', query_type='user_query', loss_type='triplet'\n",
    ")\n",
    "tdg.generate_triplet_dataset(\n",
    "    query_answer_pairs=query_answer_pairs, \n",
    "    output_path='../../../BERT-FAQ/data/StackFAQ/'\n",
    ")\n",
    "\n",
    "\n",
    "# hard Type\n",
    "tdg = Training_Data_Generator(\n",
    "    random_seed=5, num_samples=24, hard_filepath='../../../BERT-FAQ/data/StackFAQ/', \n",
    "    neg_type='hard', query_type='user_query', loss_type='triplet'\n",
    ")\n",
    "tdg.generate_triplet_dataset(\n",
    "    query_answer_pairs=query_answer_pairs, \n",
    "    output_path='../../../BERT-FAQ/data/StackFAQ/'\n",
    ")\n",
    "\n",
    "\n",
    "####################### Softmax Loss ########################\n",
    "# simple Type\n",
    "tdg = Training_Data_Generator(\n",
    "    random_seed=5, num_samples=24, hard_filepath='../../../BERT-FAQ/data/StackFAQ/', \n",
    "    neg_type='simple', query_type='faq', loss_type='softmax'\n",
    ")\n",
    "tdg.generate_triplet_dataset(\n",
    "    query_answer_pairs=query_answer_pairs, \n",
    "    output_path='../../../BERT-FAQ/data/StackFAQ/'\n",
    ")\n",
    "\n",
    "# hard Type\n",
    "tdg = Training_Data_Generator(\n",
    "    random_seed=5, num_samples=24, hard_filepath='../../../BERT-FAQ/data/StackFAQ/', \n",
    "    neg_type='hard', query_type='faq', loss_type='softmax'\n",
    ")\n",
    "tdg.generate_triplet_dataset(\n",
    "    query_answer_pairs=query_answer_pairs, \n",
    "    output_path='../../../BERT-FAQ/data/StackFAQ/'\n",
    ")\n",
    "\n",
    "# simple Type\n",
    "tdg = Training_Data_Generator(\n",
    "    random_seed=5, num_samples=24, hard_filepath='../../../BERT-FAQ/data/StackFAQ/', \n",
    "    neg_type='simple', query_type='user_query', loss_type='softmax'\n",
    ")\n",
    "tdg.generate_triplet_dataset(\n",
    "    query_answer_pairs=query_answer_pairs, \n",
    "    output_path='../../../BERT-FAQ/data/StackFAQ/'\n",
    ")\n",
    "\n",
    "# hard Type\n",
    "tdg = Training_Data_Generator(\n",
    "    random_seed=5, num_samples=24, hard_filepath='../../../BERT-FAQ/data/StackFAQ/', \n",
    "    neg_type='hard', query_type='user_query', loss_type='softmax'\n",
    ")\n",
    "tdg.generate_triplet_dataset(\n",
    "    query_answer_pairs=query_answer_pairs, \n",
    "    output_path='../../../BERT-FAQ/data/StackFAQ/'\n",
    ")\n"
   ]
  }
 ],
 "metadata": {
  "accelerator": "GPU",
  "colab": {
   "collapsed_sections": [],
   "name": "01_Generating_Ground_Truth_Dataset_for_FAQIR.ipynb",
   "provenance": []
  },
  "kernelspec": {
   "display_name": "Python 3",
   "language": "python",
   "name": "python3"
  },
  "language_info": {
   "codemirror_mode": {
    "name": "ipython",
    "version": 3
   },
   "file_extension": ".py",
   "mimetype": "text/x-python",
   "name": "python",
   "nbconvert_exporter": "python",
   "pygments_lexer": "ipython3",
   "version": "3.8.5"
  }
 },
 "nbformat": 4,
 "nbformat_minor": 1
}
