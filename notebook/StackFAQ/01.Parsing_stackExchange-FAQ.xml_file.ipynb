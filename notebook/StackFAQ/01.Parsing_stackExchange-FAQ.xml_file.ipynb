{
 "cells": [
  {
   "cell_type": "markdown",
   "metadata": {
    "id": "JoWilTNGKcrO"
   },
   "source": [
    "**Parsing & Extracting data for StackFAQ**"
   ]
  },
  {
   "cell_type": "code",
   "execution_count": 1,
   "metadata": {
    "id": "uE2oNEYgcMW0"
   },
   "outputs": [],
   "source": [
    "# install required libraries"
   ]
  },
  {
   "cell_type": "code",
   "execution_count": 2,
   "metadata": {
    "colab": {
     "base_uri": "https://localhost:8080/"
    },
    "id": "S0HJM9k_b7nH",
    "outputId": "85fa7bf0-7718-4cb8-ca2b-107ee4cbfb07",
    "scrolled": true
   },
   "outputs": [
    {
     "name": "stdout",
     "output_type": "stream",
     "text": [
      "Requirement already satisfied: xmltodict in /usr/local/lib/python3.8/site-packages (0.12.0)\r\n"
     ]
    }
   ],
   "source": [
    "!pip3 install xmltodict"
   ]
  },
  {
   "cell_type": "code",
   "execution_count": 3,
   "metadata": {
    "id": "jop-QMVBD5a1"
   },
   "outputs": [],
   "source": [
    "import sys\n",
    "sys.path.insert(0, '../../../BERT-FAQ/')\n",
    "\n",
    "# import parsers\n",
    "from parser.stackfaq import StackFAQ_XML_Parser\n",
    "\n",
    "# import utility functions\n",
    "from shared.utils import load_from_json\n",
    "from shared.utils import dump_to_json\n",
    "from shared.utils import make_dirs"
   ]
  },
  {
   "cell_type": "markdown",
   "metadata": {
    "id": "geF_0cu4oN7E"
   },
   "source": [
    "**Parsing & generating data from stackExchange-FAQ.xml file**\n",
    "\n",
    "\n"
   ]
  },
  {
   "cell_type": "code",
   "execution_count": 4,
   "metadata": {
    "id": "V3my3-bmcPF6"
   },
   "outputs": [],
   "source": [
    "# read and parse StackFAQv1.0.xml\n",
    "filepath = '../../../BERT-FAQ/data/StackFAQ/stackExchange-FAQ.xml'\n",
    "\n",
    "stackfaq_xml_parser = StackFAQ_XML_Parser()\n",
    "stackfaq_xml_parser.extract_data(filepath)"
   ]
  },
  {
   "cell_type": "code",
   "execution_count": 5,
   "metadata": {},
   "outputs": [
    {
     "data": {
      "text/plain": [
       "[{'id': '1',\n",
       "  'question': 'How to make font strikethrough on github.',\n",
       "  'answer': 'Use ~~tildes around the words~~.',\n",
       "  'query_type': 'user_query',\n",
       "  'label': 1},\n",
       " {'id': '2',\n",
       "  'question': 'Is it possible to get  strikethrough letter formatting on github markdown.',\n",
       "  'answer': 'Use ~~tildes around the words~~.',\n",
       "  'query_type': 'user_query',\n",
       "  'label': 1},\n",
       " {'id': '3',\n",
       "  'question': 'Making the text on github crossed out.',\n",
       "  'answer': 'Use ~~tildes around the words~~.',\n",
       "  'query_type': 'user_query',\n",
       "  'label': 1},\n",
       " {'id': '4',\n",
       "  'question': 'Introducing stikethrough formatting on markdown for github.',\n",
       "  'answer': 'Use ~~tildes around the words~~.',\n",
       "  'query_type': 'user_query',\n",
       "  'label': 1},\n",
       " {'id': '5',\n",
       "  'question': 'The <s> tag for font on github markdown doesnt work, is there an alternative?',\n",
       "  'answer': 'Use ~~tildes around the words~~.',\n",
       "  'query_type': 'user_query',\n",
       "  'label': 1}]"
      ]
     },
     "execution_count": 5,
     "metadata": {},
     "output_type": "execute_result"
    }
   ],
   "source": [
    "# get first 5 query_answer_pairs\n",
    "stackfaq_xml_parser.query_answer_pairs[:5]"
   ]
  },
  {
   "cell_type": "code",
   "execution_count": 6,
   "metadata": {},
   "outputs": [
    {
     "data": {
      "text/plain": [
       "7903"
      ]
     },
     "execution_count": 6,
     "metadata": {},
     "output_type": "execute_result"
    }
   ],
   "source": [
    "# check qa_pair_df\n",
    "stackfaq_xml_parser.num_query_answer_pairs"
   ]
  },
  {
   "cell_type": "code",
   "execution_count": 7,
   "metadata": {
    "id": "Xrt0bmmopISL"
   },
   "outputs": [],
   "source": [
    "# Dump data to json files\n",
    "\n",
    "dump_to_json(stackfaq_xml_parser.data, '../../../BERT-FAQ/data/StackFAQ/stackExchange-FAQ.json', sort_keys=False)\n",
    "dump_to_json(stackfaq_xml_parser.query_answer_pairs, '../../../BERT-FAQ/data/StackFAQ/query_answer_pairs.json', sort_keys=False)"
   ]
  }
 ],
 "metadata": {
  "accelerator": "GPU",
  "colab": {
   "collapsed_sections": [],
   "name": "01_Generating_Ground_Truth_Dataset_for_FAQIR.ipynb",
   "provenance": []
  },
  "kernelspec": {
   "display_name": "Python 3",
   "language": "python",
   "name": "python3"
  },
  "language_info": {
   "codemirror_mode": {
    "name": "ipython",
    "version": 3
   },
   "file_extension": ".py",
   "mimetype": "text/x-python",
   "name": "python",
   "nbconvert_exporter": "python",
   "pygments_lexer": "ipython3",
   "version": "3.8.5"
  }
 },
 "nbformat": 4,
 "nbformat_minor": 1
}
